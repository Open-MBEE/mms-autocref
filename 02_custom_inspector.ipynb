{
 "cells": [
  {
   "cell_type": "code",
   "execution_count": 1,
   "metadata": {},
   "outputs": [],
   "source": [
    "%load_ext autoreload\n",
    "%autoreload 2"
   ]
  },
  {
   "cell_type": "code",
   "execution_count": 2,
   "metadata": {},
   "outputs": [],
   "source": [
    "import time\n",
    "import uuid\n",
    "\n",
    "import matplotlib.pyplot as plt\n",
    "import networkx as nx\n",
    "\n",
    "from SPARQLWrapper import SPARQLWrapper, JSON, POST\n",
    "\n",
    "from req_analysis import *"
   ]
  },
  {
   "cell_type": "markdown",
   "metadata": {},
   "source": [
    "# Initialize connection to Neptune"
   ]
  },
  {
   "cell_type": "code",
   "execution_count": 3,
   "metadata": {},
   "outputs": [
    {
     "name": "stdout",
     "output_type": "stream",
     "text": [
      "env: NEPTUNE_CLUSTER_ENDPOINT=cae-mms-rdf-test-r5-2x.cluster-cw2hjngge6pe.us-gov-west-1.neptune.amazonaws.com\n",
      "env: NEPTUNE_CLUSTER_PORT=8182\n",
      "gremlin: ws://cae-mms-rdf-test-r5-2x.cluster-cw2hjngge6pe.us-gov-west-1.neptune.amazonaws.com:8182/gremlin\n"
     ]
    }
   ],
   "source": [
    "%run 'req_analysis/libs/neptune-util.py'\n",
    "%env NEPTUNE_CLUSTER_ENDPOINT=cae-mms-rdf-test-r5-2x.cluster-cw2hjngge6pe.us-gov-west-1.neptune.amazonaws.com\n",
    "%env NEPTUNE_CLUSTER_PORT=8182\n",
    "g = neptune.graphTraversal()"
   ]
  },
  {
   "cell_type": "markdown",
   "metadata": {},
   "source": [
    "# Initialize evaluation"
   ]
  },
  {
   "cell_type": "code",
   "execution_count": 4,
   "metadata": {},
   "outputs": [],
   "source": [
    "sparql = SPARQLWrapper(\"https://cae-mms-rdf-test-r5-2x.cluster-cw2hjngge6pe.us-gov-west-1.neptune.amazonaws.com:8182/sparql\")"
   ]
  },
  {
   "cell_type": "code",
   "execution_count": 5,
   "metadata": {},
   "outputs": [
    {
     "name": "stdout",
     "output_type": "stream",
     "text": [
      "== Status Code: 200 ==\n",
      "1951 reference targets found.\n"
     ]
    }
   ],
   "source": [
    "ref_targets = ReferenceTargets(sparql)\n",
    "ref_targets.init_table()"
   ]
  },
  {
   "cell_type": "code",
   "execution_count": 6,
   "metadata": {},
   "outputs": [
    {
     "name": "stdout",
     "output_type": "stream",
     "text": [
      "== Status Code: 200 ==\n",
      "3061 requirements found.\n"
     ]
    }
   ],
   "source": [
    "req_evaluator = RequirementEvaluator(sparql)\n",
    "req_evaluator.init_requirement_elements()"
   ]
  },
  {
   "cell_type": "markdown",
   "metadata": {},
   "source": [
    "# Custom evaluation of a requirement\n",
    "Change only `req_id` and verify the content of the requirement with the next cell"
   ]
  },
  {
   "cell_type": "code",
   "execution_count": 7,
   "metadata": {},
   "outputs": [],
   "source": [
    "req_id = '_831_331c90b6-9e17-4c46-8530-0fc345e0a22f_asi'"
   ]
  },
  {
   "cell_type": "code",
   "execution_count": 8,
   "metadata": {},
   "outputs": [
    {
     "data": {
      "text/plain": [
       "{'slot': {'type': 'uri',\n",
       "  'value': 'https://opencae.jpl.nasa.gov/mms/rdf/element/_831_331c90b6-9e17-4c46-8530-0fc345e0a22f_asi-slot-_11_5EAPbeta_be00301_1147873226632_528960_2311'},\n",
       " 'instance': {'type': 'uri',\n",
       "  'value': 'https://opencae.jpl.nasa.gov/mms/rdf/element/_831_331c90b6-9e17-4c46-8530-0fc345e0a22f_asi'},\n",
       " 'valueString': {'type': 'literal',\n",
       "  'value': '<html><body>\\n<span xmlns=\"http://www.w3.org/1999/xhtml\"><strong>[REQ-1-OAD-0185]</strong> The Observatory Safety system decomposition element is defined as follows:<br/>Associated WBS element(s): TMT.TEL.CONT.OSS<br/>The Observatory Safety System (OSS) contributes to the enforcement of safe conditions throughout the summit facility by continuously monitoring the state of connected equipment, systems and sensors and taking appropriate action as soon as an unsafe condition is detected. It is independent from and supplementary to any safety systems and functionality that is contained within individual subsystems. Based on one or more Programmable Logic Controllers (PLCs), it will interface with connected subsystems via a dedicated safety rated fieldbus based on EtherNet/IP; monitor interlock requests and possibly a defined subset of additional signals from all connected subsystems; monitor the emergency stop switches located throughout the summit facility; manage safety interlock enforcement between sub-systems; provide a user interface that provides fault and interlock reporting and reset capabilities: communicate the safety state of all connected subsystems to, at a minimum, the Data Management System (DMS) &amp; Executive Software (ESW).<br/>The OSS includes the Global Safety Controller (GSC), remote I/O modules, the fieldbus network and associated networking components such as switches, a Human-Machine Interface (HMI), racks, enclosures, power supplies, network cabling,  and all associated PLC software. It does not include the Local Safety Controllers, fire suppression systems, emergency lighting or the individual emergency stop buttons’ wiring and mounting hardware. These are the responsibility of the individual subsystems.</span></body></html>'}}"
      ]
     },
     "execution_count": 8,
     "metadata": {},
     "output_type": "execute_result"
    }
   ],
   "source": [
    "req_evaluator.get_requirement_by_id(req_id)"
   ]
  },
  {
   "cell_type": "code",
   "execution_count": null,
   "metadata": {},
   "outputs": [
    {
     "name": "stdout",
     "output_type": "stream",
     "text": [
      "[{'token': {'text': 'the Data Management System', 'pos': 'PROPN', 'token_id': 117, 'whitespace': ' '}, 'model_element': {'uri': 'https://opencae.jpl.nasa.gov/mms/rdf/element/_16566_c270fe21-19e7-4d0d-aa3c-31b76ad6ca8b', 'name': 'Data Management System', 'mms_id': '_16566_c270fe21-19e7-4d0d-aa3c-31b76ad6ca8b'}, 'score': 0.0013642900507215298}, {'token': {'text': 'the Data Management System', 'pos': 'PROPN', 'token_id': 117, 'whitespace': ' '}, 'model_element': {'uri': 'https://opencae.jpl.nasa.gov/mms/rdf/element/_18_0_2_876026b_1427661004426_556776_143472', 'name': 'Data Management System', 'mms_id': '_18_0_2_876026b_1427661004426_556776_143472'}, 'score': 0.0013642900507215298}, {'token': {'text': 'the Data Management System', 'pos': 'PROPN', 'token_id': 117, 'whitespace': ' '}, 'model_element': {'uri': 'https://opencae.jpl.nasa.gov/mms/rdf/element/_18_0_5_baa02e2_1450821286717_64577_153095', 'name': 'Data Management System', 'mms_id': '_18_0_5_baa02e2_1450821286717_64577_153095'}, 'score': 0.0013642900507215298}, {'token': {'text': 'Executive Software', 'pos': 'PROPN', 'token_id': 124, 'whitespace': ' '}, 'model_element': {'uri': 'https://opencae.jpl.nasa.gov/mms/rdf/element/_17_0_2_3_41e01aa_1382542702961_630808_58999', 'name': 'Executive Software', 'mms_id': '_17_0_2_3_41e01aa_1382542702961_630808_58999'}, 'score': -0.0}, {'token': {'text': 'network', 'pos': 'PROPN', 'token_id': 141, 'whitespace': ' '}, 'model_element': {'uri': 'https://opencae.jpl.nasa.gov/mms/rdf/element/_18_0_6_876026b_1478280404909_609058_173008', 'name': 'Network', 'mms_id': '_18_0_6_876026b_1478280404909_609058_173008'}, 'score': 1.5543122344752193e-17}, {'token': {'text': 'networking', 'pos': 'NOUN', 'token_id': 144, 'whitespace': ' '}, 'model_element': {'uri': 'https://opencae.jpl.nasa.gov/mms/rdf/element/MMS_1456189351681_ad25f82c-607f-4103-83b1-75f605015749', 'name': 'Networking', 'mms_id': 'MMS_1456189351681_ad25f82c-607f-4103-83b1-75f605015749'}, 'score': -2.2204460492503126e-17}] \n",
      "___________\n",
      "134619 comparaisons\n",
      "Time:  5.521441221237183\n",
      "0 1\n",
      "FAILURE in  1.723548173904419 s:   11\n",
      "_________\n",
      "0 2\n",
      "FAILURE in  1.0240252017974854 s:   11\n",
      "_________\n",
      "0 3\n",
      "FAILURE in  0.9674351215362549 s:   11\n",
      "_________\n",
      "0 4\n",
      "FAILURE in  0.8103480339050293 s:   11\n",
      "_________\n",
      "0 5\n",
      "Timeout: node_distance()\n",
      "DISTANCE: in 3.000271797180176 s  10\n",
      "_________\n",
      "1 2\n",
      "Timeout: node_distance()\n",
      "DISTANCE: in 3.0024139881134033 s  10\n",
      "_________\n",
      "1 3\n",
      "Timeout: node_distance()\n",
      "DISTANCE: in 3.0005898475646973 s  10\n",
      "_________\n",
      "1 4\n",
      "Timeout: node_distance()\n",
      "DISTANCE: in 3.0044870376586914 s  10\n",
      "_________\n",
      "1 5\n",
      "Timeout: node_distance()\n",
      "DISTANCE: in 3.003718852996826 s  10\n",
      "_________\n",
      "2 3\n",
      "Timeout: node_distance()\n",
      "DISTANCE: in 3.0005850791931152 s  10\n",
      "_________\n",
      "2 4\n",
      "Timeout: node_distance()\n",
      "DISTANCE: in 3.000314712524414 s  10\n",
      "_________\n",
      "2 5\n",
      "Timeout: node_distance()\n",
      "DISTANCE: in 3.003777027130127 s  10\n",
      "_________\n",
      "3 4\n",
      "Timeout: node_distance()\n",
      "DISTANCE: in 3.0026707649230957 s  10\n",
      "_________\n",
      "3 5\n",
      "Timeout: node_distance()\n",
      "DISTANCE: in 3.0007638931274414 s  10\n",
      "_________\n",
      "4 5\n",
      "Timeout: node_distance()\n",
      "DISTANCE: in 3.002504825592041 s  10\n",
      "_________\n",
      "_______________________\n",
      "MATCHES:\n",
      "Token:  the Data Management System\n",
      "Element:  Data Management System\n",
      "URI:  https://opencae.jpl.nasa.gov/mms/rdf/element/_16566_c270fe21-19e7-4d0d-aa3c-31b76ad6ca8b \n",
      "_________\n",
      "Token:  networking\n",
      "Element:  Networking\n",
      "URI:  https://opencae.jpl.nasa.gov/mms/rdf/element/MMS_1456189351681_ad25f82c-607f-4103-83b1-75f605015749 \n",
      "_________\n",
      "Token:  Executive Software\n",
      "Element:  Executive Software\n",
      "URI:  https://opencae.jpl.nasa.gov/mms/rdf/element/_17_0_2_3_41e01aa_1382542702961_630808_58999 \n",
      "_________\n",
      "Token:  network\n",
      "Element:  Network\n",
      "URI:  https://opencae.jpl.nasa.gov/mms/rdf/element/_18_0_6_876026b_1478280404909_609058_173008 \n",
      "_________\n"
     ]
    }
   ],
   "source": [
    "req_evaluator.evaluate_req_by_id(g, req_id, ref_targets, pprint=True)"
   ]
  },
  {
   "cell_type": "code",
   "execution_count": null,
   "metadata": {},
   "outputs": [],
   "source": []
  },
  {
   "cell_type": "markdown",
   "metadata": {},
   "source": [
    "## Custom evaluation of an input string"
   ]
  },
  {
   "cell_type": "code",
   "execution_count": null,
   "metadata": {},
   "outputs": [],
   "source": [
    "input_string = \"APS Mission shall be composed of an APS User\""
   ]
  },
  {
   "cell_type": "code",
   "execution_count": null,
   "metadata": {},
   "outputs": [],
   "source": [
    "custom_evaluation = Evaluation(uuid.uuid4().hex, input_string, ref_targets, sparql)"
   ]
  },
  {
   "cell_type": "code",
   "execution_count": null,
   "metadata": {},
   "outputs": [],
   "source": [
    "custom_evaluation.tokens"
   ]
  },
  {
   "cell_type": "code",
   "execution_count": 32,
   "metadata": {},
   "outputs": [
    {
     "data": {
      "text/plain": [
       "([{'token': {'text': 'APS', 'pos': 'PROPN', 'token_id': 7, 'whitespace': ' '},\n",
       "   'model_element': {'uri': 'https://opencae.jpl.nasa.gov/mms/rdf/element/_18_0_4_baa02e2_1442951241683_962934_211986',\n",
       "    'name': 'APS',\n",
       "    'mms_id': '_18_0_4_baa02e2_1442951241683_962934_211986'},\n",
       "   'score': -0.0}],\n",
       " 13657)"
      ]
     },
     "execution_count": 32,
     "metadata": {},
     "output_type": "execute_result"
    }
   ],
   "source": [
    "custom_evaluation.match_tokens(0.0035)"
   ]
  },
  {
   "cell_type": "code",
   "execution_count": null,
   "metadata": {},
   "outputs": [],
   "source": [
    "custom_evaluation.evaluate(g, pprint=True)"
   ]
  },
  {
   "cell_type": "code",
   "execution_count": null,
   "metadata": {},
   "outputs": [],
   "source": []
  }
 ],
 "metadata": {
  "kernelspec": {
   "display_name": "Python 3.7.6 64-bit ('cref': conda)",
   "language": "python",
   "name": "python37664bitcrefconda60993f1b3fc94ad08cb7094813fa06fe"
  },
  "language_info": {
   "codemirror_mode": {
    "name": "ipython",
    "version": 3
   },
   "file_extension": ".py",
   "mimetype": "text/x-python",
   "name": "python",
   "nbconvert_exporter": "python",
   "pygments_lexer": "ipython3",
   "version": "3.7.7"
  }
 },
 "nbformat": 4,
 "nbformat_minor": 4
}
