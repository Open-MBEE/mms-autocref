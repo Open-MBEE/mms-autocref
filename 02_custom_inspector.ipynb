{
 "cells": [
  {
   "cell_type": "code",
   "execution_count": 1,
   "metadata": {},
   "outputs": [],
   "source": [
    "%load_ext autoreload\n",
    "%autoreload 2"
   ]
  },
  {
   "cell_type": "code",
   "execution_count": 2,
   "metadata": {},
   "outputs": [],
   "source": [
    "import time\n",
    "import uuid\n",
    "\n",
    "import matplotlib.pyplot as plt\n",
    "import networkx as nx\n",
    "\n",
    "from SPARQLWrapper import SPARQLWrapper, JSON, POST\n",
    "\n",
    "from req_analysis import *"
   ]
  },
  {
   "cell_type": "markdown",
   "metadata": {},
   "source": [
    "# Initialize connection to Neptune"
   ]
  },
  {
   "cell_type": "code",
   "execution_count": 3,
   "metadata": {},
   "outputs": [
    {
     "name": "stdout",
     "output_type": "stream",
     "text": [
      "env: NEPTUNE_CLUSTER_ENDPOINT=100.65.51.106\n",
      "env: NEPTUNE_CLUSTER_PORT=8182\n",
      "gremlin: ws://100.65.51.106:8182/gremlin\n"
     ]
    }
   ],
   "source": [
    "%run 'req_analysis/libs/neptune-util.py'\n",
    "%env NEPTUNE_CLUSTER_ENDPOINT=100.65.51.106\n",
    "%env NEPTUNE_CLUSTER_PORT=8182\n",
    "g = neptune.graphTraversal()"
   ]
  },
  {
   "cell_type": "markdown",
   "metadata": {},
   "source": [
    "# Initialize evaluation"
   ]
  },
  {
   "cell_type": "code",
   "execution_count": 4,
   "metadata": {},
   "outputs": [],
   "source": [
    "sparql = SPARQLWrapper(\"https://cae-mms-rdf-test-r5-2x.cluster-cw2hjngge6pe.us-gov-west-1.neptune.amazonaws.com:8182/sparql\")"
   ]
  },
  {
   "cell_type": "code",
   "execution_count": 5,
   "metadata": {},
   "outputs": [
    {
     "name": "stdout",
     "output_type": "stream",
     "text": [
      "== Status Code: 200 ==\n",
      "1951 reference targets found.\n"
     ]
    }
   ],
   "source": [
    "ref_targets = ReferenceTargets(sparql)\n",
    "ref_targets.init_table()"
   ]
  },
  {
   "cell_type": "code",
   "execution_count": 6,
   "metadata": {},
   "outputs": [
    {
     "name": "stdout",
     "output_type": "stream",
     "text": [
      "== Status Code: 200 ==\n",
      "3061 requirements found.\n"
     ]
    }
   ],
   "source": [
    "req_evaluator = RequirementEvaluator(sparql)\n",
    "req_evaluator.init_requirement_elements()"
   ]
  },
  {
   "cell_type": "markdown",
   "metadata": {},
   "source": [
    "# Custom evaluation of an input string"
   ]
  },
  {
   "cell_type": "code",
   "execution_count": 7,
   "metadata": {},
   "outputs": [],
   "source": [
    "input_string = \"APS Mission shall be composed of an APS User\""
   ]
  },
  {
   "cell_type": "code",
   "execution_count": 8,
   "metadata": {},
   "outputs": [],
   "source": [
    "custom_evaluation = Evaluation(uuid.uuid4().hex, input_string, ref_targets, sparql)"
   ]
  },
  {
   "cell_type": "code",
   "execution_count": 9,
   "metadata": {},
   "outputs": [
    {
     "data": {
      "text/plain": [
       "[{'text': 'APS Mission', 'pos': 'PROPN', 'token_id': 0, 'whitespace': ' '},\n",
       " {'text': 'shall', 'pos': 'VERB', 'token_id': 1, 'whitespace': ' '},\n",
       " {'text': 'be', 'pos': 'AUX', 'token_id': 2, 'whitespace': ' '},\n",
       " {'text': 'composed', 'pos': 'VERB', 'token_id': 3, 'whitespace': ' '},\n",
       " {'text': 'of', 'pos': 'ADP', 'token_id': 4, 'whitespace': ' '},\n",
       " {'text': 'an APS User', 'pos': 'PROPN', 'token_id': 5, 'whitespace': ''}]"
      ]
     },
     "execution_count": 9,
     "metadata": {},
     "output_type": "execute_result"
    }
   ],
   "source": [
    "custom_evaluation.tokens"
   ]
  },
  {
   "cell_type": "code",
   "execution_count": 10,
   "metadata": {},
   "outputs": [
    {
     "name": "stdout",
     "output_type": "stream",
     "text": [
      "[{'token': {'text': 'APS Mission', 'pos': 'PROPN', 'token_id': 0, 'whitespace': ' '}, 'model_element': {'uri': 'https://opencae.jpl.nasa.gov/mms/rdf/element/_18_0_5_baa02e2_1450829462782_765401_166848', 'name': 'APS Mission', 'mms_id': '_18_0_5_baa02e2_1450829462782_765401_166848'}, 'score': -0.0}, {'token': {'text': 'APS Mission', 'pos': 'PROPN', 'token_id': 0, 'whitespace': ' '}, 'model_element': {'uri': 'https://opencae.jpl.nasa.gov/mms/rdf/element/_17_0_2_3_41e01aa_1389728637481_651557_61606', 'name': 'APS Mission', 'mms_id': '_17_0_2_3_41e01aa_1389728637481_651557_61606'}, 'score': -0.0}, {'token': {'text': 'an APS User', 'pos': 'PROPN', 'token_id': 5, 'whitespace': ''}, 'model_element': {'uri': 'https://opencae.jpl.nasa.gov/mms/rdf/element/_17_0_2_3_41e01aa_1389730769202_855584_72742', 'name': 'APS User', 'mms_id': '_17_0_2_3_41e01aa_1389730769202_855584_72742'}, 'score': 0.0}] \n",
      "___________\n",
      "3902 comparaisons\n",
      "Time:  0.15625524520874023\n",
      "0 1\n",
      "DISTANCE: in 2.9667069911956787 s  5\n",
      "_________\n",
      "0 2\n",
      "Timeout: node_distance()\n",
      "DISTANCE: in 3.0006418228149414 s  10\n",
      "_________\n",
      "1 2\n",
      "DISTANCE: in 1.8537437915802002 s  2\n",
      "_________\n",
      "_______________________\n",
      "MATCHES:\n",
      "Token:  APS Mission\n",
      "Element:  APS Mission\n",
      "URI:  https://opencae.jpl.nasa.gov/mms/rdf/element/_17_0_2_3_41e01aa_1389728637481_651557_61606 \n",
      "_________\n",
      "Token:  an APS User\n",
      "Element:  APS User\n",
      "URI:  https://opencae.jpl.nasa.gov/mms/rdf/element/_17_0_2_3_41e01aa_1389730769202_855584_72742 \n",
      "_________\n",
      "_______________________\n",
      "ALLOCATIONS:\n",
      "- {'uri': 'https://opencae.jpl.nasa.gov/mms/rdf/element/_17_0_2_3_41e01aa_1389728637481_651557_61606', 'name': 'APS Mission', 'mms_id': '_17_0_2_3_41e01aa_1389728637481_651557_61606'}\n",
      "- {'uri': 'https://opencae.jpl.nasa.gov/mms/rdf/element/_17_0_2_3_41e01aa_1389730769202_855584_72742', 'name': 'APS User', 'mms_id': '_17_0_2_3_41e01aa_1389730769202_855584_72742'}\n"
     ]
    },
    {
     "data": {
      "image/png": "[encoded data removed]",
      "text/plain": [
       "<Figure size 432x288 with 1 Axes>"
      ]
     },
     "metadata": {},
     "output_type": "display_data"
    }
   ],
   "source": [
    "custom_evaluation.evaluate(g, remove_stopwords=True, pprint=True)"
   ]
  },
  {
   "cell_type": "code",
   "execution_count": null,
   "metadata": {},
   "outputs": [],
   "source": []
  },
  {
   "cell_type": "code",
   "execution_count": null,
   "metadata": {},
   "outputs": [],
   "source": []
  },
  {
   "cell_type": "markdown",
   "metadata": {},
   "source": [
    "# Custom evaluation of a requirement\n",
    "Change only `req_id` and verify the content of the requirement with the next cell"
   ]
  },
  {
   "cell_type": "code",
   "execution_count": 28,
   "metadata": {},
   "outputs": [],
   "source": [
    "req_id = '_831_331c90b6-9e17-4c46-8530-0fc345e0a22f_asi'"
   ]
  },
  {
   "cell_type": "code",
   "execution_count": 29,
   "metadata": {},
   "outputs": [
    {
     "data": {
      "text/plain": [
       "{'slot': {'type': 'uri',\n",
       "  'value': 'https://opencae.jpl.nasa.gov/mms/rdf/element/_831_331c90b6-9e17-4c46-8530-0fc345e0a22f_asi-slot-_11_5EAPbeta_be00301_1147873226632_528960_2311'},\n",
       " 'instance': {'type': 'uri',\n",
       "  'value': 'https://opencae.jpl.nasa.gov/mms/rdf/element/_831_331c90b6-9e17-4c46-8530-0fc345e0a22f_asi'},\n",
       " 'valueString': {'type': 'literal',\n",
       "  'value': '<html><body>\\n<span xmlns=\"http://www.w3.org/1999/xhtml\"><strong>[REQ-1-OAD-0185]</strong> The Observatory Safety system decomposition element is defined as follows:<br/>Associated WBS element(s): TMT.TEL.CONT.OSS<br/>The Observatory Safety System (OSS) contributes to the enforcement of safe conditions throughout the summit facility by continuously monitoring the state of connected equipment, systems and sensors and taking appropriate action as soon as an unsafe condition is detected. It is independent from and supplementary to any safety systems and functionality that is contained within individual subsystems. Based on one or more Programmable Logic Controllers (PLCs), it will interface with connected subsystems via a dedicated safety rated fieldbus based on EtherNet/IP; monitor interlock requests and possibly a defined subset of additional signals from all connected subsystems; monitor the emergency stop switches located throughout the summit facility; manage safety interlock enforcement between sub-systems; provide a user interface that provides fault and interlock reporting and reset capabilities: communicate the safety state of all connected subsystems to, at a minimum, the Data Management System (DMS) &amp; Executive Software (ESW).<br/>The OSS includes the Global Safety Controller (GSC), remote I/O modules, the fieldbus network and associated networking components such as switches, a Human-Machine Interface (HMI), racks, enclosures, power supplies, network cabling,  and all associated PLC software. It does not include the Local Safety Controllers, fire suppression systems, emergency lighting or the individual emergency stop buttons’ wiring and mounting hardware. These are the responsibility of the individual subsystems.</span></body></html>'}}"
      ]
     },
     "execution_count": 29,
     "metadata": {},
     "output_type": "execute_result"
    }
   ],
   "source": [
    "req_evaluator.get_requirement_by_id(req_id)"
   ]
  },
  {
   "cell_type": "code",
   "execution_count": null,
   "metadata": {},
   "outputs": [
    {
     "name": "stdout",
     "output_type": "stream",
     "text": [
      "[{'token': {'text': 'the summit facility', 'pos': 'NOUN', 'token_id': 22, 'whitespace': ' '}, 'model_element': {'uri': 'https://opencae.jpl.nasa.gov/mms/rdf/element/_8f7cabc1-8e5f-4014-8c9c-7ff7b8b98955__1704_119f6b84-c733-45f6-8b52-02fd9d828288', 'name': 'Summit Facility', 'mms_id': '_8f7cabc1-8e5f-4014-8c9c-7ff7b8b98955__1704_119f6b84-c733-45f6-8b52-02fd9d828288'}, 'score': -2.886579864025407e-17}, {'token': {'text': 'the summit facility', 'pos': 'NOUN', 'token_id': 95, 'whitespace': ''}, 'model_element': {'uri': 'https://opencae.jpl.nasa.gov/mms/rdf/element/_8f7cabc1-8e5f-4014-8c9c-7ff7b8b98955__1704_119f6b84-c733-45f6-8b52-02fd9d828288', 'name': 'Summit Facility', 'mms_id': '_8f7cabc1-8e5f-4014-8c9c-7ff7b8b98955__1704_119f6b84-c733-45f6-8b52-02fd9d828288'}, 'score': -2.886579864025407e-17}, {'token': {'text': 'a user interface', 'pos': 'NOUN', 'token_id': 103, 'whitespace': ' '}, 'model_element': {'uri': 'https://opencae.jpl.nasa.gov/mms/rdf/element/MMS_1456193866622_b1ce86a9-b2e6-45f1-81ab-8da2d8b6d43b', 'name': 'User Interfaces', 'mms_id': 'MMS_1456193866622_b1ce86a9-b2e6-45f1-81ab-8da2d8b6d43b'}, 'score': 0.0034071592079221143}, {'token': {'text': 'the Data Management System', 'pos': 'PROPN', 'token_id': 117, 'whitespace': ' '}, 'model_element': {'uri': 'https://opencae.jpl.nasa.gov/mms/rdf/element/_16566_c270fe21-19e7-4d0d-aa3c-31b76ad6ca8b', 'name': 'Data Management System', 'mms_id': '_16566_c270fe21-19e7-4d0d-aa3c-31b76ad6ca8b'}, 'score': 0.0}, {'token': {'text': 'the Data Management System', 'pos': 'PROPN', 'token_id': 117, 'whitespace': ' '}, 'model_element': {'uri': 'https://opencae.jpl.nasa.gov/mms/rdf/element/_18_0_2_876026b_1427661004426_556776_143472', 'name': 'Data Management System', 'mms_id': '_18_0_2_876026b_1427661004426_556776_143472'}, 'score': 0.0}, {'token': {'text': 'the Data Management System', 'pos': 'PROPN', 'token_id': 117, 'whitespace': ' '}, 'model_element': {'uri': 'https://opencae.jpl.nasa.gov/mms/rdf/element/_18_0_5_baa02e2_1450821286717_64577_153095', 'name': 'Data Management System', 'mms_id': '_18_0_5_baa02e2_1450821286717_64577_153095'}, 'score': 0.0}, {'token': {'text': 'Executive Software', 'pos': 'PROPN', 'token_id': 124, 'whitespace': ' '}, 'model_element': {'uri': 'https://opencae.jpl.nasa.gov/mms/rdf/element/_17_0_2_3_41e01aa_1382542702961_630808_58999', 'name': 'Executive Software', 'mms_id': '_17_0_2_3_41e01aa_1382542702961_630808_58999'}, 'score': -0.0}, {'token': {'text': 'network', 'pos': 'PROPN', 'token_id': 141, 'whitespace': ' '}, 'model_element': {'uri': 'https://opencae.jpl.nasa.gov/mms/rdf/element/_18_0_6_876026b_1478280404909_609058_173008', 'name': 'Network', 'mms_id': '_18_0_6_876026b_1478280404909_609058_173008'}, 'score': 1.5543122344752193e-17}, {'token': {'text': 'networking', 'pos': 'NOUN', 'token_id': 144, 'whitespace': ' '}, 'model_element': {'uri': 'https://opencae.jpl.nasa.gov/mms/rdf/element/MMS_1456189351681_ad25f82c-607f-4103-83b1-75f605015749', 'name': 'Networking', 'mms_id': 'MMS_1456189351681_ad25f82c-607f-4103-83b1-75f605015749'}, 'score': -2.2204460492503126e-17}] \n",
      "___________\n",
      "134619 comparaisons\n",
      "Time:  5.835820913314819\n",
      "0 1\n",
      "The 2 model elements are the same\n",
      "0 2\n",
      "Timeout: node_distance()\n",
      "DISTANCE: in 3.0004608631134033 s  10\n",
      "_________\n",
      "0 3\n",
      "Timeout: node_distance()\n",
      "DISTANCE: in 3.001979112625122 s  10\n",
      "_________\n",
      "0 4\n",
      "Timeout: node_distance()\n",
      "DISTANCE: in 3.000523090362549 s  10\n",
      "_________\n",
      "0 5\n",
      "Timeout: node_distance()\n",
      "DISTANCE: in 3.001621961593628 s  10\n",
      "_________\n",
      "0 6\n",
      "Timeout: node_distance()\n",
      "DISTANCE: in 3.00189471244812 s  10\n",
      "_________\n",
      "0 7\n",
      "Timeout: node_distance()\n",
      "DISTANCE: in 3.003918170928955 s  10\n",
      "_________\n",
      "0 8\n"
     ]
    }
   ],
   "source": [
    "req_evaluator.evaluate_req_by_id(g, req_id, ref_targets, remove_stopwords=True, pprint=True)"
   ]
  },
  {
   "cell_type": "code",
   "execution_count": null,
   "metadata": {},
   "outputs": [],
   "source": []
  },
  {
   "cell_type": "code",
   "execution_count": null,
   "metadata": {},
   "outputs": [],
   "source": []
  }
 ],
 "metadata": {
  "kernelspec": {
   "display_name": "Python 3.7.6 64-bit ('cref': conda)",
   "language": "python",
   "name": "python37664bitcrefconda60993f1b3fc94ad08cb7094813fa06fe"
  },
  "language_info": {
   "codemirror_mode": {
    "name": "ipython",
    "version": 3
   },
   "file_extension": ".py",
   "mimetype": "text/x-python",
   "name": "python",
   "nbconvert_exporter": "python",
   "pygments_lexer": "ipython3",
   "version": "3.7.7"
  }
 },
 "nbformat": 4,
 "nbformat_minor": 4
}
