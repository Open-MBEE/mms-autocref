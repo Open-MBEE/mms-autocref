{
 "cells": [
  {
   "cell_type": "code",
   "execution_count": 1,
   "metadata": {},
   "outputs": [],
   "source": [
    "%load_ext autoreload\n",
    "%autoreload 2"
   ]
  },
  {
   "cell_type": "code",
   "execution_count": 2,
   "metadata": {},
   "outputs": [],
   "source": [
    "import time\n",
    "import uuid\n",
    "\n",
    "import matplotlib.pyplot as plt\n",
    "import networkx as nx\n",
    "\n",
    "from SPARQLWrapper import SPARQLWrapper, JSON, POST\n",
    "\n",
    "from req_analysis import *"
   ]
  },
  {
   "cell_type": "markdown",
   "metadata": {},
   "source": [
    "# Initialize connection to Neptune"
   ]
  },
  {
   "cell_type": "code",
   "execution_count": 3,
   "metadata": {},
   "outputs": [
    {
     "name": "stdout",
     "output_type": "stream",
     "text": [
      "env: NEPTUNE_CLUSTER_ENDPOINT=100.65.51.106\n",
      "env: NEPTUNE_CLUSTER_PORT=8182\n",
      "gremlin: ws://100.65.51.106:8182/gremlin\n"
     ]
    }
   ],
   "source": [
    "%run 'req_analysis/libs/neptune-util.py'\n",
    "%env NEPTUNE_CLUSTER_ENDPOINT=100.65.51.106\n",
    "%env NEPTUNE_CLUSTER_PORT=8182\n",
    "g = neptune.graphTraversal()"
   ]
  },
  {
   "cell_type": "markdown",
   "metadata": {},
   "source": [
    "# Initialize evaluation"
   ]
  },
  {
   "cell_type": "code",
   "execution_count": 4,
   "metadata": {},
   "outputs": [],
   "source": [
    "sparql = SPARQLWrapper(\"https://cae-mms-rdf-test-r5-2x.cluster-cw2hjngge6pe.us-gov-west-1.neptune.amazonaws.com:8182/sparql\")"
   ]
  },
  {
   "cell_type": "code",
   "execution_count": 5,
   "metadata": {},
   "outputs": [
    {
     "name": "stdout",
     "output_type": "stream",
     "text": [
      "== Status Code: 200 ==\n",
      "1951 reference targets found.\n"
     ]
    }
   ],
   "source": [
    "ref_targets = ReferenceTargets(sparql)\n",
    "ref_targets.init_table()"
   ]
  },
  {
   "cell_type": "code",
   "execution_count": 6,
   "metadata": {},
   "outputs": [
    {
     "name": "stdout",
     "output_type": "stream",
     "text": [
      "== Status Code: 200 ==\n",
      "3061 requirements found.\n"
     ]
    }
   ],
   "source": [
    "req_evaluator = RequirementEvaluator(sparql)\n",
    "req_evaluator.init_requirement_elements()"
   ]
  },
  {
   "cell_type": "markdown",
   "metadata": {},
   "source": [
    "# Custom evaluation of an input string"
   ]
  },
  {
   "cell_type": "code",
   "execution_count": 26,
   "metadata": {},
   "outputs": [],
   "source": [
    "input_string = \"\"\"<html><body>\\n<span xmlns=\"http://www.w3.org/1999/xhtml\"><strong>[REQ-1-OAD-0185]</strong> The Observatory Safety system decomposition element is defined as follows:<br/>Associated WBS element(s): TMT.TEL.CONT.OSS<br/>The Observatory Safety System (OSS) contributes to the enforcement of safe conditions throughout the summit facility by continuously monitoring the state of connected equipment, systems and sensors and taking appropriate action as soon as an unsafe condition is detected.\"\"\""
   ]
  },
  {
   "cell_type": "code",
   "execution_count": 27,
   "metadata": {},
   "outputs": [
    {
     "name": "stderr",
     "output_type": "stream",
     "text": [
      "/Users/chammard/cref/mms-autocref/req_analysis/evaluation.py:30: GuessedAtParserWarning: No parser was explicitly specified, so I'm using the best available HTML parser for this system (\"html.parser\"). This usually isn't a problem, but if you run this code on another system, or in a different virtual environment, it may use a different parser and behave differently.\n",
      "\n",
      "The code that caused this warning is on line 30 of the file /Users/chammard/cref/mms-autocref/req_analysis/evaluation.py. To get rid of this warning, pass the additional argument 'features=\"html.parser\"' to the BeautifulSoup constructor.\n",
      "\n",
      "  soup = BeautifulSoup(text)\n"
     ]
    }
   ],
   "source": [
    "custom_evaluation = Evaluation(uuid.uuid4().hex, input_string, ref_targets, sparql)"
   ]
  },
  {
   "cell_type": "code",
   "execution_count": 28,
   "metadata": {},
   "outputs": [
    {
     "data": {
      "text/plain": [
       "[{'text': '\\n[REQ-1-OAD-0185',\n",
       "  'pos': 'PROPN',\n",
       "  'token_id': 0,\n",
       "  'whitespace': ''},\n",
       " {'text': ']', 'pos': 'PUNCT', 'token_id': 1, 'whitespace': ' '},\n",
       " {'text': 'The Observatory Safety system decomposition element',\n",
       "  'pos': 'NOUN',\n",
       "  'token_id': 2,\n",
       "  'whitespace': ' '},\n",
       " {'text': 'is', 'pos': 'AUX', 'token_id': 3, 'whitespace': ' '},\n",
       " {'text': 'defined', 'pos': 'VERB', 'token_id': 4, 'whitespace': ' '},\n",
       " {'text': 'as', 'pos': 'SCONJ', 'token_id': 5, 'whitespace': ' '},\n",
       " {'text': 'follows', 'pos': 'VERB', 'token_id': 6, 'whitespace': ''},\n",
       " {'text': ':', 'pos': 'PUNCT', 'token_id': 7, 'whitespace': ''},\n",
       " {'text': 'Associated WBS', 'pos': 'PROPN', 'token_id': 8, 'whitespace': ' '},\n",
       " {'text': 'element(s', 'pos': 'PROPN', 'token_id': 9, 'whitespace': ''},\n",
       " {'text': ')', 'pos': 'PUNCT', 'token_id': 10, 'whitespace': ''},\n",
       " {'text': ':', 'pos': 'PUNCT', 'token_id': 11, 'whitespace': ' '},\n",
       " {'text': 'TMT.TEL.CONT.OSSThe Observatory Safety System',\n",
       "  'pos': 'PROPN',\n",
       "  'token_id': 12,\n",
       "  'whitespace': ' '},\n",
       " {'text': '(', 'pos': 'PUNCT', 'token_id': 13, 'whitespace': ''},\n",
       " {'text': 'OSS', 'pos': 'PROPN', 'token_id': 14, 'whitespace': ''},\n",
       " {'text': ')', 'pos': 'PUNCT', 'token_id': 15, 'whitespace': ' '},\n",
       " {'text': 'contributes', 'pos': 'VERB', 'token_id': 16, 'whitespace': ' '},\n",
       " {'text': 'to', 'pos': 'ADP', 'token_id': 17, 'whitespace': ' '},\n",
       " {'text': 'the enforcement', 'pos': 'NOUN', 'token_id': 18, 'whitespace': ' '},\n",
       " {'text': 'of', 'pos': 'ADP', 'token_id': 19, 'whitespace': ' '},\n",
       " {'text': 'safe conditions', 'pos': 'NOUN', 'token_id': 20, 'whitespace': ' '},\n",
       " {'text': 'throughout', 'pos': 'ADP', 'token_id': 21, 'whitespace': ' '},\n",
       " {'text': 'the summit facility',\n",
       "  'pos': 'NOUN',\n",
       "  'token_id': 22,\n",
       "  'whitespace': ' '},\n",
       " {'text': 'by', 'pos': 'ADP', 'token_id': 23, 'whitespace': ' '},\n",
       " {'text': 'continuously', 'pos': 'ADV', 'token_id': 24, 'whitespace': ' '},\n",
       " {'text': 'monitoring', 'pos': 'VERB', 'token_id': 25, 'whitespace': ' '},\n",
       " {'text': 'the state', 'pos': 'NOUN', 'token_id': 26, 'whitespace': ' '},\n",
       " {'text': 'of', 'pos': 'ADP', 'token_id': 27, 'whitespace': ' '},\n",
       " {'text': 'connected equipment',\n",
       "  'pos': 'NOUN',\n",
       "  'token_id': 28,\n",
       "  'whitespace': ''},\n",
       " {'text': ',', 'pos': 'PUNCT', 'token_id': 29, 'whitespace': ' '},\n",
       " {'text': 'systems', 'pos': 'NOUN', 'token_id': 30, 'whitespace': ' '},\n",
       " {'text': 'and', 'pos': 'CCONJ', 'token_id': 31, 'whitespace': ' '},\n",
       " {'text': 'sensors', 'pos': 'NOUN', 'token_id': 32, 'whitespace': ' '},\n",
       " {'text': 'and', 'pos': 'CCONJ', 'token_id': 33, 'whitespace': ' '},\n",
       " {'text': 'taking', 'pos': 'VERB', 'token_id': 34, 'whitespace': ' '},\n",
       " {'text': 'appropriate action',\n",
       "  'pos': 'NOUN',\n",
       "  'token_id': 35,\n",
       "  'whitespace': ' '},\n",
       " {'text': 'as', 'pos': 'ADV', 'token_id': 36, 'whitespace': ' '},\n",
       " {'text': 'soon', 'pos': 'ADV', 'token_id': 37, 'whitespace': ' '},\n",
       " {'text': 'as', 'pos': 'SCONJ', 'token_id': 38, 'whitespace': ' '},\n",
       " {'text': 'an unsafe condition',\n",
       "  'pos': 'NOUN',\n",
       "  'token_id': 39,\n",
       "  'whitespace': ' '},\n",
       " {'text': 'is', 'pos': 'AUX', 'token_id': 40, 'whitespace': ' '},\n",
       " {'text': 'detected', 'pos': 'VERB', 'token_id': 41, 'whitespace': ''},\n",
       " {'text': '.', 'pos': 'PUNCT', 'token_id': 42, 'whitespace': ''}]"
      ]
     },
     "execution_count": 28,
     "metadata": {},
     "output_type": "execute_result"
    }
   ],
   "source": [
    "custom_evaluation.tokens"
   ]
  },
  {
   "cell_type": "code",
   "execution_count": 15,
   "metadata": {},
   "outputs": [
    {
     "name": "stdout",
     "output_type": "stream",
     "text": [
      "[{'token': {'text': 'APS Mission', 'pos': 'PROPN', 'token_id': 0, 'whitespace': ' '}, 'model_element': {'uri': 'https://opencae.jpl.nasa.gov/mms/rdf/element/_18_0_5_baa02e2_1450829462782_765401_166848', 'name': 'APS Mission', 'mms_id': '_18_0_5_baa02e2_1450829462782_765401_166848'}, 'score': -0.0}, {'token': {'text': 'APS Mission', 'pos': 'PROPN', 'token_id': 0, 'whitespace': ' '}, 'model_element': {'uri': 'https://opencae.jpl.nasa.gov/mms/rdf/element/_17_0_2_3_41e01aa_1389728637481_651557_61606', 'name': 'APS Mission', 'mms_id': '_17_0_2_3_41e01aa_1389728637481_651557_61606'}, 'score': -0.0}, {'token': {'text': 'an APS User', 'pos': 'PROPN', 'token_id': 5, 'whitespace': ''}, 'model_element': {'uri': 'https://opencae.jpl.nasa.gov/mms/rdf/element/_17_0_2_3_41e01aa_1389730769202_855584_72742', 'name': 'APS User', 'mms_id': '_17_0_2_3_41e01aa_1389730769202_855584_72742'}, 'score': 0.0}] \n",
      "___________\n",
      "3902 comparaisons\n",
      "Time:  0.1723771095275879\n",
      "0 1\n",
      "DISTANCE: in 1.7189278602600098 s  5\n",
      "_________\n",
      "0 2\n",
      "Timeout: node_distance()\n",
      "DISTANCE: in 3.002121925354004 s  10\n",
      "_________\n",
      "1 2\n",
      "DISTANCE: in 0.13091588020324707 s  2\n",
      "_________\n",
      "_______________________\n",
      "MATCHES:\n",
      "Token:  APS Mission\n",
      "Element:  APS Mission\n",
      "URI:  https://opencae.jpl.nasa.gov/mms/rdf/element/_17_0_2_3_41e01aa_1389728637481_651557_61606 \n",
      "_________\n",
      "Token:  an APS User\n",
      "Element:  APS User\n",
      "URI:  https://opencae.jpl.nasa.gov/mms/rdf/element/_17_0_2_3_41e01aa_1389730769202_855584_72742 \n",
      "_________\n",
      "_______________________\n",
      "ALLOCATIONS:\n",
      "- {'uri': 'https://opencae.jpl.nasa.gov/mms/rdf/element/_17_0_2_3_41e01aa_1389728637481_651557_61606', 'name': 'APS Mission', 'mms_id': '_17_0_2_3_41e01aa_1389728637481_651557_61606'}\n",
      "- {'uri': 'https://opencae.jpl.nasa.gov/mms/rdf/element/_17_0_2_3_41e01aa_1389730769202_855584_72742', 'name': 'APS User', 'mms_id': '_17_0_2_3_41e01aa_1389730769202_855584_72742'}\n"
     ]
    },
    {
     "data": {
      "image/png": "[encoded data removed]",
      "text/plain": [
       "<Figure size 432x288 with 1 Axes>"
      ]
     },
     "metadata": {},
     "output_type": "display_data"
    }
   ],
   "source": [
    "custom_evaluation.evaluate(g, remove_stopwords=True, pprint=True)"
   ]
  },
  {
   "cell_type": "code",
   "execution_count": null,
   "metadata": {},
   "outputs": [],
   "source": []
  },
  {
   "cell_type": "code",
   "execution_count": null,
   "metadata": {},
   "outputs": [],
   "source": []
  },
  {
   "cell_type": "markdown",
   "metadata": {},
   "source": [
    "# Custom evaluation of a requirement\n",
    "Change only `req_id` and verify the content of the requirement with the next cell"
   ]
  },
  {
   "cell_type": "code",
   "execution_count": 7,
   "metadata": {},
   "outputs": [],
   "source": [
    "req_id = '_831_331c90b6-9e17-4c46-8530-0fc345e0a22f_asi'"
   ]
  },
  {
   "cell_type": "code",
   "execution_count": 8,
   "metadata": {},
   "outputs": [
    {
     "data": {
      "text/plain": [
       "{'slot': {'type': 'uri',\n",
       "  'value': 'https://opencae.jpl.nasa.gov/mms/rdf/element/_831_331c90b6-9e17-4c46-8530-0fc345e0a22f_asi-slot-_11_5EAPbeta_be00301_1147873226632_528960_2311'},\n",
       " 'instance': {'type': 'uri',\n",
       "  'value': 'https://opencae.jpl.nasa.gov/mms/rdf/element/_831_331c90b6-9e17-4c46-8530-0fc345e0a22f_asi'},\n",
       " 'valueString': {'type': 'literal',\n",
       "  'value': '<html><body>\\n<span xmlns=\"http://www.w3.org/1999/xhtml\"><strong>[REQ-1-OAD-0185]</strong> The Observatory Safety system decomposition element is defined as follows:<br/>Associated WBS element(s): TMT.TEL.CONT.OSS<br/>The Observatory Safety System (OSS) contributes to the enforcement of safe conditions throughout the summit facility by continuously monitoring the state of connected equipment, systems and sensors and taking appropriate action as soon as an unsafe condition is detected. It is independent from and supplementary to any safety systems and functionality that is contained within individual subsystems. Based on one or more Programmable Logic Controllers (PLCs), it will interface with connected subsystems via a dedicated safety rated fieldbus based on EtherNet/IP; monitor interlock requests and possibly a defined subset of additional signals from all connected subsystems; monitor the emergency stop switches located throughout the summit facility; manage safety interlock enforcement between sub-systems; provide a user interface that provides fault and interlock reporting and reset capabilities: communicate the safety state of all connected subsystems to, at a minimum, the Data Management System (DMS) &amp; Executive Software (ESW).<br/>The OSS includes the Global Safety Controller (GSC), remote I/O modules, the fieldbus network and associated networking components such as switches, a Human-Machine Interface (HMI), racks, enclosures, power supplies, network cabling,  and all associated PLC software. It does not include the Local Safety Controllers, fire suppression systems, emergency lighting or the individual emergency stop buttons’ wiring and mounting hardware. These are the responsibility of the individual subsystems.</span></body></html>'}}"
      ]
     },
     "execution_count": 8,
     "metadata": {},
     "output_type": "execute_result"
    }
   ],
   "source": [
    "req_evaluator.get_requirement_by_id(req_id)"
   ]
  },
  {
   "cell_type": "code",
   "execution_count": 9,
   "metadata": {},
   "outputs": [
    {
     "name": "stdout",
     "output_type": "stream",
     "text": [
      "[{'token': {'text': 'The Observatory Safety System', 'pos': 'PROPN', 'token_id': 14, 'whitespace': ' '}, 'model_element': {'uri': 'https://opencae.jpl.nasa.gov/mms/rdf/element/_18_0_5_f1d0357_1462834114886_542515_148655', 'name': 'Observatory Safety Systems', 'mms_id': '_18_0_5_f1d0357_1462834114886_542515_148655'}, 'score': 0.002457028494028205}, {'token': {'text': 'The Observatory Safety System', 'pos': 'PROPN', 'token_id': 14, 'whitespace': ' '}, 'model_element': {'uri': 'https://opencae.jpl.nasa.gov/mms/rdf/element/_4663af6e-6265-438d-87b8-74e1550518bf__905_643f5aef-34e6-4137-8c0f-d1cf4d9a9e7d', 'name': 'Observatory Safety System', 'mms_id': '_4663af6e-6265-438d-87b8-74e1550518bf__905_643f5aef-34e6-4137-8c0f-d1cf4d9a9e7d'}, 'score': 0.0011396016107172273}, {'token': {'text': 'the Data Management System', 'pos': 'PROPN', 'token_id': 119, 'whitespace': ' '}, 'model_element': {'uri': 'https://opencae.jpl.nasa.gov/mms/rdf/element/_16566_c270fe21-19e7-4d0d-aa3c-31b76ad6ca8b', 'name': 'Data Management System', 'mms_id': '_16566_c270fe21-19e7-4d0d-aa3c-31b76ad6ca8b'}, 'score': 0.0013642900507215298}, {'token': {'text': 'the Data Management System', 'pos': 'PROPN', 'token_id': 119, 'whitespace': ' '}, 'model_element': {'uri': 'https://opencae.jpl.nasa.gov/mms/rdf/element/_18_0_2_876026b_1427661004426_556776_143472', 'name': 'Data Management System', 'mms_id': '_18_0_2_876026b_1427661004426_556776_143472'}, 'score': 0.0013642900507215298}, {'token': {'text': 'the Data Management System', 'pos': 'PROPN', 'token_id': 119, 'whitespace': ' '}, 'model_element': {'uri': 'https://opencae.jpl.nasa.gov/mms/rdf/element/_18_0_5_baa02e2_1450821286717_64577_153095', 'name': 'Data Management System', 'mms_id': '_18_0_5_baa02e2_1450821286717_64577_153095'}, 'score': 0.0013642900507215298}, {'token': {'text': 'Executive Software', 'pos': 'PROPN', 'token_id': 126, 'whitespace': ' '}, 'model_element': {'uri': 'https://opencae.jpl.nasa.gov/mms/rdf/element/_17_0_2_3_41e01aa_1382542702961_630808_58999', 'name': 'Executive Software', 'mms_id': '_17_0_2_3_41e01aa_1382542702961_630808_58999'}, 'score': -0.0}] \n",
      "___________\n",
      "128766 comparaisons\n",
      "Time:  5.001978874206543\n",
      "0 1\n",
      "Timeout: node_distance()\n",
      "DISTANCE: in 3.002668857574463 s  10\n",
      "_________\n",
      "0 2\n",
      "Timeout: node_distance()\n",
      "DISTANCE: in 3.0056519508361816 s  10\n",
      "_________\n",
      "0 3\n",
      "Timeout: node_distance()\n",
      "DISTANCE: in 3.0055131912231445 s  10\n",
      "_________\n",
      "0 4\n",
      "DISTANCE: in 0.8617758750915527 s  2\n",
      "_________\n",
      "0 5\n",
      "DISTANCE: in 0.04631519317626953 s  2\n",
      "_________\n",
      "1 2\n",
      "Timeout: node_distance()\n",
      "DISTANCE: in 3.001250743865967 s  10\n",
      "_________\n",
      "1 3\n",
      "Timeout: node_distance()\n",
      "DISTANCE: in 3.005664110183716 s  10\n",
      "_________\n",
      "1 4\n",
      "Timeout: node_distance()\n",
      "DISTANCE: in 3.0056581497192383 s  10\n",
      "_________\n",
      "1 5\n",
      "Timeout: node_distance()\n",
      "DISTANCE: in 3.000469923019409 s  10\n",
      "_________\n",
      "2 3\n",
      "Timeout: node_distance()\n",
      "DISTANCE: in 3.000730037689209 s  10\n",
      "_________\n",
      "2 4\n",
      "Timeout: node_distance()\n",
      "DISTANCE: in 3.0055859088897705 s  10\n",
      "_________\n",
      "2 5\n",
      "Timeout: node_distance()\n",
      "DISTANCE: in 3.004760980606079 s  10\n",
      "_________\n",
      "3 4\n",
      "Timeout: node_distance()\n",
      "DISTANCE: in 3.005645990371704 s  10\n",
      "_________\n",
      "3 5\n",
      "Timeout: node_distance()\n",
      "DISTANCE: in 3.005634069442749 s  10\n",
      "_________\n",
      "4 5\n",
      "Timeout: node_distance()\n",
      "DISTANCE: in 3.0056259632110596 s  10\n",
      "_________\n",
      "_______________________\n",
      "MATCHES:\n",
      "Token:  The Observatory Safety System\n",
      "Element:  Observatory Safety Systems\n",
      "URI:  https://opencae.jpl.nasa.gov/mms/rdf/element/_18_0_5_f1d0357_1462834114886_542515_148655 \n",
      "_________\n",
      "Token:  the Data Management System\n",
      "Element:  Data Management System\n",
      "URI:  https://opencae.jpl.nasa.gov/mms/rdf/element/_18_0_5_baa02e2_1450821286717_64577_153095 \n",
      "_________\n",
      "Token:  Executive Software\n",
      "Element:  Executive Software\n",
      "URI:  https://opencae.jpl.nasa.gov/mms/rdf/element/_17_0_2_3_41e01aa_1382542702961_630808_58999 \n",
      "_________\n",
      "_______________________\n",
      "ALLOCATIONS:\n",
      "- {'uri': 'https://opencae.jpl.nasa.gov/mms/rdf/element/_18_0_5_f1d0357_1462834114886_542515_148655', 'name': 'Observatory Safety Systems', 'mms_id': '_18_0_5_f1d0357_1462834114886_542515_148655'}\n",
      "- {'uri': 'https://opencae.jpl.nasa.gov/mms/rdf/element/_18_0_5_baa02e2_1450821286717_64577_153095', 'name': 'Data Management System', 'mms_id': '_18_0_5_baa02e2_1450821286717_64577_153095'}\n",
      "- {'uri': 'https://opencae.jpl.nasa.gov/mms/rdf/element/_17_0_2_3_41e01aa_1382542702961_630808_58999', 'name': 'Executive Software', 'mms_id': '_17_0_2_3_41e01aa_1382542702961_630808_58999'}\n"
     ]
    },
    {
     "data": {
      "text/plain": [
       "<req_analysis.evaluation.Evaluation at 0x1a3261b2d0>"
      ]
     },
     "execution_count": 9,
     "metadata": {},
     "output_type": "execute_result"
    },
    {
     "data": {
      "image/png": "[encoded data removed]",
      "text/plain": [
       "<Figure size 432x288 with 1 Axes>"
      ]
     },
     "metadata": {},
     "output_type": "display_data"
    }
   ],
   "source": [
    "req_evaluator.evaluate_req_by_id(g, req_id, ref_targets, remove_stopwords=False, pprint=True)"
   ]
  },
  {
   "cell_type": "code",
   "execution_count": null,
   "metadata": {},
   "outputs": [],
   "source": []
  },
  {
   "cell_type": "code",
   "execution_count": null,
   "metadata": {},
   "outputs": [],
   "source": []
  }
 ],
 "metadata": {
  "kernelspec": {
   "display_name": "Python 3.7.6 64-bit ('cref': conda)",
   "language": "python",
   "name": "python37664bitcrefconda60993f1b3fc94ad08cb7094813fa06fe"
  },
  "language_info": {
   "codemirror_mode": {
    "name": "ipython",
    "version": 3
   },
   "file_extension": ".py",
   "mimetype": "text/x-python",
   "name": "python",
   "nbconvert_exporter": "python",
   "pygments_lexer": "ipython3",
   "version": "3.7.7"
  }
 },
 "nbformat": 4,
 "nbformat_minor": 4
}
