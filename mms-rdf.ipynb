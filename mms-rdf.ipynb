{
 "cells": [
  {
   "cell_type": "code",
   "execution_count": 1,
   "metadata": {},
   "outputs": [],
   "source": [
    "%load_ext autoreload\n",
    "%autoreload 2"
   ]
  },
  {
   "cell_type": "code",
   "execution_count": 2,
   "metadata": {},
   "outputs": [
    {
     "name": "stdout",
     "output_type": "stream",
     "text": [
      "env: NEPTUNE_CLUSTER_ENDPOINT=ec2-18-224-170-154.us-east-2.compute.amazonaws.com\n",
      "env: NEPTUNE_CLUSTER_PORT=8182\n",
      "gremlin: ws://ec2-18-224-170-154.us-east-2.compute.amazonaws.com:8182/gremlin\n"
     ]
    }
   ],
   "source": [
    "%run 'req_analysis/neptune-util.py'\n",
    "%env NEPTUNE_CLUSTER_ENDPOINT=ec2-18-224-170-154.us-east-2.compute.amazonaws.com\n",
    "%env NEPTUNE_CLUSTER_PORT=8182\n",
    "g = neptune.graphTraversal()"
   ]
  },
  {
   "cell_type": "code",
   "execution_count": 3,
   "metadata": {},
   "outputs": [],
   "source": [
    "import random"
   ]
  },
  {
   "cell_type": "code",
   "execution_count": 4,
   "metadata": {},
   "outputs": [],
   "source": [
    "from paris import paris\n",
    "from paris.utils import *"
   ]
  },
  {
   "cell_type": "code",
   "execution_count": 5,
   "metadata": {},
   "outputs": [],
   "source": [
    "import matplotlib.pyplot as plt\n",
    "import networkx as nx"
   ]
  },
  {
   "cell_type": "code",
   "execution_count": 6,
   "metadata": {},
   "outputs": [],
   "source": [
    "import time\n",
    "\n",
    "from req_analysis import Requirement"
   ]
  },
  {
   "cell_type": "code",
   "execution_count": 7,
   "metadata": {},
   "outputs": [],
   "source": [
    "from SPARQLWrapper import SPARQLWrapper, JSON\n",
    "\n",
    "sparql = SPARQLWrapper(\"http://ec2-18-224-170-154.us-east-2.compute.amazonaws.com:3001/sparql\")"
   ]
  },
  {
   "cell_type": "code",
   "execution_count": 8,
   "metadata": {},
   "outputs": [],
   "source": [
    "queryString = \"\"\"prefix rdf: <http://www.w3.org/1999/02/22-rdf-syntax-ns#>\n",
    "prefix rdfs: <http://www.w3.org/2000/01/rdf-schema#>\n",
    "prefix owl: <http://www.w3.org/2002/07/owl#>\n",
    "prefix xsd: <http://www.w3.org/2001/XMLSchema#>\n",
    "prefix xml: <http://www.w3.org/XML/1998/namespace/>\n",
    "prefix mms-ontology: <https://opencae.jpl.nasa.gov/mms/rdf/ontology/>\n",
    "prefix mms-graph: <https://opencae.jpl.nasa.gov/mms/rdf/graph/>\n",
    "prefix mms-property: <https://opencae.jpl.nasa.gov/mms/rdf/property/>\n",
    "prefix mms-class: <https://opencae.jpl.nasa.gov/mms/rdf/class/>\n",
    "prefix mms-element: <https://opencae.jpl.nasa.gov/mms/rdf/element/>\n",
    "prefix mms-artifact: <https://opencae.jpl.nasa.gov/mms/rdf/artifact/>\n",
    "prefix mms-index: <https://opencae.jpl.nasa.gov/mms/rdf/index/>\n",
    "prefix xmi: <http://www.omg.org/spec/XMI/20131001#>\n",
    "prefix uml: <http://www.omg.org/spec/UML/20161101#>\n",
    "prefix uml-model: <https://www.omg.org/spec/UML/20161101/UML.xmi#>\n",
    "prefix uml-primitives: <https://www.omg.org/spec/UML/20161101/PrimitiveTypes.xmi#>\n",
    "prefix uml-class: <https://opencae.jpl.nasa.gov/mms/rdf/uml-class/>\n",
    "prefix uml-property: <https://opencae.jpl.nasa.gov/mms/rdf/uml-property/>\n",
    "\n",
    "select * from mms-graph:data.tmt {\n",
    "    ?subject ?edge ?str .\n",
    "\n",
    "    values ?edge {\n",
    "        mms-property:bodyStringFromComment\n",
    "        mms-property:valueString\n",
    "    }\n",
    "    \n",
    "    filter(isLiteral(?str) && ?str != \"\")\n",
    "}\n",
    "\"\"\""
   ]
  },
  {
   "cell_type": "code",
   "execution_count": 9,
   "metadata": {},
   "outputs": [],
   "source": [
    "queryElements = \"\"\"prefix rdf: <http://www.w3.org/1999/02/22-rdf-syntax-ns#>\n",
    "prefix rdfs: <http://www.w3.org/2000/01/rdf-schema#>\n",
    "prefix owl: <http://www.w3.org/2002/07/owl#>\n",
    "prefix xsd: <http://www.w3.org/2001/XMLSchema#>\n",
    "prefix xml: <http://www.w3.org/XML/1998/namespace/>\n",
    "prefix mms-ontology: <https://opencae.jpl.nasa.gov/mms/rdf/ontology/>\n",
    "prefix mms-graph: <https://opencae.jpl.nasa.gov/mms/rdf/graph/>\n",
    "prefix mms-property: <https://opencae.jpl.nasa.gov/mms/rdf/property/>\n",
    "prefix mms-class: <https://opencae.jpl.nasa.gov/mms/rdf/class/>\n",
    "prefix mms-element: <https://opencae.jpl.nasa.gov/mms/rdf/element/>\n",
    "prefix mms-artifact: <https://opencae.jpl.nasa.gov/mms/rdf/artifact/>\n",
    "prefix mms-index: <https://opencae.jpl.nasa.gov/mms/rdf/index/>\n",
    "prefix xmi: <http://www.omg.org/spec/XMI/20131001#>\n",
    "prefix uml: <http://www.omg.org/spec/UML/20161101#>\n",
    "prefix uml-model: <https://www.omg.org/spec/UML/20161101/UML.xmi#>\n",
    "prefix uml-primitives: <https://www.omg.org/spec/UML/20161101/PrimitiveTypes.xmi#>\n",
    "prefix uml-class: <https://opencae.jpl.nasa.gov/mms/rdf/uml-class/>\n",
    "prefix uml-property: <https://opencae.jpl.nasa.gov/mms/rdf/uml-property/>\n",
    "\n",
    "select * from mms-graph:data.tmt {\n",
    "    ?element a/rdfs:subClassOf* uml-class:Class\n",
    "    {\n",
    "        ?element rdfs:label ?label \n",
    "    } union {\n",
    "        ?element mms-property:name ?label\n",
    "    }\n",
    "    \n",
    "    filter(isLiteral(?label) && ?label != \"\")\n",
    "}\n",
    "\"\"\""
   ]
  },
  {
   "cell_type": "code",
   "execution_count": 10,
   "metadata": {},
   "outputs": [],
   "source": [
    "sparql.setQuery(queryElements)\n",
    "\n",
    "sparql.setReturnFormat(JSON)\n",
    "el_results = sparql.query().convert()"
   ]
  },
  {
   "cell_type": "code",
   "execution_count": 11,
   "metadata": {},
   "outputs": [],
   "source": [
    "model_elements = []\n",
    "for result in el_results[\"results\"][\"bindings\"]:\n",
    "#     print(result['element']['value'], result['label']['value'])\n",
    "    model_elements.append(dict(uri=result['element']['value'], name=result['label']['value']))"
   ]
  },
  {
   "cell_type": "code",
   "execution_count": 12,
   "metadata": {},
   "outputs": [],
   "source": [
    "sparql.setQuery(queryString)\n",
    "\n",
    "sparql.setReturnFormat(JSON)\n",
    "results = sparql.query().convert()\n",
    "\n"
   ]
  },
  {
   "cell_type": "markdown",
   "metadata": {},
   "source": [
    "## Gremlin queries:\n",
    "g.V('_16785_7fb36acc-eea1-4ebd-adb5-646dabb347e5').valueMap(True).toList()[0] \\\n",
    "keys: T.id, T.label, '_label'"
   ]
  },
  {
   "cell_type": "code",
   "execution_count": 13,
   "metadata": {},
   "outputs": [],
   "source": [
    "summit='_4663af6e-6265-438d-87b8-74e1550518bf__65_6314a138-53b9-42a5-b488-9c23967ed889'\n",
    "enclosure='_18_0_6_f1d0357_1490143302007_461579_179266'\n",
    "mirror='_18_5_2_e64033a_1509475358071_810923_58742'\n",
    "aps_user='_17_0_2_3_41e01aa_1389730769202_855584_72742'\n",
    "aps_mission='_17_0_2_3_41e01aa_1389728637481_651557_61606'"
   ]
  },
  {
   "cell_type": "code",
   "execution_count": 13,
   "metadata": {},
   "outputs": [
    {
     "name": "stdout",
     "output_type": "stream",
     "text": [
      "Req ID:  https://opencae.jpl.nasa.gov/mms/rdf/element/_4663af6e-6265-438d-87b8-74e1550518bf__1015_e548608e-442a-4e4e-916c-f5c6dba77d99_asi-slot-_17_0_2_3_b4c02e1_1379368975825_138301_38788-slotvalue-0-literalstring \n",
      "Req text: <html><body>\n",
      "<span xmlns=\"http://www.w3.org/1999/xhtml\"><br/>(CCR24) Transponder based system added to improve reliability of detection.<br/>All sky cameras will patrol a large area around the observatory to ensure lasers are shut down before possible illumination of aircraft. Bore sighted camera field of view is immediately around projected laser beam</span></body></html>\n",
      "[{'token': {'text': 'reliability', 'pos': 'NOUN', 'token_id': 13}, 'model_element': {'uri': 'https://opencae.jpl.nasa.gov/mms/rdf/element/_8f7cabc1-8e5f-4014-8c9c-7ff7b8b98955__1747_c620c165-5139-4454-bab8-c5404a31995a', 'name': 'Reliability'}, 'score': 1.998401444325281e-17}, {'token': {'text': 'reliability', 'pos': 'NOUN', 'token_id': 13}, 'model_element': {'uri': 'https://opencae.jpl.nasa.gov/mms/rdf/element/_874_ed04f23b-a8b1-4fc2-b57f-d11fecfbcaf7', 'name': 'Reliability'}, 'score': 1.998401444325281e-17}, {'token': {'text': 'lasers', 'pos': 'NOUN', 'token_id': 23}, 'model_element': {'uri': 'https://opencae.jpl.nasa.gov/mms/rdf/element/_18_0_5_f1d0357_1463003441807_271913_148584', 'name': 'Laser'}, 'score': 0.013855509526361283}, {'token': {'text': 'laser', 'pos': 'NOUN', 'token_id': 41}, 'model_element': {'uri': 'https://opencae.jpl.nasa.gov/mms/rdf/element/_18_0_5_f1d0357_1463003441807_271913_148584', 'name': 'Laser'}, 'score': 4.440892098500625e-17}] \n",
      "___________\n"
     ]
    }
   ],
   "source": [
    "for result in results[\"results\"][\"bindings\"][700:2000]:\n",
    "    if str.startswith(result[\"str\"][\"value\"], \"<html>\"):\n",
    "            req_object = Requirement(result[\"subject\"][\"value\"], result[\"str\"][\"value\"])\n",
    "            matches = req_object.match_req_tokens(model_elements, 0.020)\n",
    "            if len(matches)>3 and len(matches)<5:\n",
    "                print('Req ID: ', result[\"subject\"][\"value\"], '\\nReq text:' , (result[\"str\"][\"value\"]))\n",
    "                print(matches, '\\n___________')\n",
    "                break"
   ]
  },
  {
   "cell_type": "code",
   "execution_count": 15,
   "metadata": {},
   "outputs": [
    {
     "name": "stdout",
     "output_type": "stream",
     "text": [
      "gremlin: ws://ec2-18-224-170-154.us-east-2.compute.amazonaws.com:8182/gremlin\n"
     ]
    },
    {
     "data": {
      "text/plain": [
       "[path[v[_18_5_3_e64033a_1517517345905_946202_22722], v[_18_5_3_e64033a_1517510196013_706005_18460], v[_18_0_5_c0402fd_1468273748052_698417_176773], v[_18_0_5_baa02e2_1457915731686_994645_149330]]]"
      ]
     },
     "execution_count": 15,
     "metadata": {},
     "output_type": "execute_result"
    }
   ],
   "source": [
    "g = neptune.graphTraversal()\n",
    "g.V('_18_5_3_e64033a_1517517345905_946202_22722').repeat(both().not_(hasId('master')).simplePath()).until(hasId('_4663af6e-6265-438d-87b8-74e1550518bf__10_a7ad0d07-fa64-40e7-a266-db3006b20dc5').or_().loops().is_(3)).path().limit(1).toList()"
   ]
  },
  {
   "cell_type": "code",
   "execution_count": 14,
   "metadata": {},
   "outputs": [
    {
     "name": "stdout",
     "output_type": "stream",
     "text": [
      "gremlin: ws://ec2-18-224-170-154.us-east-2.compute.amazonaws.com:8182/gremlin\n",
      "0 1\n",
      "{'uri': 'https://opencae.jpl.nasa.gov/mms/rdf/element/_8f7cabc1-8e5f-4014-8c9c-7ff7b8b98955__1747_c620c165-5139-4454-bab8-c5404a31995a', 'name': 'Reliability'} {'uri': 'https://opencae.jpl.nasa.gov/mms/rdf/element/_874_ed04f23b-a8b1-4fc2-b57f-d11fecfbcaf7', 'name': 'Reliability'}\n",
      "\n",
      "SUCCESS in  0.4347419738769531 s  3\n",
      "_________\n",
      "0 2\n",
      "{'uri': 'https://opencae.jpl.nasa.gov/mms/rdf/element/_8f7cabc1-8e5f-4014-8c9c-7ff7b8b98955__1747_c620c165-5139-4454-bab8-c5404a31995a', 'name': 'Reliability'} {'uri': 'https://opencae.jpl.nasa.gov/mms/rdf/element/_18_0_5_f1d0357_1463003441807_271913_148584', 'name': 'Laser'}\n",
      "FAILURE in  10.074721097946167 s:  \n",
      "_________\n",
      "0 3\n",
      "{'uri': 'https://opencae.jpl.nasa.gov/mms/rdf/element/_8f7cabc1-8e5f-4014-8c9c-7ff7b8b98955__1747_c620c165-5139-4454-bab8-c5404a31995a', 'name': 'Reliability'} {'uri': 'https://opencae.jpl.nasa.gov/mms/rdf/element/_18_0_5_f1d0357_1463003441807_271913_148584', 'name': 'Laser'}\n",
      "FAILURE in  0.024256229400634766 s:  \n",
      "_________\n",
      "1 2\n",
      "{'uri': 'https://opencae.jpl.nasa.gov/mms/rdf/element/_874_ed04f23b-a8b1-4fc2-b57f-d11fecfbcaf7', 'name': 'Reliability'} {'uri': 'https://opencae.jpl.nasa.gov/mms/rdf/element/_18_0_5_f1d0357_1463003441807_271913_148584', 'name': 'Laser'}\n",
      "FAILURE in  0.15288925170898438 s:  \n",
      "_________\n",
      "1 3\n",
      "{'uri': 'https://opencae.jpl.nasa.gov/mms/rdf/element/_874_ed04f23b-a8b1-4fc2-b57f-d11fecfbcaf7', 'name': 'Reliability'} {'uri': 'https://opencae.jpl.nasa.gov/mms/rdf/element/_18_0_5_f1d0357_1463003441807_271913_148584', 'name': 'Laser'}\n",
      "FAILURE in  0.14586496353149414 s:  \n",
      "_________\n",
      "2 3\n",
      "The 2 model elements are the same\n"
     ]
    },
    {
     "data": {
      "text/plain": [
       "<networkx.classes.graph.Graph at 0x1a41443dd0>"
      ]
     },
     "execution_count": 14,
     "metadata": {},
     "output_type": "execute_result"
    }
   ],
   "source": [
    "g = neptune.graphTraversal()\n",
    "req_object.init_match_subgraph(g)"
   ]
  },
  {
   "cell_type": "code",
   "execution_count": 17,
   "metadata": {},
   "outputs": [
    {
     "data": {
      "image/png": "[encoded data removed]",
      "text/plain": [
       "<Figure size 432x288 with 1 Axes>"
      ]
     },
     "metadata": {},
     "output_type": "display_data"
    }
   ],
   "source": [
    "pos = nx.circular_layout(req_object.req_subgraph)\n",
    "nx.draw_networkx_edge_labels(req_object.req_subgraph, pos)\n",
    "nx.draw_circular(req_object.req_subgraph, with_labels=True)"
   ]
  },
  {
   "cell_type": "code",
   "execution_count": 18,
   "metadata": {},
   "outputs": [],
   "source": [
    "import scipy"
   ]
  },
  {
   "cell_type": "code",
   "execution_count": 19,
   "metadata": {},
   "outputs": [],
   "source": [
    "dist_matrix = nx.to_numpy_matrix(req_object.req_subgraph)"
   ]
  },
  {
   "cell_type": "code",
   "execution_count": 20,
   "metadata": {},
   "outputs": [],
   "source": [
    "import scipy.spatial.distance as ssd\n",
    "# convert the redundant n*n square matrix form into a condensed nC2 array\n",
    "dist_array = ssd.squareform(dist_matrix) # distArray[{n choose 2}-{n-i choose 2} + (j-i-1)] is the distance between points i a"
   ]
  },
  {
   "cell_type": "code",
   "execution_count": 27,
   "metadata": {},
   "outputs": [],
   "source": [
    "linkage_ = scipy.cluster.hierarchy.linkage(dist_array, method='single', metric='euclidean')"
   ]
  },
  {
   "cell_type": "code",
   "execution_count": null,
   "metadata": {},
   "outputs": [],
   "source": []
  },
  {
   "cell_type": "code",
   "execution_count": null,
   "metadata": {},
   "outputs": [],
   "source": []
  },
  {
   "cell_type": "code",
   "execution_count": null,
   "metadata": {},
   "outputs": [],
   "source": []
  },
  {
   "cell_type": "code",
   "execution_count": 110,
   "metadata": {},
   "outputs": [
    {
     "name": "stdout",
     "output_type": "stream",
     "text": [
      "[[1.         0.         0.36288297 2.        ]\n",
      " [3.         2.         0.38573581 2.        ]\n",
      " [5.         4.         1.50276243 4.        ]]\n",
      "4\n",
      "[[1, 0], [2], [3]] [[1, 0], [3, 2]]\n"
     ]
    },
    {
     "data": {
      "text/plain": [
       "[[1, 0], [2], [3]]"
      ]
     },
     "execution_count": 110,
     "metadata": {},
     "output_type": "execute_result"
    }
   ],
   "source": [
    "req_object.match_clustering()"
   ]
  },
  {
   "cell_type": "code",
   "execution_count": 55,
   "metadata": {
    "collapsed": true,
    "jupyter": {
     "outputs_hidden": true
    }
   },
   "outputs": [
    {
     "data": {
      "image/png": "[encoded data removed]",
      "text/plain": [
       "<Figure size 432x288 with 1 Axes>"
      ]
     },
     "metadata": {},
     "output_type": "display_data"
    }
   ],
   "source": [
    "G2 = nx.Graph()\n",
    "G2.add_node(0)\n",
    "G2.add_node(1)\n",
    "G2.add_node(2)\n",
    "G2.add_edge(0,1, weight=0.09)\n",
    "G2.add_edge(0,2, weight=0.33)\n",
    "G2.add_edge(1,2, weight=10.0)\n",
    "\n",
    "pos = nx.circular_layout(G2)\n",
    "nx.draw_networkx_edge_labels(G2, pos)\n",
    "nx.draw_circular(G2, with_labels=True)"
   ]
  },
  {
   "cell_type": "code",
   "execution_count": 76,
   "metadata": {},
   "outputs": [
    {
     "data": {
      "text/plain": [
       "[[1, 0], [2], [3]]"
      ]
     },
     "execution_count": 76,
     "metadata": {},
     "output_type": "execute_result"
    }
   ],
   "source": [
    "select_clustering(paris.paris(G), 1)"
   ]
  },
  {
   "cell_type": "code",
   "execution_count": 107,
   "metadata": {},
   "outputs": [
    {
     "data": {
      "text/plain": [
       "4"
      ]
     },
     "execution_count": 107,
     "metadata": {},
     "output_type": "execute_result"
    }
   ],
   "source": [
    "G.number_of_nodes()"
   ]
  },
  {
   "cell_type": "code",
   "execution_count": 86,
   "metadata": {},
   "outputs": [
    {
     "data": {
      "image/png": "[encoded data removed]",
      "text/plain": [
       "<Figure size 1152x576 with 1 Axes>"
      ]
     },
     "metadata": {},
     "output_type": "display_data"
    }
   ],
   "source": [
    "pos = nx.spring_layout(G)\n",
    "plot_best_clusterings(G, D, 1, pos)"
   ]
  },
  {
   "cell_type": "code",
   "execution_count": null,
   "metadata": {},
   "outputs": [],
   "source": []
  },
  {
   "cell_type": "code",
   "execution_count": 57,
   "metadata": {},
   "outputs": [],
   "source": [
    "import spacy\n",
    "\n",
    "nlp_np = spacy.load(\"en_core_web_sm\")\n",
    "merge_nps = nlp_np.create_pipe(\"merge_noun_chunks\")\n",
    "nlp_np.add_pipe(merge_nps)\n"
   ]
  },
  {
   "cell_type": "code",
   "execution_count": 69,
   "metadata": {},
   "outputs": [
    {
     "name": "stdout",
     "output_type": "stream",
     "text": [
      "Hello INTJ 0\n",
      "my name NOUN 6\n",
      "is AUX 14\n",
      "the beautiful car NOUN 17\n",
      "of ADP 35\n",
      "New York PROPN 38\n",
      ". PUNCT 46\n",
      "Bye INTJ 48\n",
      "! PUNCT 51\n"
     ]
    }
   ],
   "source": [
    "for t in nlp_np(\"Hello my name is the beautiful car of New York. Bye!\"):\n",
    "    print(t.text, t.pos_, t.idx)"
   ]
  },
  {
   "cell_type": "code",
   "execution_count": null,
   "metadata": {},
   "outputs": [],
   "source": []
  },
  {
   "cell_type": "code",
   "execution_count": null,
   "metadata": {},
   "outputs": [],
   "source": []
  },
  {
   "cell_type": "code",
   "execution_count": null,
   "metadata": {},
   "outputs": [],
   "source": []
  },
  {
   "cell_type": "code",
   "execution_count": null,
   "metadata": {},
   "outputs": [],
   "source": []
  }
 ],
 "metadata": {
  "kernelspec": {
   "display_name": "Python [conda env:cref]",
   "language": "python",
   "name": "conda-env-cref-py"
  },
  "language_info": {
   "codemirror_mode": {
    "name": "ipython",
    "version": 3
   },
   "file_extension": ".py",
   "mimetype": "text/x-python",
   "name": "python",
   "nbconvert_exporter": "python",
   "pygments_lexer": "ipython3",
   "version": "3.7.6"
  }
 },
 "nbformat": 4,
 "nbformat_minor": 4
}
