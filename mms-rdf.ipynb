{
 "cells": [
  {
   "cell_type": "code",
   "execution_count": 1,
   "metadata": {},
   "outputs": [],
   "source": [
    "%load_ext autoreload\n",
    "%autoreload 2"
   ]
  },
  {
   "cell_type": "code",
   "execution_count": 2,
   "metadata": {},
   "outputs": [
    {
     "name": "stdout",
     "output_type": "stream",
     "text": [
      "env: NEPTUNE_CLUSTER_ENDPOINT=ec2-18-224-170-154.us-east-2.compute.amazonaws.com\n",
      "env: NEPTUNE_CLUSTER_PORT=8182\n",
      "gremlin: ws://ec2-18-224-170-154.us-east-2.compute.amazonaws.com:8182/gremlin\n"
     ]
    }
   ],
   "source": [
    "%run 'req_analysis/neptune-util.py'\n",
    "%env NEPTUNE_CLUSTER_ENDPOINT=ec2-18-224-170-154.us-east-2.compute.amazonaws.com\n",
    "%env NEPTUNE_CLUSTER_PORT=8182\n",
    "g = neptune.graphTraversal()"
   ]
  },
  {
   "cell_type": "code",
   "execution_count": 3,
   "metadata": {},
   "outputs": [],
   "source": [
    "import random"
   ]
  },
  {
   "cell_type": "code",
   "execution_count": 4,
   "metadata": {},
   "outputs": [],
   "source": [
    "import scipy\n",
    "import scipy.spatial.distance as ssd"
   ]
  },
  {
   "cell_type": "code",
   "execution_count": 5,
   "metadata": {},
   "outputs": [],
   "source": [
    "from paris import paris\n",
    "from paris.utils import *"
   ]
  },
  {
   "cell_type": "code",
   "execution_count": 6,
   "metadata": {},
   "outputs": [],
   "source": [
    "import matplotlib.pyplot as plt\n",
    "import networkx as nx"
   ]
  },
  {
   "cell_type": "code",
   "execution_count": 7,
   "metadata": {},
   "outputs": [],
   "source": [
    "import time\n",
    "\n",
    "from req_analysis import Requirement"
   ]
  },
  {
   "cell_type": "code",
   "execution_count": 8,
   "metadata": {},
   "outputs": [],
   "source": [
    "from SPARQLWrapper import SPARQLWrapper, JSON\n",
    "\n",
    "sparql = SPARQLWrapper(\"http://ec2-18-224-170-154.us-east-2.compute.amazonaws.com:3001/sparql\")"
   ]
  },
  {
   "cell_type": "code",
   "execution_count": 9,
   "metadata": {},
   "outputs": [],
   "source": [
    "queryString = \"\"\"prefix rdf: <http://www.w3.org/1999/02/22-rdf-syntax-ns#>\n",
    "prefix rdfs: <http://www.w3.org/2000/01/rdf-schema#>\n",
    "prefix owl: <http://www.w3.org/2002/07/owl#>\n",
    "prefix xsd: <http://www.w3.org/2001/XMLSchema#>\n",
    "prefix xml: <http://www.w3.org/XML/1998/namespace/>\n",
    "prefix mms-ontology: <https://opencae.jpl.nasa.gov/mms/rdf/ontology/>\n",
    "prefix mms-graph: <https://opencae.jpl.nasa.gov/mms/rdf/graph/>\n",
    "prefix mms-property: <https://opencae.jpl.nasa.gov/mms/rdf/property/>\n",
    "prefix mms-class: <https://opencae.jpl.nasa.gov/mms/rdf/class/>\n",
    "prefix mms-element: <https://opencae.jpl.nasa.gov/mms/rdf/element/>\n",
    "prefix mms-artifact: <https://opencae.jpl.nasa.gov/mms/rdf/artifact/>\n",
    "prefix mms-index: <https://opencae.jpl.nasa.gov/mms/rdf/index/>\n",
    "prefix xmi: <http://www.omg.org/spec/XMI/20131001#>\n",
    "prefix uml: <http://www.omg.org/spec/UML/20161101#>\n",
    "prefix uml-model: <https://www.omg.org/spec/UML/20161101/UML.xmi#>\n",
    "prefix uml-primitives: <https://www.omg.org/spec/UML/20161101/PrimitiveTypes.xmi#>\n",
    "prefix uml-class: <https://opencae.jpl.nasa.gov/mms/rdf/uml-class/>\n",
    "prefix uml-property: <https://opencae.jpl.nasa.gov/mms/rdf/uml-property/>\n",
    "\n",
    "select * from mms-graph:data.tmt {\n",
    "    ?subject ?edge ?str .\n",
    "\n",
    "    values ?edge {\n",
    "        mms-property:bodyStringFromComment\n",
    "        mms-property:valueString\n",
    "    }\n",
    "    \n",
    "    filter(contains(?str, \"REQ-\") && strlen(?str) > 20)\n",
    "    # filter(isLiteral(?str) && ?str != \"\")\n",
    "    \n",
    "    values ?subject { mms-element:_831_331c90b6-9e17-4c46-8530-0fc345e0a22f_asi-slot-_11_5EAPbeta_be00301_1147873226632_528960_2311-slotvalue-0-literalstring }\n",
    "}\n",
    "\"\"\""
   ]
  },
  {
   "cell_type": "code",
   "execution_count": 10,
   "metadata": {},
   "outputs": [],
   "source": [
    "queryElements = \"\"\"prefix rdf: <http://www.w3.org/1999/02/22-rdf-syntax-ns#>\n",
    "prefix rdfs: <http://www.w3.org/2000/01/rdf-schema#>\n",
    "prefix owl: <http://www.w3.org/2002/07/owl#>\n",
    "prefix xsd: <http://www.w3.org/2001/XMLSchema#>\n",
    "prefix xml: <http://www.w3.org/XML/1998/namespace/>\n",
    "prefix mms-ontology: <https://opencae.jpl.nasa.gov/mms/rdf/ontology/>\n",
    "prefix mms-graph: <https://opencae.jpl.nasa.gov/mms/rdf/graph/>\n",
    "prefix mms-property: <https://opencae.jpl.nasa.gov/mms/rdf/property/>\n",
    "prefix mms-class: <https://opencae.jpl.nasa.gov/mms/rdf/class/>\n",
    "prefix mms-element: <https://opencae.jpl.nasa.gov/mms/rdf/element/>\n",
    "prefix mms-artifact: <https://opencae.jpl.nasa.gov/mms/rdf/artifact/>\n",
    "prefix mms-index: <https://opencae.jpl.nasa.gov/mms/rdf/index/>\n",
    "prefix xmi: <http://www.omg.org/spec/XMI/20131001#>\n",
    "prefix uml: <http://www.omg.org/spec/UML/20161101#>\n",
    "prefix uml-model: <https://www.omg.org/spec/UML/20161101/UML.xmi#>\n",
    "prefix uml-primitives: <https://www.omg.org/spec/UML/20161101/PrimitiveTypes.xmi#>\n",
    "prefix uml-class: <https://opencae.jpl.nasa.gov/mms/rdf/uml-class/>\n",
    "prefix uml-property: <https://opencae.jpl.nasa.gov/mms/rdf/uml-property/>\n",
    "\n",
    "select * from mms-graph:data.tmt {\n",
    "    ?element a/rdfs:subClassOf* uml-class:Class\n",
    "    {\n",
    "        ?element rdfs:label ?label \n",
    "    } union {\n",
    "        ?element mms-property:name ?label\n",
    "    }\n",
    "    \n",
    "    filter(isLiteral(?label) && ?label != \"\")\n",
    "}\n",
    "\"\"\""
   ]
  },
  {
   "cell_type": "code",
   "execution_count": 11,
   "metadata": {},
   "outputs": [],
   "source": [
    "sparql.setQuery(queryElements)\n",
    "\n",
    "sparql.setReturnFormat(JSON)\n",
    "el_results = sparql.query().convert()"
   ]
  },
  {
   "cell_type": "code",
   "execution_count": 12,
   "metadata": {},
   "outputs": [],
   "source": [
    "model_elements = []\n",
    "for result in el_results[\"results\"][\"bindings\"]:\n",
    "#     print(result['element']['value'], result['label']['value'])\n",
    "    model_elements.append(dict(uri=result['element']['value'], name=result['label']['value']))"
   ]
  },
  {
   "cell_type": "code",
   "execution_count": 13,
   "metadata": {},
   "outputs": [],
   "source": [
    "sparql.setQuery(queryString)\n",
    "\n",
    "sparql.setReturnFormat(JSON)\n",
    "results = sparql.query().convert()\n",
    "\n"
   ]
  },
  {
   "cell_type": "markdown",
   "metadata": {},
   "source": [
    "## Gremlin queries:\n",
    "g.V('_16785_7fb36acc-eea1-4ebd-adb5-646dabb347e5').valueMap(True).toList()[0] \\\n",
    "keys: T.id, T.label, '_label'"
   ]
  },
  {
   "cell_type": "code",
   "execution_count": 15,
   "metadata": {},
   "outputs": [
    {
     "name": "stdout",
     "output_type": "stream",
     "text": [
      "Req ID:  https://opencae.jpl.nasa.gov/mms/rdf/element/_831_331c90b6-9e17-4c46-8530-0fc345e0a22f_asi-slot-_11_5EAPbeta_be00301_1147873226632_528960_2311-slotvalue-0-literalstring \n",
      "Req text: <html><body>\n",
      "<span xmlns=\"http://www.w3.org/1999/xhtml\"><strong>[REQ-1-OAD-0185]</strong> The Observatory Safety system decomposition element is defined as follows:<br/>Associated WBS element(s): TMT.TEL.CONT.OSS<br/>The Observatory Safety System (OSS) contributes to the enforcement of safe conditions throughout the summit facility by continuously monitoring the state of connected equipment, systems and sensors and taking appropriate action as soon as an unsafe condition is detected. It is independent from and supplementary to any safety systems and functionality that is contained within individual subsystems. Based on one or more Programmable Logic Controllers (PLCs), it will interface with connected subsystems via a dedicated safety rated fieldbus based on EtherNet/IP; monitor interlock requests and possibly a defined subset of additional signals from all connected subsystems; monitor the emergency stop switches located throughout the summit facility; manage safety interlock enforcement between sub-systems; provide a user interface that provides fault and interlock reporting and reset capabilities: communicate the safety state of all connected subsystems to, at a minimum, the Data Management System (DMS) &amp; Executive Software (ESW).<br/>The OSS includes the Global Safety Controller (GSC), remote I/O modules, the fieldbus network and associated networking components such as switches, a Human-Machine Interface (HMI), racks, enclosures, power supplies, network cabling,  and all associated PLC software. It does not include the Local Safety Controllers, fire suppression systems, emergency lighting or the individual emergency stop buttons’ wiring and mounting hardware. These are the responsibility of the individual subsystems.</span></body></html>\n",
      "[{'token': {'text': 'the Data Management System', 'pos': 'PROPN', 'token_id': 117}, 'model_element': {'uri': 'https://opencae.jpl.nasa.gov/mms/rdf/element/_18_0_5_baa02e2_1450821286717_64577_153095', 'name': 'Data Management System'}, 'score': 0.0013642900507215298}, {'token': {'text': 'the Data Management System', 'pos': 'PROPN', 'token_id': 117}, 'model_element': {'uri': 'https://opencae.jpl.nasa.gov/mms/rdf/element/_16566_c270fe21-19e7-4d0d-aa3c-31b76ad6ca8b', 'name': 'Data Management System'}, 'score': 0.0013642900507215298}, {'token': {'text': 'the Data Management System', 'pos': 'PROPN', 'token_id': 117}, 'model_element': {'uri': 'https://opencae.jpl.nasa.gov/mms/rdf/element/_18_0_2_876026b_1427661004426_556776_143472', 'name': 'Data Management System'}, 'score': 0.0013642900507215298}, {'token': {'text': 'Executive Software', 'pos': 'PROPN', 'token_id': 124}, 'model_element': {'uri': 'https://opencae.jpl.nasa.gov/mms/rdf/element/_17_0_2_3_41e01aa_1382542702961_630808_58999', 'name': 'Executive Software'}, 'score': -0.0}, {'token': {'text': 'network', 'pos': 'PROPN', 'token_id': 141}, 'model_element': {'uri': 'https://opencae.jpl.nasa.gov/mms/rdf/element/_18_0_6_876026b_1478280404909_609058_173008', 'name': 'Network'}, 'score': 1.5543122344752193e-17}, {'token': {'text': 'networking', 'pos': 'NOUN', 'token_id': 144}, 'model_element': {'uri': 'https://opencae.jpl.nasa.gov/mms/rdf/element/MMS_1456189351681_ad25f82c-607f-4103-83b1-75f605015749', 'name': 'Networking'}, 'score': -2.2204460492503126e-17}] \n",
      "___________\n"
     ]
    }
   ],
   "source": [
    "for result in results[\"results\"][\"bindings\"]:\n",
    "#     if str.startswith(result[\"str\"][\"value\"], \"<html>\"):\n",
    "    req_object = Requirement(result[\"subject\"][\"value\"], result[\"str\"][\"value\"])\n",
    "    matches = req_object.match_req_tokens(model_elements, 0.0030)\n",
    "    if len(matches):\n",
    "        print('Req ID: ', result[\"subject\"][\"value\"], '\\nReq text:' , (result[\"str\"][\"value\"]))\n",
    "        print(matches, '\\n___________')\n",
    "        break"
   ]
  },
  {
   "cell_type": "code",
   "execution_count": 16,
   "metadata": {},
   "outputs": [
    {
     "name": "stdout",
     "output_type": "stream",
     "text": [
      "gremlin: ws://ec2-18-224-170-154.us-east-2.compute.amazonaws.com:8182/gremlin\n",
      "0 1\n",
      "{'uri': 'https://opencae.jpl.nasa.gov/mms/rdf/element/_18_0_5_baa02e2_1450821286717_64577_153095', 'name': 'Data Management System'} {'uri': 'https://opencae.jpl.nasa.gov/mms/rdf/element/_16566_c270fe21-19e7-4d0d-aa3c-31b76ad6ca8b', 'name': 'Data Management System'}\n",
      "FAILURE in  1.7334558963775635 s:  \n",
      "_________\n",
      "0 2\n",
      "{'uri': 'https://opencae.jpl.nasa.gov/mms/rdf/element/_18_0_5_baa02e2_1450821286717_64577_153095', 'name': 'Data Management System'} {'uri': 'https://opencae.jpl.nasa.gov/mms/rdf/element/_18_0_2_876026b_1427661004426_556776_143472', 'name': 'Data Management System'}\n",
      "FAILURE in  2.593744993209839 s:  \n",
      "_________\n",
      "0 3\n",
      "{'uri': 'https://opencae.jpl.nasa.gov/mms/rdf/element/_18_0_5_baa02e2_1450821286717_64577_153095', 'name': 'Data Management System'} {'uri': 'https://opencae.jpl.nasa.gov/mms/rdf/element/_17_0_2_3_41e01aa_1382542702961_630808_58999', 'name': 'Executive Software'}\n",
      "\n",
      "SUCCESS in  0.3921349048614502 s  3\n",
      "_________\n",
      "0 4\n",
      "{'uri': 'https://opencae.jpl.nasa.gov/mms/rdf/element/_18_0_5_baa02e2_1450821286717_64577_153095', 'name': 'Data Management System'} {'uri': 'https://opencae.jpl.nasa.gov/mms/rdf/element/_18_0_6_876026b_1478280404909_609058_173008', 'name': 'Network'}\n",
      "FAILURE in  1.5186359882354736 s:  \n",
      "_________\n",
      "0 5\n",
      "{'uri': 'https://opencae.jpl.nasa.gov/mms/rdf/element/_18_0_5_baa02e2_1450821286717_64577_153095', 'name': 'Data Management System'} {'uri': 'https://opencae.jpl.nasa.gov/mms/rdf/element/MMS_1456189351681_ad25f82c-607f-4103-83b1-75f605015749', 'name': 'Networking'}\n",
      "FAILURE in  3.1073899269104004 s:  \n",
      "_________\n",
      "1 2\n",
      "{'uri': 'https://opencae.jpl.nasa.gov/mms/rdf/element/_16566_c270fe21-19e7-4d0d-aa3c-31b76ad6ca8b', 'name': 'Data Management System'} {'uri': 'https://opencae.jpl.nasa.gov/mms/rdf/element/_18_0_2_876026b_1427661004426_556776_143472', 'name': 'Data Management System'}\n",
      "FAILURE in  17.76121425628662 s:  \n",
      "_________\n",
      "1 3\n",
      "{'uri': 'https://opencae.jpl.nasa.gov/mms/rdf/element/_16566_c270fe21-19e7-4d0d-aa3c-31b76ad6ca8b', 'name': 'Data Management System'} {'uri': 'https://opencae.jpl.nasa.gov/mms/rdf/element/_17_0_2_3_41e01aa_1382542702961_630808_58999', 'name': 'Executive Software'}\n",
      "FAILURE in  17.88497805595398 s:  \n",
      "_________\n",
      "1 4\n",
      "{'uri': 'https://opencae.jpl.nasa.gov/mms/rdf/element/_16566_c270fe21-19e7-4d0d-aa3c-31b76ad6ca8b', 'name': 'Data Management System'} {'uri': 'https://opencae.jpl.nasa.gov/mms/rdf/element/_18_0_6_876026b_1478280404909_609058_173008', 'name': 'Network'}\n",
      "FAILURE in  19.034897089004517 s:  \n",
      "_________\n",
      "1 5\n",
      "{'uri': 'https://opencae.jpl.nasa.gov/mms/rdf/element/_16566_c270fe21-19e7-4d0d-aa3c-31b76ad6ca8b', 'name': 'Data Management System'} {'uri': 'https://opencae.jpl.nasa.gov/mms/rdf/element/MMS_1456189351681_ad25f82c-607f-4103-83b1-75f605015749', 'name': 'Networking'}\n",
      "FAILURE in  18.730533123016357 s:  \n",
      "_________\n",
      "2 3\n",
      "{'uri': 'https://opencae.jpl.nasa.gov/mms/rdf/element/_18_0_2_876026b_1427661004426_556776_143472', 'name': 'Data Management System'} {'uri': 'https://opencae.jpl.nasa.gov/mms/rdf/element/_17_0_2_3_41e01aa_1382542702961_630808_58999', 'name': 'Executive Software'}\n",
      "\n",
      "SUCCESS in  0.33824706077575684 s  5\n",
      "_________\n",
      "2 4\n",
      "{'uri': 'https://opencae.jpl.nasa.gov/mms/rdf/element/_18_0_2_876026b_1427661004426_556776_143472', 'name': 'Data Management System'} {'uri': 'https://opencae.jpl.nasa.gov/mms/rdf/element/_18_0_6_876026b_1478280404909_609058_173008', 'name': 'Network'}\n",
      "FAILURE in  1.1343889236450195 s:  \n",
      "_________\n",
      "2 5\n",
      "{'uri': 'https://opencae.jpl.nasa.gov/mms/rdf/element/_18_0_2_876026b_1427661004426_556776_143472', 'name': 'Data Management System'} {'uri': 'https://opencae.jpl.nasa.gov/mms/rdf/element/MMS_1456189351681_ad25f82c-607f-4103-83b1-75f605015749', 'name': 'Networking'}\n",
      "FAILURE in  8.015517950057983 s:  \n",
      "_________\n",
      "3 4\n",
      "{'uri': 'https://opencae.jpl.nasa.gov/mms/rdf/element/_17_0_2_3_41e01aa_1382542702961_630808_58999', 'name': 'Executive Software'} {'uri': 'https://opencae.jpl.nasa.gov/mms/rdf/element/_18_0_6_876026b_1478280404909_609058_173008', 'name': 'Network'}\n",
      "FAILURE in  4.104367256164551 s:  \n",
      "_________\n",
      "3 5\n",
      "{'uri': 'https://opencae.jpl.nasa.gov/mms/rdf/element/_17_0_2_3_41e01aa_1382542702961_630808_58999', 'name': 'Executive Software'} {'uri': 'https://opencae.jpl.nasa.gov/mms/rdf/element/MMS_1456189351681_ad25f82c-607f-4103-83b1-75f605015749', 'name': 'Networking'}\n",
      "FAILURE in  1.3938140869140625 s:  \n",
      "_________\n",
      "4 5\n",
      "{'uri': 'https://opencae.jpl.nasa.gov/mms/rdf/element/_18_0_6_876026b_1478280404909_609058_173008', 'name': 'Network'} {'uri': 'https://opencae.jpl.nasa.gov/mms/rdf/element/MMS_1456189351681_ad25f82c-607f-4103-83b1-75f605015749', 'name': 'Networking'}\n",
      "\n",
      "SUCCESS in  0.9651072025299072 s  9\n",
      "_________\n"
     ]
    },
    {
     "data": {
      "text/plain": [
       "<networkx.classes.graph.Graph at 0x1a29e0b790>"
      ]
     },
     "execution_count": 16,
     "metadata": {},
     "output_type": "execute_result"
    }
   ],
   "source": [
    "g = neptune.graphTraversal()\n",
    "req_object.init_match_subgraph(g)"
   ]
  },
  {
   "cell_type": "code",
   "execution_count": 150,
   "metadata": {},
   "outputs": [
    {
     "name": "stdout",
     "output_type": "stream",
     "text": [
      "gremlin: ws://ec2-18-224-170-154.us-east-2.compute.amazonaws.com:8182/gremlin\n"
     ]
    },
    {
     "data": {
      "text/plain": [
       "[path[v[MMS_1461009357890_d8449449-d16f-43c7-90a4-ee5744566f84], v[_17_0_1_232f03dc_1325612611695_581988_21583], v[MMS_1461009332936_4f59edac-f8f9-47e6-972b-fb68ca0f56ed]]]"
      ]
     },
     "execution_count": 150,
     "metadata": {},
     "output_type": "execute_result"
    }
   ],
   "source": [
    "g = neptune.graphTraversal()\n",
    "g.V('MMS_1461009357890_d8449449-d16f-43c7-90a4-ee5744566f84').repeat(both().simplePath()).until(hasId('MMS_1461009332936_4f59edac-f8f9-47e6-972b-fb68ca0f56ed').or_().loops().is_(8)).path().limit(1).toList()"
   ]
  },
  {
   "cell_type": "code",
   "execution_count": 17,
   "metadata": {},
   "outputs": [
    {
     "data": {
      "image/png": "[encoded data removed]",
      "text/plain": [
       "<Figure size 432x288 with 1 Axes>"
      ]
     },
     "metadata": {},
     "output_type": "display_data"
    }
   ],
   "source": [
    "pos = nx.circular_layout(req_object.req_subgraph)\n",
    "nx.draw_networkx_edge_labels(req_object.req_subgraph, pos)\n",
    "nx.draw_circular(req_object.req_subgraph, with_labels=True)"
   ]
  },
  {
   "cell_type": "code",
   "execution_count": null,
   "metadata": {},
   "outputs": [],
   "source": []
  },
  {
   "cell_type": "code",
   "execution_count": 32,
   "metadata": {},
   "outputs": [
    {
     "name": "stdout",
     "output_type": "stream",
     "text": [
      "[[ 0.  3.  3.  2.]\n",
      " [ 2.  6.  5.  3.]\n",
      " [ 4.  5.  9.  2.]\n",
      " [ 1.  7. 11.  4.]\n",
      " [ 8.  9. 11.  6.]]\n",
      "[[0, 3], [1], [2], [4], [5]]\n"
     ]
    }
   ],
   "source": [
    "match_clusters = req_object.match_clustering()"
   ]
  },
  {
   "cell_type": "markdown",
   "metadata": {},
   "source": [
    "### All matches:"
   ]
  },
  {
   "cell_type": "code",
   "execution_count": 33,
   "metadata": {},
   "outputs": [
    {
     "name": "stdout",
     "output_type": "stream",
     "text": [
      "{'token': {'text': 'the Data Management System', 'pos': 'PROPN', 'token_id': 117}, 'model_element': {'uri': 'https://opencae.jpl.nasa.gov/mms/rdf/element/_18_0_5_baa02e2_1450821286717_64577_153095', 'name': 'Data Management System'}, 'score': 0.0013642900507215298}\n",
      "None\n",
      "{'token': {'text': 'the Data Management System', 'pos': 'PROPN', 'token_id': 117}, 'model_element': {'uri': 'https://opencae.jpl.nasa.gov/mms/rdf/element/_16566_c270fe21-19e7-4d0d-aa3c-31b76ad6ca8b', 'name': 'Data Management System'}, 'score': 0.0013642900507215298}\n",
      "None\n",
      "{'token': {'text': 'the Data Management System', 'pos': 'PROPN', 'token_id': 117}, 'model_element': {'uri': 'https://opencae.jpl.nasa.gov/mms/rdf/element/_18_0_2_876026b_1427661004426_556776_143472', 'name': 'Data Management System'}, 'score': 0.0013642900507215298}\n",
      "None\n",
      "{'token': {'text': 'Executive Software', 'pos': 'PROPN', 'token_id': 124}, 'model_element': {'uri': 'https://opencae.jpl.nasa.gov/mms/rdf/element/_17_0_2_3_41e01aa_1382542702961_630808_58999', 'name': 'Executive Software'}, 'score': -0.0}\n",
      "None\n",
      "{'token': {'text': 'network', 'pos': 'PROPN', 'token_id': 141}, 'model_element': {'uri': 'https://opencae.jpl.nasa.gov/mms/rdf/element/_18_0_6_876026b_1478280404909_609058_173008', 'name': 'Network'}, 'score': 1.5543122344752193e-17}\n",
      "None\n",
      "{'token': {'text': 'networking', 'pos': 'NOUN', 'token_id': 144}, 'model_element': {'uri': 'https://opencae.jpl.nasa.gov/mms/rdf/element/MMS_1456189351681_ad25f82c-607f-4103-83b1-75f605015749', 'name': 'Networking'}, 'score': -2.2204460492503126e-17}\n",
      "None\n"
     ]
    }
   ],
   "source": [
    "for i in range(6):\n",
    "    print(print(req_object.req_subgraph.nodes(data=True)[i]))"
   ]
  },
  {
   "cell_type": "code",
   "execution_count": null,
   "metadata": {},
   "outputs": [],
   "source": []
  },
  {
   "cell_type": "markdown",
   "metadata": {},
   "source": [
    "### Matches within the biggest cluster:"
   ]
  },
  {
   "cell_type": "code",
   "execution_count": 34,
   "metadata": {},
   "outputs": [
    {
     "name": "stdout",
     "output_type": "stream",
     "text": [
      "the Data Management System https://opencae.jpl.nasa.gov/mms/rdf/element/_18_0_5_baa02e2_1450821286717_64577_153095\n",
      "Executive Software https://opencae.jpl.nasa.gov/mms/rdf/element/_17_0_2_3_41e01aa_1382542702961_630808_58999\n"
     ]
    }
   ],
   "source": [
    "for node_i in match_clusters[0]:\n",
    "    print(req_object.req_subgraph.nodes(data=True)[node_i]['token']['text'], req_object.req_subgraph.nodes(data=True)[node_i]['model_element']['uri'])"
   ]
  },
  {
   "cell_type": "code",
   "execution_count": null,
   "metadata": {},
   "outputs": [],
   "source": []
  },
  {
   "cell_type": "code",
   "execution_count": null,
   "metadata": {},
   "outputs": [],
   "source": []
  },
  {
   "cell_type": "code",
   "execution_count": null,
   "metadata": {},
   "outputs": [],
   "source": []
  },
  {
   "cell_type": "markdown",
   "metadata": {},
   "source": [
    "## Misc Testing"
   ]
  },
  {
   "cell_type": "code",
   "execution_count": 102,
   "metadata": {},
   "outputs": [],
   "source": [
    "summit='_4663af6e-6265-438d-87b8-74e1550518bf__65_6314a138-53b9-42a5-b488-9c23967ed889'\n",
    "enclosure='_18_0_6_f1d0357_1490143302007_461579_179266'\n",
    "mirror='_18_5_2_e64033a_1509475358071_810923_58742'\n",
    "aps_user='_17_0_2_3_41e01aa_1389730769202_855584_72742'\n",
    "aps_mission='_17_0_2_3_41e01aa_1389728637481_651557_61606'"
   ]
  },
  {
   "cell_type": "code",
   "execution_count": null,
   "metadata": {},
   "outputs": [],
   "source": [
    "g = neptune.graphTraversal()\n",
    "g.V('_18_5_3_e64033a_1517517345905_946202_22722').repeat(both().simplePath()).until(hasId('_4663af6e-6265-438d-87b8-74e1550518bf__10_a7ad0d07-fa64-40e7-a266-db3006b20dc5').or_().loops().is_(8)).path().limit(1).toList()"
   ]
  },
  {
   "cell_type": "code",
   "execution_count": 119,
   "metadata": {},
   "outputs": [
    {
     "name": "stdout",
     "output_type": "stream",
     "text": [
      "gremlin: ws://ec2-18-224-170-154.us-east-2.compute.amazonaws.com:8182/gremlin\n"
     ]
    },
    {
     "data": {
      "text/plain": [
       "[{'_label': ['Enclosure']}]"
      ]
     },
     "execution_count": 119,
     "metadata": {},
     "output_type": "execute_result"
    }
   ],
   "source": [
    "g = neptune.graphTraversal()\n",
    "g.V(enclosure).valueMap().toList()"
   ]
  },
  {
   "cell_type": "code",
   "execution_count": null,
   "metadata": {},
   "outputs": [],
   "source": []
  },
  {
   "cell_type": "code",
   "execution_count": 57,
   "metadata": {},
   "outputs": [],
   "source": [
    "import spacy\n",
    "\n",
    "nlp_np = spacy.load(\"en_core_web_sm\")\n",
    "merge_nps = nlp_np.create_pipe(\"merge_noun_chunks\")\n",
    "nlp_np.add_pipe(merge_nps)\n"
   ]
  },
  {
   "cell_type": "code",
   "execution_count": 69,
   "metadata": {},
   "outputs": [
    {
     "name": "stdout",
     "output_type": "stream",
     "text": [
      "Hello INTJ 0\n",
      "my name NOUN 6\n",
      "is AUX 14\n",
      "the beautiful car NOUN 17\n",
      "of ADP 35\n",
      "New York PROPN 38\n",
      ". PUNCT 46\n",
      "Bye INTJ 48\n",
      "! PUNCT 51\n"
     ]
    }
   ],
   "source": [
    "for t in nlp_np(\"Hello my name is the beautiful car of New York. Bye!\"):\n",
    "    print(t.text, t.pos_, t.idx)"
   ]
  },
  {
   "cell_type": "code",
   "execution_count": null,
   "metadata": {},
   "outputs": [],
   "source": []
  },
  {
   "cell_type": "code",
   "execution_count": null,
   "metadata": {},
   "outputs": [],
   "source": []
  },
  {
   "cell_type": "code",
   "execution_count": null,
   "metadata": {},
   "outputs": [],
   "source": []
  },
  {
   "cell_type": "code",
   "execution_count": null,
   "metadata": {},
   "outputs": [],
   "source": []
  }
 ],
 "metadata": {
  "kernelspec": {
   "display_name": "Python [conda env:cref]",
   "language": "python",
   "name": "conda-env-cref-py"
  },
  "language_info": {
   "codemirror_mode": {
    "name": "ipython",
    "version": 3
   },
   "file_extension": ".py",
   "mimetype": "text/x-python",
   "name": "python",
   "nbconvert_exporter": "python",
   "pygments_lexer": "ipython3",
   "version": "3.7.6"
  }
 },
 "nbformat": 4,
 "nbformat_minor": 4
}
