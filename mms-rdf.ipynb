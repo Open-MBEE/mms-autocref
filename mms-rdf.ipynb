{
 "cells": [
  {
   "cell_type": "code",
   "execution_count": 2,
   "metadata": {},
   "outputs": [],
   "source": [
    "%load_ext autoreload\n",
    "%autoreload 2"
   ]
  },
  {
   "cell_type": "code",
   "execution_count": 3,
   "metadata": {},
   "outputs": [],
   "source": [
    "import scipy\n",
    "import time\n",
    "import uuid\n",
    "\n",
    "import matplotlib.pyplot as plt\n",
    "import networkx as nx\n",
    "\n",
    "from SPARQLWrapper import SPARQLWrapper, JSON, POST\n",
    "\n",
    "from req_analysis import *"
   ]
  },
  {
   "cell_type": "markdown",
   "metadata": {},
   "source": [
    "# Initialize connection to Neptune"
   ]
  },
  {
   "cell_type": "code",
   "execution_count": 4,
   "metadata": {},
   "outputs": [
    {
     "name": "stdout",
     "output_type": "stream",
     "text": [
      "env: NEPTUNE_CLUSTER_ENDPOINT=100.65.51.106\n",
      "env: NEPTUNE_CLUSTER_PORT=8182\n",
      "gremlin: ws://100.65.51.106:8182/gremlin\n"
     ]
    }
   ],
   "source": [
    "%run 'req_analysis/neptune-util.py'\n",
    "%env NEPTUNE_CLUSTER_ENDPOINT=100.65.51.106\n",
    "%env NEPTUNE_CLUSTER_PORT=8182\n",
    "g = neptune.graphTraversal()"
   ]
  },
  {
   "cell_type": "markdown",
   "metadata": {},
   "source": [
    "# Query strings"
   ]
  },
  {
   "cell_type": "markdown",
   "metadata": {},
   "source": [
    "## Get queries"
   ]
  },
  {
   "cell_type": "code",
   "execution_count": 5,
   "metadata": {},
   "outputs": [],
   "source": [
    "query_requirements = \"\"\"prefix rdf: <http://www.w3.org/1999/02/22-rdf-syntax-ns#>\n",
    "prefix rdfs: <http://www.w3.org/2000/01/rdf-schema#>\n",
    "prefix owl: <http://www.w3.org/2002/07/owl#>\n",
    "prefix xsd: <http://www.w3.org/2001/XMLSchema#>\n",
    "prefix xml: <http://www.w3.org/XML/1998/namespace/>\n",
    "prefix mms-ontology: <https://opencae.jpl.nasa.gov/mms/rdf/ontology/>\n",
    "prefix mms-graph: <https://opencae.jpl.nasa.gov/mms/rdf/graph/>\n",
    "prefix mms-property: <https://opencae.jpl.nasa.gov/mms/rdf/property/>\n",
    "prefix mms-class: <https://opencae.jpl.nasa.gov/mms/rdf/class/>\n",
    "prefix mms-element: <https://opencae.jpl.nasa.gov/mms/rdf/element/>\n",
    "prefix mms-artifact: <https://opencae.jpl.nasa.gov/mms/rdf/artifact/>\n",
    "prefix mms-index: <https://opencae.jpl.nasa.gov/mms/rdf/index/>\n",
    "prefix xmi: <http://www.omg.org/spec/XMI/20131001#>\n",
    "prefix uml: <http://www.omg.org/spec/UML/20161101#>\n",
    "prefix uml-model: <https://www.omg.org/spec/UML/20161101/UML.xmi#>\n",
    "prefix uml-primitives: <https://www.omg.org/spec/UML/20161101/PrimitiveTypes.xmi#>\n",
    "prefix uml-class: <https://opencae.jpl.nasa.gov/mms/rdf/uml-class/>\n",
    "prefix uml-property: <https://opencae.jpl.nasa.gov/mms/rdf/uml-property/>\n",
    "\n",
    "# `Class` that has an `appliedStereotypeInstance` `InstanceSpecification` whose type is <<Requirement>> Stereotype (ID)\n",
    "select * from mms-graph:data.tmt {\n",
    "    # `Class` that has an `appliedStereotypeInstance`...\n",
    "    ?class a uml-class:Class ;\n",
    "        mms-property:appliedStereotypeInstance ?instance ;\n",
    "        .\n",
    "\n",
    "    # `InstanceSpecification`. Stereotype classifier and all slots\n",
    "    ?instance mms-property:slot ?slot ;\n",
    "        .\n",
    "\n",
    "    # Slot --> value\n",
    "    ?slot mms-property:valueValueSpecificationFromSlot ?slotValue ;\n",
    "        .\n",
    "\n",
    "    # value --> string\n",
    "    ?slotValue a uml-class:LiteralString ;\n",
    "        mms-property:valueString ?valueString ;\n",
    "        .\n",
    "\n",
    "    # filter string by those starting with html\n",
    "    filter(regex(?valueString, \\\"^\\\\\\\\s*<\\\"))\n",
    "}\n",
    "\"\"\""
   ]
  },
  {
   "cell_type": "code",
   "execution_count": 6,
   "metadata": {},
   "outputs": [],
   "source": [
    "query_elements = \"\"\"prefix rdf: <http://www.w3.org/1999/02/22-rdf-syntax-ns#>\n",
    "prefix rdfs: <http://www.w3.org/2000/01/rdf-schema#>\n",
    "prefix owl: <http://www.w3.org/2002/07/owl#>\n",
    "prefix xsd: <http://www.w3.org/2001/XMLSchema#>\n",
    "prefix xml: <http://www.w3.org/XML/1998/namespace/>\n",
    "prefix mms-ontology: <https://opencae.jpl.nasa.gov/mms/rdf/ontology/>\n",
    "prefix mms-graph: <https://opencae.jpl.nasa.gov/mms/rdf/graph/>\n",
    "prefix mms-property: <https://opencae.jpl.nasa.gov/mms/rdf/property/>\n",
    "prefix mms-class: <https://opencae.jpl.nasa.gov/mms/rdf/class/>\n",
    "prefix mms-element: <https://opencae.jpl.nasa.gov/mms/rdf/element/>\n",
    "prefix mms-artifact: <https://opencae.jpl.nasa.gov/mms/rdf/artifact/>\n",
    "prefix mms-index: <https://opencae.jpl.nasa.gov/mms/rdf/index/>\n",
    "prefix xmi: <http://www.omg.org/spec/XMI/20131001#>\n",
    "prefix uml: <http://www.omg.org/spec/UML/20161101#>\n",
    "prefix uml-model: <https://www.omg.org/spec/UML/20161101/UML.xmi#>\n",
    "prefix uml-primitives: <https://www.omg.org/spec/UML/20161101/PrimitiveTypes.xmi#>\n",
    "prefix uml-class: <https://opencae.jpl.nasa.gov/mms/rdf/uml-class/>\n",
    "prefix uml-property: <https://opencae.jpl.nasa.gov/mms/rdf/uml-property/>\n",
    "\n",
    "select * from mms-graph:data.tmt {\n",
    "    ?element a/rdfs:subClassOf* uml-class:Class\n",
    "    {\n",
    "        ?element rdfs:label ?label \n",
    "    } union {\n",
    "        ?element mms-property:name ?label\n",
    "    }\n",
    "    \n",
    "    filter(isLiteral(?label) && ?label != \"\")\n",
    "}\n",
    "\"\"\""
   ]
  },
  {
   "cell_type": "markdown",
   "metadata": {},
   "source": [
    "## Insert queries"
   ]
  },
  {
   "cell_type": "code",
   "execution_count": 7,
   "metadata": {},
   "outputs": [],
   "source": [
    "insert_blocks = \"\"\"\n",
    "<{input_uri}> mms-autocref:reference mms-autocref-i:Reference.{reference_uuid} ;\n",
    "  .\n",
    "\n",
    "mms-autocref-i:Reference.{reference_uuid}\n",
    "  a mms-autocref:Reference ;\n",
    "  mms-autocref:inputText \\\"\\\"\\\"{input_text}\\\"\\\"\\\" ;\n",
    "  mms-autocref:match <{match_uri}> ;\n",
    "  mms-autocref:token mms-autocref-i:Token.{reference_uuid} ;\n",
    "  .\n",
    "\n",
    "mms-autocref-i:Token.{reference_uuid}\n",
    "  a mms-autocref:Token ;\n",
    "  mms-autocref:tokenStart \"{token_position}\"^^xsd:integer ;\n",
    "  mms-autocref:tokenText \\\"\\\"\\\"{token_text}\\\"\\\"\\\" ;\n",
    "  .\n",
    "\"\"\""
   ]
  },
  {
   "cell_type": "code",
   "execution_count": 8,
   "metadata": {},
   "outputs": [],
   "source": [
    "insert_query = \"\"\"\n",
    "prefix mms-autocref: <https://opencae.jpl.nasa.gov/mms/rdf/autocref/>\n",
    "prefix mms-autocref-i: <https://opencae.jpl.nasa.gov/mms/rdf/autocref-instance/>\n",
    "\n",
    "insert data {{\n",
    "  graph <https://opencae.jpl.nasa.gov/mms/rdf/graph/autocref.tmt.test> {{\n",
    "    {insert_blocks}\n",
    "  }}\n",
    "}}\"\"\""
   ]
  },
  {
   "cell_type": "markdown",
   "metadata": {},
   "source": [
    "# Evaluation"
   ]
  },
  {
   "cell_type": "code",
   "execution_count": 9,
   "metadata": {},
   "outputs": [],
   "source": [
    "sparql = SPARQLWrapper(\"https://cae-mms-rdf-test-r5-2x.cluster-cw2hjngge6pe.us-gov-west-1.neptune.amazonaws.com:8182/sparql\")"
   ]
  },
  {
   "cell_type": "code",
   "execution_count": 10,
   "metadata": {},
   "outputs": [
    {
     "name": "stdout",
     "output_type": "stream",
     "text": [
      "== Status Code: 200 ==\n",
      "1344 reference targets found.\n"
     ]
    }
   ],
   "source": [
    "ref_targets = ReferenceTarget(sparql)\n",
    "ref_targets.init_table(query_elements)"
   ]
  },
  {
   "cell_type": "code",
   "execution_count": 11,
   "metadata": {},
   "outputs": [
    {
     "name": "stdout",
     "output_type": "stream",
     "text": [
      "== Status Code: 200 ==\n",
      "1509 requirements found.\n"
     ]
    }
   ],
   "source": [
    "req_evaluator = RequirementEvaluator(sparql)\n",
    "req_evaluator.init_requirement_elements(query_requirements)"
   ]
  },
  {
   "cell_type": "code",
   "execution_count": null,
   "metadata": {},
   "outputs": [
    {
     "name": "stdout",
     "output_type": "stream",
     "text": [
      "1 / 1509 Error with req:  _6661c442-ae86-4f4e-bfeb-45c7062378f6__972_074cb81e-8b17-473f-b21a-fd317b741c4b_asi-slot-_11_5EAPbeta_be00301_1147873226632_528960_2311-slotvalue-0-literalstring\n",
      "2 / 1509 Error with req:  _18809_f2082ebd-41e2-4952-8ee7-7f40b342927a_asi-slot-_18_0_2_b4c02e1_1422576771655_92674_84021-slotvalue-0-literalstring\n",
      "3 / 1509 Error with req:  _16701_b5ffe8a5-46e9-4d7d-9411-eb1445abbe57_asi-slot-_11_5EAPbeta_be00301_1147873226632_528960_2311-slotvalue-0-literalstring\n",
      "4 / 1509 Error with req:  _18809_f2082ebd-41e2-4952-8ee7-7f40b342927a_asi-slot-_11_5EAPbeta_be00301_1147873226632_528960_2311-slotvalue-0-literalstring\n",
      "5 / 1509 Error with req:  _1c8745d2-aa73-4371-b35a-bbb0e3124ce9__102_99ff74f0-cdcc-4b5c-81dd-40e01e39cd00_asi-slot-_11_5EAPbeta_be00301_1147873226632_528960_2311-slotvalue-0-literalstring\n",
      "6 / 1509 Error with req:  _8f7cabc1-8e5f-4014-8c9c-7ff7b8b98955__1370_c989809d-1e46-4446-9993-82dc0c83d770_asi-slot-_11_5EAPbeta_be00301_1147873226632_528960_2311-slotvalue-0-literalstring\n",
      "WARNING: Same age (0) and same token were merged\n",
      "Token: {'text': 'image quality', 'pos': 'NOUN', 'token_id': 21}\n",
      "7 / 1509 Evaluation done for req:  _4663af6e-6265-438d-87b8-74e1550518bf__6345_d7acc0f4-2776-4a73-9592-4854e99e2d24_asi-slot-_11_5EAPbeta_be00301_1147873226632_528960_2311-slotvalue-0-literalstring\n",
      "8 / 1509 Error with req:  _14047_768a736a-4f07-41f4-9172-66427616c5a1_asi-slot-_11_5EAPbeta_be00301_1147873226632_528960_2311-slotvalue-0-literalstring\n",
      "9 / 1509 Error with req:  _4663af6e-6265-438d-87b8-74e1550518bf__6345_d7acc0f4-2776-4a73-9592-4854e99e2d24_asi-slot-_17_0_2_3_b4c02e1_1380209973757_201523_39672-slotvalue-0-literalstring\n",
      "10 / 1509 Error with req:  _18793_3dbb4727-eec9-414d-8155-aaf65be488a6_asi-slot-_18_0_2_b4c02e1_1422576771655_92674_84021-slotvalue-0-literalstring\n",
      "11 / 1509 Error with req:  _4663af6e-6265-438d-87b8-74e1550518bf__43_1eed1aa0-1855-4817-b616-e409f3716341_asi-slot-_18_0_2_b4c02e1_1422576771659_877428_84042-slotvalue-0-literalstring\n"
     ]
    }
   ],
   "source": [
    "req_evaluator.evaluate_all_requirements(g, ref_targets, insert_blocks, insert_query)"
   ]
  },
  {
   "cell_type": "code",
   "execution_count": 23,
   "metadata": {},
   "outputs": [],
   "source": [
    "req_list = [\n",
    "    '_831_331c90b6-9e17-4c46-8530-0fc345e0a22f_asi-slot-_11_5EAPbeta_be00301_1147873226632_528960_2311-slotvalue-0-literalstring', \n",
    "    '_841_87af5944-6ea6-45b1-b787-f90cbfeec9b4_asi-slot-_11_5EAPbeta_be00301_1147873226632_528960_2311-slotvalue-0-literalstring',\n",
    "    '_1c8745d2-aa73-4371-b35a-bbb0e3124ce9__177_de0b38f1-5b92-496b-a528-89795aef8916_asi-slot-_11_5EAPbeta_be00301_1147873226632_528960_2311-slotvalue-0-literalstring', \n",
    "    '_4663af6e-6265-438d-87b8-74e1550518bf__12410_7c88037b-e412-4c6f-a9c2-709bcbeb92ea_asi-slot-_11_5EAPbeta_be00301_1147873226632_528960_2311-slotvalue-0-literalstring', \n",
    "]"
   ]
  },
  {
   "cell_type": "code",
   "execution_count": 13,
   "metadata": {
    "collapsed": true,
    "jupyter": {
     "outputs_hidden": true
    }
   },
   "outputs": [
    {
     "name": "stdout",
     "output_type": "stream",
     "text": [
      "gremlin: ws://100.65.51.106:8182/gremlin\n",
      "_831_331c90b6-9e17-4c46-8530-0fc345e0a22f_asi-slot-_11_5EAPbeta_be00301_1147873226632_528960_2311-slotvalue-0-literalstring\n",
      "WARNING: Same age (0) and same token were merged\n",
      "Token: {'text': 'the Data Management System', 'pos': 'PROPN', 'token_id': 117}\n",
      "_8f7cabc1-8e5f-4014-8c9c-7ff7b8b98955__1046_cd668fdb-7621-4923-83b6-3f2b7d8ffe67_asi-slot-_11_5EAPbeta_be00301_1147873226632_528960_2311-slotvalue-0-literalstring\n",
      "Error with req:  _8f7cabc1-8e5f-4014-8c9c-7ff7b8b98955__1046_cd668fdb-7621-4923-83b6-3f2b7d8ffe67_asi-slot-_11_5EAPbeta_be00301_1147873226632_528960_2311-slotvalue-0-literalstring\n",
      "_841_87af5944-6ea6-45b1-b787-f90cbfeec9b4_asi-slot-_11_5EAPbeta_be00301_1147873226632_528960_2311-slotvalue-0-literalstring\n",
      "WARNING: Same age (0) and same token were merged\n",
      "Token: {'text': 'System', 'pos': 'PROPN', 'token_id': 20}\n",
      "_16498_f25848ec-f4b4-4ddb-a0c3-9b359d451c67_asi-slot-_11_5EAPbeta_be00301_1147873226632_528960_2311-slotvalue-0-literalstring\n",
      "Error with req:  _16498_f25848ec-f4b4-4ddb-a0c3-9b359d451c67_asi-slot-_11_5EAPbeta_be00301_1147873226632_528960_2311-slotvalue-0-literalstring\n",
      "_1c8745d2-aa73-4371-b35a-bbb0e3124ce9__177_de0b38f1-5b92-496b-a528-89795aef8916_asi-slot-_11_5EAPbeta_be00301_1147873226632_528960_2311-slotvalue-0-literalstring\n",
      "Error with req:  _1c8745d2-aa73-4371-b35a-bbb0e3124ce9__177_de0b38f1-5b92-496b-a528-89795aef8916_asi-slot-_11_5EAPbeta_be00301_1147873226632_528960_2311-slotvalue-0-literalstring\n",
      "_8f7cabc1-8e5f-4014-8c9c-7ff7b8b98955__1140_2c131f4b-e665-4534-8a2b-472251f68812_asi-slot-_11_5EAPbeta_be00301_1147873226632_528960_2311-slotvalue-0-literalstring\n",
      "Error with req:  _8f7cabc1-8e5f-4014-8c9c-7ff7b8b98955__1140_2c131f4b-e665-4534-8a2b-472251f68812_asi-slot-_11_5EAPbeta_be00301_1147873226632_528960_2311-slotvalue-0-literalstring\n",
      "_4663af6e-6265-438d-87b8-74e1550518bf__16866_a4f920a0-57c8-48e8-b5c3-69b77a4e5c4e_asi-slot-_11_5EAPbeta_be00301_1147873226632_528960_2311-slotvalue-0-literalstring\n",
      "Error with req:  _4663af6e-6265-438d-87b8-74e1550518bf__16866_a4f920a0-57c8-48e8-b5c3-69b77a4e5c4e_asi-slot-_11_5EAPbeta_be00301_1147873226632_528960_2311-slotvalue-0-literalstring\n",
      "_16636_ab00c9a9-d20d-436c-830a-cac9b351ac9d_asi-slot-_11_5EAPbeta_be00301_1147873226632_528960_2311-slotvalue-0-literalstring\n",
      "Error with req:  _16636_ab00c9a9-d20d-436c-830a-cac9b351ac9d_asi-slot-_11_5EAPbeta_be00301_1147873226632_528960_2311-slotvalue-0-literalstring\n",
      "_4663af6e-6265-438d-87b8-74e1550518bf__12410_7c88037b-e412-4c6f-a9c2-709bcbeb92ea_asi-slot-_11_5EAPbeta_be00301_1147873226632_528960_2311-slotvalue-0-literalstring\n",
      "Error with req:  _4663af6e-6265-438d-87b8-74e1550518bf__12410_7c88037b-e412-4c6f-a9c2-709bcbeb92ea_asi-slot-_11_5EAPbeta_be00301_1147873226632_528960_2311-slotvalue-0-literalstring\n"
     ]
    }
   ],
   "source": [
    "g = neptune.graphTraversal()\n",
    "\n",
    "for req_id in req_list:\n",
    "    print(req_id)\n",
    "    try:\n",
    "        req_evaluation = req_evaluator.evaluate_req_by_id(g, \n",
    "                                         req_id, \n",
    "                                         ref_targets,\n",
    "                                         pprint=False)\n",
    "        req_evaluation.insert_references(insert_blocks, insert_query)\n",
    "    except:\n",
    "        print('Error with req: ', req_id)"
   ]
  },
  {
   "cell_type": "code",
   "execution_count": null,
   "metadata": {},
   "outputs": [],
   "source": [
    "g = neptune.graphTraversal()\n",
    "\n",
    "req_evaluation = req_evaluator.evaluate_req_by_id(g, \n",
    "                                 '_4663af6e-6265-438d-87b8-74e1550518bf__12410_7c88037b-e412-4c6f-a9c2-709bcbeb92ea_asi-slot-_11_5EAPbeta_be00301_1147873226632_528960_2311-slotvalue-0-literalstring', \n",
    "                                 ref_targets,\n",
    "                                 pprint=False)\n",
    "req_evaluation.insert_references(insert_blocks, insert_query)"
   ]
  },
  {
   "cell_type": "markdown",
   "metadata": {},
   "source": [
    " "
   ]
  },
  {
   "cell_type": "markdown",
   "metadata": {},
   "source": [
    "Available methods for `req_evaluation` are:\n",
    "- .get_matches()\n",
    "- .get_allocations()\n",
    "- .display_match_subgrap()"
   ]
  },
  {
   "cell_type": "code",
   "execution_count": 13,
   "metadata": {},
   "outputs": [
    {
     "data": {
      "text/plain": [
       "{117: {'token': {'text': 'the Data Management System',\n",
       "   'pos': 'PROPN',\n",
       "   'token_id': 117},\n",
       "  'model_element': {'uri': 'https://opencae.jpl.nasa.gov/mms/rdf/element/_16566_c270fe21-19e7-4d0d-aa3c-31b76ad6ca8b',\n",
       "   'name': 'Data Management System'},\n",
       "  'score': 0.0013642900507215298},\n",
       " 124: {'token': {'text': 'Executive Software',\n",
       "   'pos': 'PROPN',\n",
       "   'token_id': 124},\n",
       "  'model_element': {'uri': 'https://opencae.jpl.nasa.gov/mms/rdf/element/_17_0_2_3_41e01aa_1382542702961_630808_58999',\n",
       "   'name': 'Executive Software'},\n",
       "  'score': -0.0},\n",
       " 141: {'token': {'text': 'network', 'pos': 'PROPN', 'token_id': 141},\n",
       "  'model_element': {'uri': 'https://opencae.jpl.nasa.gov/mms/rdf/element/_18_0_6_876026b_1478280404909_609058_173008',\n",
       "   'name': 'Network'},\n",
       "  'score': 1.5543122344752193e-17},\n",
       " 144: {'token': {'text': 'networking', 'pos': 'NOUN', 'token_id': 144},\n",
       "  'model_element': {'uri': 'https://opencae.jpl.nasa.gov/mms/rdf/element/MMS_1456189351681_ad25f82c-607f-4103-83b1-75f605015749',\n",
       "   'name': 'Networking'},\n",
       "  'score': -2.2204460492503126e-17}}"
      ]
     },
     "execution_count": 13,
     "metadata": {},
     "output_type": "execute_result"
    }
   ],
   "source": [
    "req_evaluation.get_matches()"
   ]
  },
  {
   "cell_type": "code",
   "execution_count": null,
   "metadata": {},
   "outputs": [],
   "source": []
  },
  {
   "cell_type": "code",
   "execution_count": null,
   "metadata": {},
   "outputs": [],
   "source": [
    "req_evaluator.get_requirement_by_id('_831_331c90b6-9e17-4c46-8530-0fc345e0a22f_asi-slot-_11_5EAPbeta_be00301_1147873226632_528960_2311-slotvalue-0-literalstring')"
   ]
  },
  {
   "cell_type": "code",
   "execution_count": null,
   "metadata": {},
   "outputs": [],
   "source": []
  },
  {
   "cell_type": "code",
   "execution_count": null,
   "metadata": {},
   "outputs": [],
   "source": []
  },
  {
   "cell_type": "code",
   "execution_count": null,
   "metadata": {},
   "outputs": [],
   "source": []
  },
  {
   "cell_type": "code",
   "execution_count": null,
   "metadata": {},
   "outputs": [],
   "source": []
  },
  {
   "cell_type": "markdown",
   "metadata": {},
   "source": [
    "# MISCELLANEOUS "
   ]
  },
  {
   "cell_type": "code",
   "execution_count": 83,
   "metadata": {},
   "outputs": [],
   "source": [
    "summit='_4663af6e-6265-438d-87b8-74e1550518bf__65_6314a138-53b9-42a5-b488-9c23967ed889'\n",
    "enclosure='_18_0_6_f1d0357_1490143302007_461579_179266'\n",
    "mirror='_18_5_2_e64033a_1509475358071_810923_58742'\n",
    "aps_user='_17_0_2_3_41e01aa_1389730769202_855584_72742'\n",
    "aps_mission='_17_0_2_3_41e01aa_1389728637481_651557_61606'\n",
    "usr_part_aps_mission='_17_0_2_3_41e01aa_1389731842407_88153_73842'\n",
    "value_aps_mission='_18_0_2_baa02e2_1421376436201_767368_80540'"
   ]
  },
  {
   "cell_type": "code",
   "execution_count": 84,
   "metadata": {},
   "outputs": [],
   "source": [
    "from req_analysis.libs.neptune_wrapper import get_type_from_part_properties"
   ]
  },
  {
   "cell_type": "code",
   "execution_count": 87,
   "metadata": {},
   "outputs": [
    {
     "name": "stdout",
     "output_type": "stream",
     "text": [
      "gremlin: ws://100.65.51.106:8182/gremlin\n"
     ]
    },
    {
     "data": {
      "text/plain": [
       "[v[_17_0_2_3_41e01aa_1389728637481_651557_61606]]"
      ]
     },
     "execution_count": 87,
     "metadata": {},
     "output_type": "execute_result"
    }
   ],
   "source": [
    "g = neptune.graphTraversal()\n",
    "g.V(aps_mission).toList()"
   ]
  },
  {
   "cell_type": "code",
   "execution_count": null,
   "metadata": {},
   "outputs": [],
   "source": [
    "g = neptune.graphTraversal()\n",
    "get_type_from_part_properties(g, aps_mission)"
   ]
  },
  {
   "cell_type": "code",
   "execution_count": null,
   "metadata": {},
   "outputs": [],
   "source": []
  }
 ],
 "metadata": {
  "kernelspec": {
   "display_name": "Python [conda env:cref]",
   "language": "python",
   "name": "conda-env-cref-py"
  },
  "language_info": {
   "codemirror_mode": {
    "name": "ipython",
    "version": 3
   },
   "file_extension": ".py",
   "mimetype": "text/x-python",
   "name": "python",
   "nbconvert_exporter": "python",
   "pygments_lexer": "ipython3",
   "version": "3.7.6"
  }
 },
 "nbformat": 4,
 "nbformat_minor": 4
}
