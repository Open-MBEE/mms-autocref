{
 "cells": [
  {
   "cell_type": "code",
   "execution_count": 1,
   "metadata": {},
   "outputs": [],
   "source": [
    "%load_ext autoreload\n",
    "%autoreload 2"
   ]
  },
  {
   "cell_type": "code",
   "execution_count": 2,
   "metadata": {},
   "outputs": [],
   "source": [
    "import scipy\n",
    "import time\n",
    "import uuid\n",
    "\n",
    "import matplotlib.pyplot as plt\n",
    "import networkx as nx\n",
    "\n",
    "from req_analysis import Requirement"
   ]
  },
  {
   "cell_type": "markdown",
   "metadata": {},
   "source": [
    "## Initialize connection to Neptune"
   ]
  },
  {
   "cell_type": "code",
   "execution_count": 3,
   "metadata": {},
   "outputs": [
    {
     "name": "stdout",
     "output_type": "stream",
     "text": [
      "env: NEPTUNE_CLUSTER_ENDPOINT=100.65.51.106\n",
      "env: NEPTUNE_CLUSTER_PORT=8182\n",
      "gremlin: ws://100.65.51.106:8182/gremlin\n"
     ]
    }
   ],
   "source": [
    "%run 'req_analysis/neptune-util.py'\n",
    "%env NEPTUNE_CLUSTER_ENDPOINT=100.65.51.106\n",
    "%env NEPTUNE_CLUSTER_PORT=8182\n",
    "g = neptune.graphTraversal()"
   ]
  },
  {
   "cell_type": "code",
   "execution_count": 4,
   "metadata": {},
   "outputs": [],
   "source": [
    "from SPARQLWrapper import SPARQLWrapper, JSON, POST, DIGEST, URLENCODED\n",
    "\n",
    "sparql = SPARQLWrapper(\"http://100.65.51.106:3001/sparql\")\n",
    "sparql.requestMethod = 'urlencoded'"
   ]
  },
  {
   "cell_type": "code",
   "execution_count": 23,
   "metadata": {},
   "outputs": [],
   "source": [
    "queryString = \"\"\"prefix rdf: <http://www.w3.org/1999/02/22-rdf-syntax-ns#>\n",
    "prefix rdfs: <http://www.w3.org/2000/01/rdf-schema#>\n",
    "prefix owl: <http://www.w3.org/2002/07/owl#>\n",
    "prefix xsd: <http://www.w3.org/2001/XMLSchema#>\n",
    "prefix xml: <http://www.w3.org/XML/1998/namespace/>\n",
    "prefix mms-ontology: <https://opencae.jpl.nasa.gov/mms/rdf/ontology/>\n",
    "prefix mms-graph: <https://opencae.jpl.nasa.gov/mms/rdf/graph/>\n",
    "prefix mms-property: <https://opencae.jpl.nasa.gov/mms/rdf/property/>\n",
    "prefix mms-class: <https://opencae.jpl.nasa.gov/mms/rdf/class/>\n",
    "prefix mms-element: <https://opencae.jpl.nasa.gov/mms/rdf/element/>\n",
    "prefix mms-artifact: <https://opencae.jpl.nasa.gov/mms/rdf/artifact/>\n",
    "prefix mms-index: <https://opencae.jpl.nasa.gov/mms/rdf/index/>\n",
    "prefix xmi: <http://www.omg.org/spec/XMI/20131001#>\n",
    "prefix uml: <http://www.omg.org/spec/UML/20161101#>\n",
    "prefix uml-model: <https://www.omg.org/spec/UML/20161101/UML.xmi#>\n",
    "prefix uml-primitives: <https://www.omg.org/spec/UML/20161101/PrimitiveTypes.xmi#>\n",
    "prefix uml-class: <https://opencae.jpl.nasa.gov/mms/rdf/uml-class/>\n",
    "prefix uml-property: <https://opencae.jpl.nasa.gov/mms/rdf/uml-property/>\n",
    "\n",
    "# `Class` that has an `appliedStereotypeInstance` `InstanceSpecification` whose type is <<Requirement>> Stereotype (ID)\n",
    "select * from mms-graph:data.tmt {\n",
    "    # `Class` that has an `appliedStereotypeInstance`...\n",
    "    ?class a uml-class:Class ;\n",
    "        mms-property:appliedStereotypeInstance ?instance ;\n",
    "        .\n",
    "\n",
    "    # `InstanceSpecification`. Stereotype classifier and all slots\n",
    "    ?instance mms-property:classifierFromInstanceSpecification ?stereotype ;\n",
    "        mms-property:slot ?slot ;\n",
    "        .\n",
    "\n",
    "    # stereotype and its name, e.g., \"TMT Requirement\"\n",
    "    ?stereotype a uml-class:Stereotype ;\n",
    "        mms-property:nameString ?stereotypeName ;\n",
    "        .\n",
    "\n",
    "    # Slot --> value\n",
    "    ?slot mms-property:valueValueSpecificationFromSlot ?slotValue ;\n",
    "        .\n",
    "\n",
    "    # value --> string\n",
    "    ?slotValue a uml-class:LiteralString ;\n",
    "        mms-property:valueString ?valueString ;\n",
    "        .\n",
    "\n",
    "    # filter string by those starting with html\n",
    "    filter(regex(?valueString, \\\"^\\\\\\\\s*<\\\"))\n",
    "\n",
    "    # values ?subject { mms-element:_831_331c90b6-9e17-4c46-8530-0fc345e0a22f_asi-slot-_11_5EAPbeta_be00301_1147873226632_528960_2311-slotvalue-0-literalstring }\n",
    "}\n",
    "\"\"\""
   ]
  },
  {
   "cell_type": "code",
   "execution_count": 6,
   "metadata": {},
   "outputs": [],
   "source": [
    "queryElements = \"\"\"prefix rdf: <http://www.w3.org/1999/02/22-rdf-syntax-ns#>\n",
    "prefix rdfs: <http://www.w3.org/2000/01/rdf-schema#>\n",
    "prefix owl: <http://www.w3.org/2002/07/owl#>\n",
    "prefix xsd: <http://www.w3.org/2001/XMLSchema#>\n",
    "prefix xml: <http://www.w3.org/XML/1998/namespace/>\n",
    "prefix mms-ontology: <https://opencae.jpl.nasa.gov/mms/rdf/ontology/>\n",
    "prefix mms-graph: <https://opencae.jpl.nasa.gov/mms/rdf/graph/>\n",
    "prefix mms-property: <https://opencae.jpl.nasa.gov/mms/rdf/property/>\n",
    "prefix mms-class: <https://opencae.jpl.nasa.gov/mms/rdf/class/>\n",
    "prefix mms-element: <https://opencae.jpl.nasa.gov/mms/rdf/element/>\n",
    "prefix mms-artifact: <https://opencae.jpl.nasa.gov/mms/rdf/artifact/>\n",
    "prefix mms-index: <https://opencae.jpl.nasa.gov/mms/rdf/index/>\n",
    "prefix xmi: <http://www.omg.org/spec/XMI/20131001#>\n",
    "prefix uml: <http://www.omg.org/spec/UML/20161101#>\n",
    "prefix uml-model: <https://www.omg.org/spec/UML/20161101/UML.xmi#>\n",
    "prefix uml-primitives: <https://www.omg.org/spec/UML/20161101/PrimitiveTypes.xmi#>\n",
    "prefix uml-class: <https://opencae.jpl.nasa.gov/mms/rdf/uml-class/>\n",
    "prefix uml-property: <https://opencae.jpl.nasa.gov/mms/rdf/uml-property/>\n",
    "\n",
    "select * from mms-graph:data.tmt {\n",
    "    ?element a/rdfs:subClassOf* ?class\n",
    "    {\n",
    "        ?element rdfs:label ?label \n",
    "    } union {\n",
    "        ?element mms-property:name ?label\n",
    "    }\n",
    "    \n",
    "    filter(isLiteral(?label) && ?label != \"\")\n",
    "    filter(?class = uml-class:Class || ?class = uml-class:Activity)\n",
    "}\n",
    "\"\"\""
   ]
  },
  {
   "cell_type": "markdown",
   "metadata": {},
   "source": [
    "## Clear output graph"
   ]
  },
  {
   "cell_type": "code",
   "execution_count": 9,
   "metadata": {},
   "outputs": [
    {
     "name": "stdout",
     "output_type": "stream",
     "text": [
      "b'[\\n{\\n    \"type\" : \"UpdateEvent\",\\n    \"totalElapsedMillis\" : 0,\\n    \"elapsedMillis\" : 0,\\n    \"connFlush\" : 0,\\n    \"batchResolve\" : 0,\\n    \"whereClause\" : 0,\\n    \"deleteClause\" : 0,\\n    \"insertClause\" : 0\\n},\\n{\\n    \"type\" : \"Commit\",\\n    \"totalElapsedMillis\" : 0\\n}\\n]'\n"
     ]
    }
   ],
   "source": [
    "sparql.setMethod(POST)\n",
    "sparql.setQuery(\"\"\"\n",
    "clear graph <https://opencae.jpl.nasa.gov/mms/rdf/graph/autocref.tmt.test>\n",
    "\"\"\")\n",
    "results = sparql.query()\n",
    "print(results.response.read())"
   ]
  },
  {
   "cell_type": "markdown",
   "metadata": {},
   "source": [
    "## Load model elements in memory"
   ]
  },
  {
   "cell_type": "code",
   "execution_count": 10,
   "metadata": {},
   "outputs": [],
   "source": [
    "sparql.setQuery(queryElements)\n",
    "\n",
    "sparql.setReturnFormat(JSON)\n",
    "el_results = sparql.query().convert()"
   ]
  },
  {
   "cell_type": "code",
   "execution_count": 11,
   "metadata": {},
   "outputs": [],
   "source": [
    "model_elements = []\n",
    "for result in el_results[\"results\"][\"bindings\"]:\n",
    "    model_elements.append(dict(uri=result['element']['value'], name=result['label']['value']))"
   ]
  },
  {
   "cell_type": "code",
   "execution_count": 12,
   "metadata": {},
   "outputs": [
    {
     "name": "stdout",
     "output_type": "stream",
     "text": [
      "3195\n"
     ]
    }
   ],
   "source": [
    "print(len(model_elements))"
   ]
  },
  {
   "cell_type": "markdown",
   "metadata": {},
   "source": [
    "## Load text element(s) of interest"
   ]
  },
  {
   "cell_type": "code",
   "execution_count": 24,
   "metadata": {},
   "outputs": [],
   "source": [
    "sparql.setQuery(queryString)\n",
    "\n",
    "sparql.setReturnFormat(JSON)\n",
    "results = sparql.query().convert()"
   ]
  },
  {
   "cell_type": "code",
   "execution_count": 25,
   "metadata": {},
   "outputs": [
    {
     "name": "stdout",
     "output_type": "stream",
     "text": [
      "12492\n"
     ]
    }
   ],
   "source": [
    "print(len(results[\"results\"][\"bindings\"]))"
   ]
  },
  {
   "cell_type": "markdown",
   "metadata": {},
   "source": [
    "## Matching"
   ]
  },
  {
   "cell_type": "code",
   "execution_count": 27,
   "metadata": {},
   "outputs": [
    {
     "data": {
      "text/plain": [
       "{'stereotype': {'type': 'uri',\n",
       "  'value': 'https://opencae.jpl.nasa.gov/mms/rdf/element/_18_0_2_b4c02e1_1422576771648_76971_83985'},\n",
       " 'instance': {'type': 'uri',\n",
       "  'value': 'https://opencae.jpl.nasa.gov/mms/rdf/element/_46_edeec1a4-99c7-4282-848e-3ed235ccb281_asi'},\n",
       " 'class': {'type': 'uri',\n",
       "  'value': 'https://opencae.jpl.nasa.gov/mms/rdf/element/_46_edeec1a4-99c7-4282-848e-3ed235ccb281'},\n",
       " 'slot': {'type': 'uri',\n",
       "  'value': 'https://opencae.jpl.nasa.gov/mms/rdf/element/_46_edeec1a4-99c7-4282-848e-3ed235ccb281_asi-slot-_11_5EAPbeta_be00301_1147873226632_528960_2311'},\n",
       " 'stereotypeName': {'type': 'literal', 'value': 'ObjectProperties'},\n",
       " 'slotValue': {'type': 'uri',\n",
       "  'value': 'https://opencae.jpl.nasa.gov/mms/rdf/element/_46_edeec1a4-99c7-4282-848e-3ed235ccb281_asi-slot-_11_5EAPbeta_be00301_1147873226632_528960_2311-slotvalue-0-literalstring'},\n",
       " 'valueString': {'type': 'literal',\n",
       "  'value': '<html><body>\\n<span xmlns=\"http://www.w3.org/1999/xhtml\"><strong>[REQ-0-SRD-0150]</strong> Thermal background radiation from the telescope and its optics should be minimized. Including primary, secondary and tertiary (M1+ M2+ M3), total thermal background should be ≤ 5% of a blackbody at the average ambient night-time temperature for fresh coatings.</span></body></html>'}}"
      ]
     },
     "execution_count": 27,
     "metadata": {},
     "output_type": "execute_result"
    }
   ],
   "source": [
    "results[\"results\"][\"bindings\"][0]"
   ]
  },
  {
   "cell_type": "code",
   "execution_count": 31,
   "metadata": {},
   "outputs": [
    {
     "name": "stdout",
     "output_type": "stream",
     "text": [
      "Req ID:  https://opencae.jpl.nasa.gov/mms/rdf/element/_282_7052c0d8-8b2a-4300-80f2-703036bb5bba_asi \n",
      "Req text: <html><body>\n",
      "<span xmlns=\"http://www.w3.org/1999/xhtml\"><strong>[REQ-0-SRD-1105]</strong> 2.05x 2.05 arcmin square unvignetted field of view with AO correction by NFIRAOS. The MOSFIRE field of view is 2.26 arcmin diameter</span></body></html>\n",
      "[{'token': {'text': 'NFIRAOS', 'pos': 'PROPN', 'token_id': 10}, 'model_element': {'uri': 'https://opencae.jpl.nasa.gov/mms/rdf/element/_4663af6e-6265-438d-87b8-74e1550518bf__6294_1bb99b95-70db-4c36-9107-8ba25cd37cb7', 'name': 'NFIRAOS'}, 'score': 0.0}, {'token': {'text': 'NFIRAOS', 'pos': 'PROPN', 'token_id': 10}, 'model_element': {'uri': 'https://opencae.jpl.nasa.gov/mms/rdf/element/_18_5_3_e64033a_1517517389325_390809_22791', 'name': 'NFIRAOS'}, 'score': 0.0}, {'token': {'text': 'NFIRAOS', 'pos': 'PROPN', 'token_id': 10}, 'model_element': {'uri': 'https://opencae.jpl.nasa.gov/mms/rdf/element/_18_5_3_e64033a_1517948168694_886488_19869', 'name': 'NFIRAOS'}, 'score': 0.0}] \n",
      "___________\n",
      "25560 comparaisons\n",
      "Time:  15.205132007598877\n"
     ]
    }
   ],
   "source": [
    "time1 = time.time()\n",
    "for result in results[\"results\"][\"bindings\"][0:100]:\n",
    "#     if str.startswith(result[\"str\"][\"value\"], \"<html>\"):\n",
    "    req_object = Requirement(result[\"instance\"][\"value\"], result[\"valueString\"][\"value\"])\n",
    "    matches, c = req_object.match_req_tokens(model_elements, 0.0035)\n",
    "    if len(matches)>2:\n",
    "        print('Req ID: ', result[\"instance\"][\"value\"], '\\nReq text:' , (result[\"valueString\"][\"value\"]))\n",
    "        print(matches, '\\n___________')\n",
    "        print(c, 'comparaisons')\n",
    "        print('Time: ', time.time()-time1)\n",
    "        break"
   ]
  },
  {
   "cell_type": "code",
   "execution_count": null,
   "metadata": {},
   "outputs": [],
   "source": [
    "g = neptune.graphTraversal()\n",
    "req_object.init_match_subgraph(g)"
   ]
  },
  {
   "cell_type": "code",
   "execution_count": 25,
   "metadata": {},
   "outputs": [
    {
     "data": {
      "image/png": "[encoded data removed]",
      "text/plain": [
       "<Figure size 432x288 with 1 Axes>"
      ]
     },
     "metadata": {},
     "output_type": "display_data"
    }
   ],
   "source": [
    "pos = nx.circular_layout(req_object.req_subgraph)\n",
    "nx.draw_networkx_edge_labels(req_object.req_subgraph, pos)\n",
    "nx.draw_circular(req_object.req_subgraph, with_labels=True)"
   ]
  },
  {
   "cell_type": "code",
   "execution_count": 26,
   "metadata": {},
   "outputs": [
    {
     "data": {
      "text/plain": [
       "NodeDataView({0: {'token': {'text': 'Executive Software', 'pos': 'PROPN', 'token_id': 124}, 'model_element': {'uri': 'https://opencae.jpl.nasa.gov/mms/rdf/element/_17_0_2_3_41e01aa_1382542702961_630808_58999', 'name': 'Executive Software'}, 'score': 0.0}, 1: {'token': {'text': 'network', 'pos': 'PROPN', 'token_id': 141}, 'model_element': {'uri': 'https://opencae.jpl.nasa.gov/mms/rdf/element/_18_0_6_876026b_1478280404909_609058_173008', 'name': 'Network'}, 'score': 0.0}, 2: {'token': {'text': 'networking', 'pos': 'NOUN', 'token_id': 144}, 'model_element': {'uri': 'https://opencae.jpl.nasa.gov/mms/rdf/element/MMS_1456189351681_ad25f82c-607f-4103-83b1-75f605015749', 'name': 'Networking'}, 'score': 0.0}, 3: {'token': {'text': 'components', 'pos': 'NOUN', 'token_id': 145}, 'model_element': {'uri': 'https://opencae.jpl.nasa.gov/mms/rdf/element/_18_0_5_baa02e2_1454211387743_712600_224076', 'name': 'Component'}, 'score': 0.050000000000000044}, 4: {'token': {'text': 'enclosures', 'pos': 'NOUN', 'token_id': 156}, 'model_element': {'uri': 'https://opencae.jpl.nasa.gov/mms/rdf/element/_18_0_6_f1d0357_1490143302007_461579_179266', 'name': 'Enclosure'}, 'score': 0.050000000000000044}, 5: {'token': {'text': 'enclosures', 'pos': 'NOUN', 'token_id': 156}, 'model_element': {'uri': 'https://opencae.jpl.nasa.gov/mms/rdf/element/_4663af6e-6265-438d-87b8-74e1550518bf__10_a7ad0d07-fa64-40e7-a266-db3006b20dc5', 'name': 'Enclosure'}, 'score': 0.050000000000000044}, 6: {'token': {'text': 'enclosures', 'pos': 'NOUN', 'token_id': 156}, 'model_element': {'uri': 'https://opencae.jpl.nasa.gov/mms/rdf/element/_122_2e16a4c6-8751-4aa1-a6e4-94cd1a7c5773', 'name': 'Enclosure'}, 'score': 0.050000000000000044}, 7: {'token': {'text': 'enclosures', 'pos': 'NOUN', 'token_id': 156}, 'model_element': {'uri': 'https://opencae.jpl.nasa.gov/mms/rdf/element/_8f7cabc1-8e5f-4014-8c9c-7ff7b8b98955__1708_4168aae5-e6b1-4fc7-a261-0f96b31aaab7', 'name': 'Enclosure'}, 'score': 0.050000000000000044}, 8: {'token': {'text': 'enclosures', 'pos': 'NOUN', 'token_id': 156}, 'model_element': {'uri': 'https://opencae.jpl.nasa.gov/mms/rdf/element/_18_0_5_baa02e2_1454211230871_427928_220629', 'name': 'Enclosure'}, 'score': 0.050000000000000044}})"
      ]
     },
     "execution_count": 26,
     "metadata": {},
     "output_type": "execute_result"
    }
   ],
   "source": [
    "req_object.req_subgraph.nodes(data=True)"
   ]
  },
  {
   "cell_type": "code",
   "execution_count": 27,
   "metadata": {},
   "outputs": [
    {
     "name": "stdout",
     "output_type": "stream",
     "text": [
      "Token:  Executive Software\n",
      "Element:  Executive Software\n",
      "URI:  https://opencae.jpl.nasa.gov/mms/rdf/element/_17_0_2_3_41e01aa_1382542702961_630808_58999 \n",
      "_________\n",
      "Token:  enclosures\n",
      "Element:  Enclosure\n",
      "URI:  https://opencae.jpl.nasa.gov/mms/rdf/element/_18_0_6_f1d0357_1490143302007_461579_179266 \n",
      "_________\n",
      "Token:  network\n",
      "Element:  Network\n",
      "URI:  https://opencae.jpl.nasa.gov/mms/rdf/element/_18_0_6_876026b_1478280404909_609058_173008 \n",
      "_________\n",
      "Token:  networking\n",
      "Element:  Networking\n",
      "URI:  https://opencae.jpl.nasa.gov/mms/rdf/element/MMS_1456189351681_ad25f82c-607f-4103-83b1-75f605015749 \n",
      "_________\n",
      "Token:  components\n",
      "Element:  Component\n",
      "URI:  https://opencae.jpl.nasa.gov/mms/rdf/element/_18_0_5_baa02e2_1454211387743_712600_224076 \n",
      "_________\n"
     ]
    }
   ],
   "source": [
    "winners = req_object.match_clustering()\n",
    "\n",
    "for winner in winners.values():\n",
    "    print('Token: ', winner['token']['text'])\n",
    "    print('Element: ', winner['model_element']['name'])\n",
    "    print('URI: ', winner['model_element']['uri'], '\\n_________')"
   ]
  },
  {
   "cell_type": "code",
   "execution_count": 28,
   "metadata": {},
   "outputs": [
    {
     "data": {
      "text/plain": [
       "{124: {'token': {'text': 'Executive Software',\n",
       "   'pos': 'PROPN',\n",
       "   'token_id': 124},\n",
       "  'model_element': {'uri': 'https://opencae.jpl.nasa.gov/mms/rdf/element/_17_0_2_3_41e01aa_1382542702961_630808_58999',\n",
       "   'name': 'Executive Software'},\n",
       "  'score': 0.0},\n",
       " 156: {'token': {'text': 'enclosures', 'pos': 'NOUN', 'token_id': 156},\n",
       "  'model_element': {'uri': 'https://opencae.jpl.nasa.gov/mms/rdf/element/_18_0_6_f1d0357_1490143302007_461579_179266',\n",
       "   'name': 'Enclosure'},\n",
       "  'score': 0.050000000000000044},\n",
       " 141: {'token': {'text': 'network', 'pos': 'PROPN', 'token_id': 141},\n",
       "  'model_element': {'uri': 'https://opencae.jpl.nasa.gov/mms/rdf/element/_18_0_6_876026b_1478280404909_609058_173008',\n",
       "   'name': 'Network'},\n",
       "  'score': 0.0},\n",
       " 144: {'token': {'text': 'networking', 'pos': 'NOUN', 'token_id': 144},\n",
       "  'model_element': {'uri': 'https://opencae.jpl.nasa.gov/mms/rdf/element/MMS_1456189351681_ad25f82c-607f-4103-83b1-75f605015749',\n",
       "   'name': 'Networking'},\n",
       "  'score': 0.0},\n",
       " 145: {'token': {'text': 'components', 'pos': 'NOUN', 'token_id': 145},\n",
       "  'model_element': {'uri': 'https://opencae.jpl.nasa.gov/mms/rdf/element/_18_0_5_baa02e2_1454211387743_712600_224076',\n",
       "   'name': 'Component'},\n",
       "  'score': 0.050000000000000044}}"
      ]
     },
     "execution_count": 28,
     "metadata": {},
     "output_type": "execute_result"
    }
   ],
   "source": [
    "winners"
   ]
  },
  {
   "cell_type": "code",
   "execution_count": null,
   "metadata": {},
   "outputs": [],
   "source": [
    "insert_blocks = \"\"\"\n",
    "<{input_uri}> mms-autocref:reference mms-autocref-i:Reference.{reference_uuid} ;\n",
    "  .\n",
    "\n",
    "mms-autocref-i:Reference.{reference_uuid}\n",
    "  a mms-autocref:Reference ;\n",
    "  mms-autocref:inputText \\\"\\\"\\\"{input_text}\\\"\\\"\\\" ;\n",
    "  mms-autocref:match <{match_uri}> ;\n",
    "  mms-autocref:token mms-autocref-i:Token.{reference_uuid} ;\n",
    "  .\n",
    "\n",
    "mms-autocref-i:Token.{reference_uuid}\n",
    "  a mms-autocref:Token ;\n",
    "  mms-autocref:tokenStart \"{token_position}\"^^xsd:integer ;\n",
    "  mms-autocref:tokenText \\\"\\\"\\\"{token_text}\\\"\\\"\\\" ;\n",
    "  .\n",
    "\"\"\""
   ]
  },
  {
   "cell_type": "code",
   "execution_count": null,
   "metadata": {},
   "outputs": [],
   "source": [
    "insert_query = \"\"\"\n",
    "prefix mms-autocref: <https://opencae.jpl.nasa.gov/mms/rdf/autocref/>\n",
    "prefix mms-autocref-i: <https://opencae.jpl.nasa.gov/mms/rdf/autocref-instance/>\n",
    "\n",
    "insert data {{\n",
    "  graph <https://opencae.jpl.nasa.gov/mms/rdf/graph/autocref.tmt.test> {{\n",
    "    {insert_blocks}\n",
    "  }}\n",
    "}}\"\"\""
   ]
  },
  {
   "cell_type": "code",
   "execution_count": null,
   "metadata": {},
   "outputs": [],
   "source": [
    "insert_concat = \"\"\n",
    "\n",
    "for winner in winners.values():\n",
    "    insert_concat += insert_blocks.format(input_uri = req_object.text_uri,\n",
    "                                  input_text = req_object.text.replace('\"', r'\\\"'),\n",
    "                                  reference_uuid = uuid.uuid4().hex,\n",
    "                                  match_uri = winner['model_element']['uri'],\n",
    "                                  token_position = winner['token']['token_id'],\n",
    "                                  token_text = winner['token']['text'].replace('\"', r'\\\"'))\n",
    "\n",
    "# print(insert_concat)\n",
    "insert = insert_query.format(insert_blocks=insert_concat)\n",
    "print(insert)"
   ]
  },
  {
   "cell_type": "code",
   "execution_count": null,
   "metadata": {},
   "outputs": [],
   "source": [
    "sparql.setMethod(POST)\n",
    "sparql.setQuery(insert)\n",
    "\n",
    "\n",
    "results = sparql.query()\n",
    "print(results.response.read())"
   ]
  },
  {
   "cell_type": "code",
   "execution_count": null,
   "metadata": {},
   "outputs": [],
   "source": []
  },
  {
   "cell_type": "code",
   "execution_count": null,
   "metadata": {},
   "outputs": [],
   "source": []
  },
  {
   "cell_type": "code",
   "execution_count": null,
   "metadata": {},
   "outputs": [],
   "source": []
  },
  {
   "cell_type": "code",
   "execution_count": null,
   "metadata": {},
   "outputs": [],
   "source": []
  },
  {
   "cell_type": "code",
   "execution_count": null,
   "metadata": {},
   "outputs": [],
   "source": []
  },
  {
   "cell_type": "markdown",
   "metadata": {},
   "source": [
    "# MISCELLANEOUS "
   ]
  },
  {
   "cell_type": "code",
   "execution_count": null,
   "metadata": {},
   "outputs": [],
   "source": [
    "req_object.match_clustering_stop_condition()"
   ]
  },
  {
   "cell_type": "code",
   "execution_count": null,
   "metadata": {},
   "outputs": [],
   "source": [
    "D = [[ 0.,  2.,  3. , 2.],\n",
    " [ 3. , 6.,  5.,  3.],\n",
    " [ 4. , 5.,  9.,  2.],\n",
    " [ 1. , 7., 11.,  4.],\n",
    " [ 8. , 9., 11.,  6.]]"
   ]
  },
  {
   "cell_type": "code",
   "execution_count": null,
   "metadata": {},
   "outputs": [],
   "source": [
    "from paris.utils import select_clustering, select_clustering_gen, select_clustering_gen2"
   ]
  },
  {
   "cell_type": "code",
   "execution_count": null,
   "metadata": {},
   "outputs": [],
   "source": [
    "# print(select_clustering_gen2(D, req_object.req_subgraph, 0))\n",
    "# print(select_clustering_gen2(D, req_object.req_subgraph, 1))\n",
    "# print(select_clustering_gen2(D, req_object.req_subgraph, 2))\n",
    "# print(select_clustering_gen2(D, req_object.req_subgraph, 3))\n",
    "# print(select_clustering_gen2(D, req_object.req_subgraph, 4))\n",
    "print(select_clustering_gen2(D, req_object.req_subgraph, 5))"
   ]
  },
  {
   "cell_type": "code",
   "execution_count": null,
   "metadata": {},
   "outputs": [],
   "source": []
  },
  {
   "cell_type": "code",
   "execution_count": null,
   "metadata": {},
   "outputs": [],
   "source": []
  },
  {
   "cell_type": "code",
   "execution_count": null,
   "metadata": {},
   "outputs": [],
   "source": []
  },
  {
   "cell_type": "code",
   "execution_count": null,
   "metadata": {},
   "outputs": [],
   "source": []
  },
  {
   "cell_type": "code",
   "execution_count": 94,
   "metadata": {},
   "outputs": [],
   "source": [
    "summit='_4663af6e-6265-438d-87b8-74e1550518bf__65_6314a138-53b9-42a5-b488-9c23967ed889'\n",
    "enclosure='_18_0_6_f1d0357_1490143302007_461579_179266'\n",
    "mirror='_18_5_2_e64033a_1509475358071_810923_58742'\n",
    "aps_user='_17_0_2_3_41e01aa_1389730769202_855584_72742'\n",
    "aps_mission='_17_0_2_3_41e01aa_1389728637481_651557_61606'\n",
    "usr_part_aps_mission='_17_0_2_3_41e01aa_1389731842407_88153_73842'\n",
    "value_aps_mission='_18_0_2_baa02e2_1421376436201_767368_80540'"
   ]
  },
  {
   "cell_type": "code",
   "execution_count": 107,
   "metadata": {},
   "outputs": [
    {
     "name": "stdout",
     "output_type": "stream",
     "text": [
      "gremlin: ws://100.65.51.106:8182/gremlin\n"
     ]
    },
    {
     "data": {
      "text/plain": [
       "[path[v[_18_0_2_b4c02e1_1443121772933_102673_179684], v[_18_0_2_b4c02e1_1443121772933_102673_179684_asi]]]"
      ]
     },
     "execution_count": 107,
     "metadata": {},
     "output_type": "execute_result"
    }
   ],
   "source": [
    "g = neptune.graphTraversal()\n",
    "g.V('_18_0_2_b4c02e1_1443121772933_102673_179684').repeat(both().simplePath()).until(hasId('_18_0_2_b4c02e1_1443121772933_102673_179684_asi').or_().loops().is_(8)).path().limit(1).toList()"
   ]
  },
  {
   "cell_type": "code",
   "execution_count": 108,
   "metadata": {},
   "outputs": [
    {
     "data": {
      "text/plain": [
       "[{'_label': ['APS Mission']},\n",
       " {'_label': ['APS Mission']},\n",
       " {'_label': ['APS Mission']},\n",
       " {'_label': ['APS Mission']},\n",
       " {'_label': ['APS Mission']},\n",
       " {'_label': ['APS Mission']},\n",
       " {'_label': ['APS Mission']},\n",
       " {'_label': ['APS Operational Blackbox Specification JPL']},\n",
       " {'_label': ['M1 Control System']},\n",
       " {'_label': ['APS User']},\n",
       " {'_label': ['Executive Software']},\n",
       " {'_label': ['Common Services']},\n",
       " {'_label': ['Telescope Control System']}]"
      ]
     },
     "execution_count": 108,
     "metadata": {},
     "output_type": "execute_result"
    }
   ],
   "source": [
    "g.V('_17_0_2_3_41e01aa_1389728637481_651557_61606').out('ownedAttributeFromClass').out().hasLabel('Class').valueMap().toList()"
   ]
  },
  {
   "cell_type": "code",
   "execution_count": null,
   "metadata": {},
   "outputs": [],
   "source": [
    "_17_0_2_3_41e01aa_1389728637481_651557_61606,_18_0_2_baa02e2_1421376436201_767368_80540"
   ]
  },
  {
   "cell_type": "code",
   "execution_count": 47,
   "metadata": {},
   "outputs": [
    {
     "name": "stdout",
     "output_type": "stream",
     "text": [
      "gremlin: ws://100.65.51.106:8182/gremlin\n"
     ]
    },
    {
     "data": {
      "text/plain": [
       "[path[v[_17_0_2_3_41e01aa_1383543404575_236284_66843], v[_17_0_2_3_41e01aa_1383543404576_569689_66846]]]"
      ]
     },
     "execution_count": 47,
     "metadata": {},
     "output_type": "execute_result"
    }
   ],
   "source": [
    "g = neptune.graphTraversal()\n",
    "g.V('_17_0_2_3_41e01aa_1383543404575_236284_66843').repeat(both().simplePath()).until(hasId('_17_0_2_3_41e01aa_1383543404576_569689_66846').or_().loops().is_(8)).path().limit(1).toList()"
   ]
  },
  {
   "cell_type": "code",
   "execution_count": 51,
   "metadata": {},
   "outputs": [
    {
     "data": {
      "text/plain": [
       "[v[_18_0_2_baa02e2_1421374196576_95730_78327]]"
      ]
     },
     "execution_count": 51,
     "metadata": {},
     "output_type": "execute_result"
    }
   ],
   "source": [
    "g.V(aps_mission).repeat(out('ownerElement')).emit().as_('x').repeat(__.in_('ownerElement')).emit(hasId(usr_part_aps_mission)).select('x').limit(1).toList()"
   ]
  },
  {
   "cell_type": "code",
   "execution_count": 49,
   "metadata": {},
   "outputs": [
    {
     "data": {
      "text/plain": [
       "[v[_17_0_2_3_41e01aa_1389728637481_651557_61606_asi],\n",
       " v[_17_0_2_3_41e01aa_1389728637481_651557_61606_asi],\n",
       " v[_18_0_2_baa02e2_1421374196576_95730_78327],\n",
       " v[_17_0_2_3_41e01aa_1389729306878_38075_62969],\n",
       " v[_17_0_2_3_41e01aa_1389729306878_38075_62969],\n",
       " v[_17_0_2_3_41e01aa_1389731842407_88153_73842],\n",
       " v[_17_0_2_3_41e01aa_1389731842407_88153_73842],\n",
       " v[_17_0_2_3_41e01aa_1392143906001_327948_74735],\n",
       " v[_17_0_2_3_41e01aa_1392143906001_327948_74735],\n",
       " v[_17_0_2_3_41e01aa_1392143851234_419249_74564],\n",
       " v[_17_0_2_3_41e01aa_1392143851234_419249_74564],\n",
       " v[_18_0_2_baa02e2_1421376436201_767368_80540],\n",
       " v[_18_0_2_baa02e2_1421376436201_767368_80540],\n",
       " v[_17_0_2_3_41e01aa_1392141049983_161762_73149],\n",
       " v[_17_0_2_3_41e01aa_1392141049983_161762_73149],\n",
       " v[_18_0_5_baa02e2_1450822437908_614610_154553],\n",
       " v[_18_0_5_baa02e2_1450822437908_614610_154553],\n",
       " v[_17_0_2_3_41e01aa_1389730627603_980584_72643],\n",
       " v[_17_0_2_3_41e01aa_1389730627603_980584_72643],\n",
       " v[_18_0_4_baa02e2_1438799229720_161594_151777],\n",
       " v[_18_0_4_baa02e2_1438799229720_161594_151777],\n",
       " v[_18_0_4_baa02e2_1438799229720_161594_151777],\n",
       " v[_18_0_4_baa02e2_1438799229720_161594_151777],\n",
       " v[_18_0_5_baa02e2_1450822486955_252484_154596],\n",
       " v[_18_0_5_baa02e2_1450822486955_252484_154596],\n",
       " v[_18_0_5_baa02e2_1450825508435_909579_160274],\n",
       " v[_18_0_5_baa02e2_1450825532335_288341_160368],\n",
       " v[_18_0_4_baa02e2_1441756460925_253698_156609],\n",
       " v[_18_0_5_baa02e2_1450825511477_704273_160295],\n",
       " v[_18_0_5_baa02e2_1450825492604_555081_160170],\n",
       " v[_18_0_5_baa02e2_1450825536269_908352_160391],\n",
       " v[_18_0_5_baa02e2_1450825467665_75850_160108],\n",
       " v[_18_0_5_baa02e2_1450825429136_88482_160067],\n",
       " v[_18_0_5_baa02e2_1450825609544_321967_160465],\n",
       " v[_18_0_5_baa02e2_1450825503180_379676_160249],\n",
       " v[_18_0_5_baa02e2_1450825475484_239230_160135],\n",
       " v[_18_0_5_baa02e2_1450825612825_570899_160486],\n",
       " v[_18_0_5_baa02e2_1450825495699_802315_160197],\n",
       " v[_18_0_4_baa02e2_1441756455109_650422_156588],\n",
       " v[_18_0_5_baa02e2_1450825499540_31785_160226],\n",
       " v[_18_0_4_baa02e2_1439256390017_474720_150327],\n",
       " v[_18_0_5_baa02e2_1450821621963_595365_153798],\n",
       " v[_18_0_5_baa02e2_1450822196483_426607_154103],\n",
       " v[_18_0_5_baa02e2_1450822201516_587827_154167],\n",
       " v[_18_0_4_baa02e2_1439219939765_30221_193690],\n",
       " v[_18_0_5_baa02e2_1450821775330_400403_153941],\n",
       " v[_18_0_2_baa02e2_1416239074259_760434_89327],\n",
       " v[_18_0_4_baa02e2_1439219939765_302685_193689],\n",
       " v[_18_0_4_baa02e2_1439219939766_474247_193691],\n",
       " v[_18_0_5_baa02e2_1450822255504_502227_154283],\n",
       " v[_18_0_5_baa02e2_1450822437908_511611_154554]]"
      ]
     },
     "execution_count": 49,
     "metadata": {},
     "output_type": "execute_result"
    }
   ],
   "source": [
    "g.V(aps_mission).both().toList()"
   ]
  },
  {
   "cell_type": "code",
   "execution_count": null,
   "metadata": {},
   "outputs": [],
   "source": [
    "g = neptune.graphTraversal()\n",
    "g.V(enclosure).valueMap().toList()"
   ]
  },
  {
   "cell_type": "code",
   "execution_count": null,
   "metadata": {},
   "outputs": [],
   "source": []
  },
  {
   "cell_type": "code",
   "execution_count": null,
   "metadata": {},
   "outputs": [],
   "source": [
    "import spacy\n",
    "\n",
    "nlp_np = spacy.load(\"en_core_web_sm\")\n",
    "merge_nps = nlp_np.create_pipe(\"merge_noun_chunks\")\n",
    "nlp_np.add_pipe(merge_nps)\n"
   ]
  },
  {
   "cell_type": "code",
   "execution_count": null,
   "metadata": {},
   "outputs": [],
   "source": [
    "for t in nlp_np(\"Hello my name is the beautiful car of New York. Bye!\"):\n",
    "    print(t.text, t.pos_, t.idx)"
   ]
  },
  {
   "cell_type": "code",
   "execution_count": null,
   "metadata": {},
   "outputs": [],
   "source": [
    "def node_distance(neptune_instance, el_1, el_2):\n",
    "    try:\n",
    "        with time_limit(3):\n",
    "            path = neptune_instance.V(el_1).repeat(both().not_(hasId('master')).simplePath()).until(hasId(el_2).or_().loops().is_(8)).path().limit(1).toList()[0]\n",
    "            if (path[0].id == el_1) and (path[-1].id == el_2):\n",
    "                return len(path)-1\n",
    "            else:\n",
    "                return 10\n",
    "    except TimeoutException as e:\n",
    "        print(\"Timeout\")\n",
    "        return 10\n",
    "    \n",
    "        "
   ]
  },
  {
   "cell_type": "code",
   "execution_count": null,
   "metadata": {},
   "outputs": [],
   "source": [
    "g = neptune.graphTraversal()\n",
    "node_distance(g, aps_user, summit)"
   ]
  },
  {
   "cell_type": "code",
   "execution_count": null,
   "metadata": {},
   "outputs": [],
   "source": []
  }
 ],
 "metadata": {
  "kernelspec": {
   "display_name": "Python [conda env:cref]",
   "language": "python",
   "name": "conda-env-cref-py"
  },
  "language_info": {
   "codemirror_mode": {
    "name": "ipython",
    "version": 3
   },
   "file_extension": ".py",
   "mimetype": "text/x-python",
   "name": "python",
   "nbconvert_exporter": "python",
   "pygments_lexer": "ipython3",
   "version": "3.7.6"
  },
  "widgets": {
   "application/vnd.jupyter.widget-state+json": {
    "state": {},
    "version_major": 2,
    "version_minor": 0
   }
  }
 },
 "nbformat": 4,
 "nbformat_minor": 4
}
