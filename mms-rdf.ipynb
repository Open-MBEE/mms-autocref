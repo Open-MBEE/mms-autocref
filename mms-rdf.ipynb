{
 "cells": [
  {
   "cell_type": "code",
   "execution_count": 2,
   "metadata": {},
   "outputs": [],
   "source": [
    "%load_ext autoreload\n",
    "%autoreload 2"
   ]
  },
  {
   "cell_type": "code",
   "execution_count": 3,
   "metadata": {},
   "outputs": [],
   "source": [
    "import scipy\n",
    "import time\n",
    "import uuid\n",
    "\n",
    "import matplotlib.pyplot as plt\n",
    "import networkx as nx\n",
    "\n",
    "from SPARQLWrapper import SPARQLWrapper, JSON, POST\n",
    "\n",
    "from req_analysis import *"
   ]
  },
  {
   "cell_type": "markdown",
   "metadata": {},
   "source": [
    "# Initialize connection to Neptune"
   ]
  },
  {
   "cell_type": "code",
   "execution_count": 2,
   "metadata": {},
   "outputs": [
    {
     "name": "stdout",
     "output_type": "stream",
     "text": [
      "env: NEPTUNE_CLUSTER_ENDPOINT=100.65.51.106\n",
      "env: NEPTUNE_CLUSTER_PORT=8182\n",
      "gremlin: ws://100.65.51.106:8182/gremlin\n"
     ]
    }
   ],
   "source": [
    "%run 'req_analysis/libs/neptune-util.py'\n",
    "%env NEPTUNE_CLUSTER_ENDPOINT=100.65.51.106\n",
    "%env NEPTUNE_CLUSTER_PORT=8182\n",
    "g = neptune.graphTraversal()"
   ]
  },
  {
   "cell_type": "markdown",
   "metadata": {},
   "source": [
    "# Evaluation"
   ]
  },
  {
   "cell_type": "code",
   "execution_count": 5,
   "metadata": {},
   "outputs": [],
   "source": [
    "sparql = SPARQLWrapper(\"https://cae-mms-rdf-test-r5-2x.cluster-cw2hjngge6pe.us-gov-west-1.neptune.amazonaws.com:8182/sparql\")"
   ]
  },
  {
   "cell_type": "code",
   "execution_count": 6,
   "metadata": {},
   "outputs": [
    {
     "name": "stdout",
     "output_type": "stream",
     "text": [
      "== Status Code: 200 ==\n",
      "1951 reference targets found.\n"
     ]
    }
   ],
   "source": [
    "ref_targets = ReferenceTargets(sparql)\n",
    "ref_targets.init_table()"
   ]
  },
  {
   "cell_type": "code",
   "execution_count": 7,
   "metadata": {},
   "outputs": [
    {
     "name": "stdout",
     "output_type": "stream",
     "text": [
      "== Status Code: 200 ==\n",
      "3061 requirements found.\n"
     ]
    }
   ],
   "source": [
    "req_evaluator = RequirementEvaluator(sparql)\n",
    "req_evaluator.init_requirement_elements()"
   ]
  },
  {
   "cell_type": "code",
   "execution_count": null,
   "metadata": {
    "collapsed": true,
    "jupyter": {
     "outputs_hidden": true
    }
   },
   "outputs": [
    {
     "name": "stdout",
     "output_type": "stream",
     "text": [
      "1 / 1509 --- 0.2871859073638916 s\n",
      "NO MATCH FOUND evaluation with req:  _1c8745d2-aa73-4371-b35a-bbb0e3124ce9__98_cd3fdddc-d986-4574-ab2b-9bc64eaaf3b6_asi-slot-_18_0_2_b4c02e1_1422576771659_877428_84042-slotvalue-0-literalstring\n",
      "2 / 1509 --- 0.45852184295654297 s\n",
      "NO MATCH FOUND evaluation with req:  _4663af6e-6265-438d-87b8-74e1550518bf__6762_4eeaf824-1f0a-4178-933d-8c01771b629d_asi-slot-_18_0_2_b4c02e1_1423073212164_663502_347367-slotvalue-0-literalstring\n",
      "3 / 1509 --- 0.6321349143981934 s\n",
      "NO MATCH FOUND evaluation with req:  _4663af6e-6265-438d-87b8-74e1550518bf__6572_1d3dd20d-9283-4015-b8c0-a3dee3fcfbe3_asi-slot-_18_0_2_b4c02e1_1422576771659_877428_84042-slotvalue-0-literalstring\n",
      "4 / 1509 --- 1.320995807647705 s\n",
      "NO MATCH FOUND evaluation with req:  _4663af6e-6265-438d-87b8-74e1550518bf__6762_4eeaf824-1f0a-4178-933d-8c01771b629d_asi-slot-_11_5EAPbeta_be00301_1147873226632_528960_2311-slotvalue-0-literalstring\n"
     ]
    },
    {
     "name": "stderr",
     "output_type": "stream",
     "text": [
      "/usr/local/anaconda3/envs/cref/lib/python3.7/site-packages/nltk/cluster/util.py:133: RuntimeWarning: invalid value encountered in double_scalars\n",
      "  return 1 - (numpy.dot(u, v) / (sqrt(numpy.dot(u, u)) * sqrt(numpy.dot(v, v))))\n"
     ]
    },
    {
     "name": "stdout",
     "output_type": "stream",
     "text": [
      "5 / 1509 --- 1.8623926639556885 s\n",
      "NO MATCH FOUND evaluation with req:  _4663af6e-6265-438d-87b8-74e1550518bf__6572_1d3dd20d-9283-4015-b8c0-a3dee3fcfbe3_asi-slot-_11_5EAPbeta_be00301_1147873226632_528960_2311-slotvalue-0-literalstring\n",
      "6 / 1509 --- 2.0961458683013916 s\n",
      "NO MATCH FOUND evaluation with req:  _8f7cabc1-8e5f-4014-8c9c-7ff7b8b98955__1371_1c1dbf6d-afd7-4903-b52a-f560db05995b_asi-slot-_18_0_2_b4c02e1_1422576771659_877428_84042-slotvalue-0-literalstring\n",
      "7 / 1509 --- 2.2651917934417725 s\n",
      "NO MATCH FOUND evaluation with req:  _4663af6e-6265-438d-87b8-74e1550518bf__6762_4eeaf824-1f0a-4178-933d-8c01771b629d_asi-slot-_18_0_2_b4c02e1_1422576771659_877428_84042-slotvalue-0-literalstring\n",
      "8 / 1509 --- 2.9840128421783447 s\n",
      "NO MATCH FOUND evaluation with req:  _18682_bd1fb593-def7-42f3-a50b-3b55236faee7_asi-slot-_11_5EAPbeta_be00301_1147873226632_528960_2311-slotvalue-0-literalstring\n",
      "9 / 1509 --- 3.6805808544158936 s\n",
      "NO MATCH FOUND evaluation with req:  _18682_bd1fb593-def7-42f3-a50b-3b55236faee7_asi-slot-_17_0_2_3_b4c02e1_1380209973757_201523_39672-slotvalue-0-literalstring\n",
      "10 / 1509 --- 3.8692259788513184 s\n",
      "NO MATCH FOUND evaluation with req:  _8f7cabc1-8e5f-4014-8c9c-7ff7b8b98955__1930_ff666c38-330f-4c64-b99d-b4ff9f42bd92_asi-slot-_18_0_2_b4c02e1_1422576771659_877428_84042-slotvalue-0-literalstring\n",
      "WARNING: Same age (0) and same token were merged\n",
      "Token: {'text': 'Spectral Resolution', 'pos': 'PROPN', 'token_id': 9}\n",
      "11 / 1509 --- 10.431611776351929 s\n",
      "EVALUATION done for req:  _8f7cabc1-8e5f-4014-8c9c-7ff7b8b98955__1930_ff666c38-330f-4c64-b99d-b4ff9f42bd92_asi-slot-_11_5EAPbeta_be00301_1147873226632_528960_2311-slotvalue-0-literalstring\n",
      "12 / 1509 --- 10.82956576347351 s\n",
      "NO MATCH FOUND evaluation with req:  _4663af6e-6265-438d-87b8-74e1550518bf__6689_0b2b715a-d552-45c5-b471-e0f2fc14cf29_asi-slot-_11_5EAPbeta_be00301_1147873226632_528960_2311-slotvalue-0-literalstring\n",
      "13 / 1509 --- 11.453162908554077 s\n",
      "NO MATCH FOUND evaluation with req:  _16525_cef063ae-6d4a-4b62-80ba-781ebed6e265_asi-slot-_11_5EAPbeta_be00301_1147873226632_528960_2311-slotvalue-0-literalstring\n",
      "14 / 1509 --- 12.58665680885315 s\n",
      "NO MATCH FOUND evaluation with req:  _6661c442-ae86-4f4e-bfeb-45c7062378f6__972_074cb81e-8b17-473f-b21a-fd317b741c4b_asi-slot-_11_5EAPbeta_be00301_1147873226632_528960_2311-slotvalue-0-literalstring\n",
      "15 / 1509 --- 12.948527812957764 s\n",
      "NO MATCH FOUND evaluation with req:  _18809_f2082ebd-41e2-4952-8ee7-7f40b342927a_asi-slot-_18_0_2_b4c02e1_1422576771655_92674_84021-slotvalue-0-literalstring\n",
      "16 / 1509 --- 13.242865800857544 s\n",
      "NO MATCH FOUND evaluation with req:  _16701_b5ffe8a5-46e9-4d7d-9411-eb1445abbe57_asi-slot-_11_5EAPbeta_be00301_1147873226632_528960_2311-slotvalue-0-literalstring\n",
      "17 / 1509 --- 13.728293895721436 s\n",
      "NO MATCH FOUND evaluation with req:  _18809_f2082ebd-41e2-4952-8ee7-7f40b342927a_asi-slot-_11_5EAPbeta_be00301_1147873226632_528960_2311-slotvalue-0-literalstring\n",
      "18 / 1509 --- 14.426807641983032 s\n",
      "NO MATCH FOUND evaluation with req:  _1c8745d2-aa73-4371-b35a-bbb0e3124ce9__102_99ff74f0-cdcc-4b5c-81dd-40e01e39cd00_asi-slot-_11_5EAPbeta_be00301_1147873226632_528960_2311-slotvalue-0-literalstring\n",
      "19 / 1509 --- 14.897854804992676 s\n",
      "NO MATCH FOUND evaluation with req:  _8f7cabc1-8e5f-4014-8c9c-7ff7b8b98955__1370_c989809d-1e46-4446-9993-82dc0c83d770_asi-slot-_11_5EAPbeta_be00301_1147873226632_528960_2311-slotvalue-0-literalstring\n",
      "WARNING: Same age (0) and same token were merged\n",
      "Token: {'text': 'image quality', 'pos': 'NOUN', 'token_id': 21}\n",
      "20 / 1509 --- 38.7944278717041 s\n",
      "EVALUATION done for req:  _4663af6e-6265-438d-87b8-74e1550518bf__6345_d7acc0f4-2776-4a73-9592-4854e99e2d24_asi-slot-_11_5EAPbeta_be00301_1147873226632_528960_2311-slotvalue-0-literalstring\n",
      "21 / 1509 --- 39.21375799179077 s\n",
      "NO MATCH FOUND evaluation with req:  _14047_768a736a-4f07-41f4-9172-66427616c5a1_asi-slot-_11_5EAPbeta_be00301_1147873226632_528960_2311-slotvalue-0-literalstring\n",
      "22 / 1509 --- 39.78509593009949 s\n",
      "NO MATCH FOUND evaluation with req:  _4663af6e-6265-438d-87b8-74e1550518bf__6345_d7acc0f4-2776-4a73-9592-4854e99e2d24_asi-slot-_17_0_2_3_b4c02e1_1380209973757_201523_39672-slotvalue-0-literalstring\n",
      "23 / 1509 --- 41.46450090408325 s\n",
      "NO MATCH FOUND evaluation with req:  _1c8745d2-aa73-4371-b35a-bbb0e3124ce9__177_de0b38f1-5b92-496b-a528-89795aef8916_asi-slot-_11_5EAPbeta_be00301_1147873226632_528960_2311-slotvalue-0-literalstring\n",
      "24 / 1509 --- 41.6617705821991 s\n",
      "NO MATCH FOUND evaluation with req:  _4663af6e-6265-438d-87b8-74e1550518bf__963_2b4b4e67-65b8-49ef-853c-03a56e27f9be_asi-slot-_18_0_2_b4c02e1_1422576771659_877428_84042-slotvalue-0-literalstring\n",
      "25 / 1509 --- 42.095152854919434 s\n",
      "NO MATCH FOUND evaluation with req:  _18406_b4f0b9b9-09c9-4823-8d37-c0945baeb889_asi-slot-_11_5EAPbeta_be00301_1147873226632_528960_2311-slotvalue-0-literalstring\n",
      "26 / 1509 --- 42.714359760284424 s\n",
      "NO MATCH FOUND evaluation with req:  _17010_570152aa-c731-425e-95cd-c6f4d6087b5a_asi-slot-_11_5EAPbeta_be00301_1147873226632_528960_2311-slotvalue-0-literalstring\n",
      "27 / 1509 --- 43.112430810928345 s\n",
      "NO MATCH FOUND evaluation with req:  _4663af6e-6265-438d-87b8-74e1550518bf__12740_ccaedd1c-65c0-4814-8c0b-4b5102351461_asi-slot-_11_5EAPbeta_be00301_1147873226632_528960_2311-slotvalue-0-literalstring\n",
      "28 / 1509 --- 43.92690372467041 s\n",
      "NO MATCH FOUND evaluation with req:  _8f7cabc1-8e5f-4014-8c9c-7ff7b8b98955__1700_e88fee38-a824-48cb-bf5e-c976e6993d27_asi-slot-_11_5EAPbeta_be00301_1147873226632_528960_2311-slotvalue-0-literalstring\n",
      "29 / 1509 --- 47.760538816452026 s\n",
      "NO MATCH FOUND evaluation with req:  _10471_9ab91e35-131c-4ccb-904a-ae29e4b00cc9_asi-slot-_11_5EAPbeta_be00301_1147873226632_528960_2311-slotvalue-0-literalstring\n",
      "30 / 1509 --- 48.18196201324463 s\n",
      "NO MATCH FOUND evaluation with req:  _4663af6e-6265-438d-87b8-74e1550518bf__12740_ccaedd1c-65c0-4814-8c0b-4b5102351461_asi-slot-_18_0_2_b4c02e1_1422576771655_92674_84021-slotvalue-0-literalstring\n",
      "31 / 1509 --- 48.355334758758545 s\n",
      "NO MATCH FOUND evaluation with req:  _8f7cabc1-8e5f-4014-8c9c-7ff7b8b98955__1049_2e0bd9a0-02fa-4b43-88be-6eb6d6f4d304_asi-slot-_18_0_2_b4c02e1_1422576771659_877428_84042-slotvalue-0-literalstring\n",
      "WARNING: Same age (0) and same token were merged\n",
      "Token: {'text': 'Requirements', 'pos': 'NOUN', 'token_id': 74}\n",
      "32 / 1509 --- 95.30933666229248 s\n",
      "EVALUATION done for req:  _8f7cabc1-8e5f-4014-8c9c-7ff7b8b98955__1087_8ef8b183-ac20-4783-9599-09f7dc9c8788_asi-slot-_11_5EAPbeta_be00301_1147873226632_528960_2311-slotvalue-0-literalstring\n",
      "33 / 1509 --- 95.81056475639343 s\n",
      "NO MATCH FOUND evaluation with req:  _17010_570152aa-c731-425e-95cd-c6f4d6087b5a_asi-slot-_18_0_2_b4c02e1_1422576771655_92674_84021-slotvalue-0-literalstring\n",
      "WARNING: Same age (0) and same token were merged\n",
      "Token: {'text': 'performance requirements', 'pos': 'NOUN', 'token_id': 14}\n",
      "34 / 1509 --- 111.17819690704346 s\n",
      "EVALUATION done for req:  _12784_e53b4b47-2836-423e-8fce-a098146db2ce_asi-slot-_11_5EAPbeta_be00301_1147873226632_528960_2311-slotvalue-0-literalstring\n",
      "35 / 1509 --- 111.65119075775146 s\n",
      "NO MATCH FOUND evaluation with req:  _18793_3dbb4727-eec9-414d-8155-aaf65be488a6_asi-slot-_18_0_2_b4c02e1_1422576771655_92674_84021-slotvalue-0-literalstring\n",
      "36 / 1509 --- 111.85814571380615 s\n",
      "NO MATCH FOUND evaluation with req:  _4663af6e-6265-438d-87b8-74e1550518bf__43_1eed1aa0-1855-4817-b616-e409f3716341_asi-slot-_18_0_2_b4c02e1_1422576771659_877428_84042-slotvalue-0-literalstring\n",
      "37 / 1509 --- 459.328351020813 s\n",
      "EVALUATION done for req:  _8f7cabc1-8e5f-4014-8c9c-7ff7b8b98955__1375_49ed0455-5517-4123-a4cb-1630ef12063d_asi-slot-_11_5EAPbeta_be00301_1147873226632_528960_2311-slotvalue-0-literalstring\n",
      "38 / 1509 --- 459.85105895996094 s\n",
      "NO MATCH FOUND evaluation with req:  _4663af6e-6265-438d-87b8-74e1550518bf__43_1eed1aa0-1855-4817-b616-e409f3716341_asi-slot-_11_5EAPbeta_be00301_1147873226632_528960_2311-slotvalue-0-literalstring\n",
      "39 / 1509 --- 460.64367389678955 s\n",
      "NO MATCH FOUND evaluation with req:  _6141_d6b7892d-6775-4391-b71e-bbd99d915bb0_asi-slot-_11_5EAPbeta_be00301_1147873226632_528960_2311-slotvalue-0-literalstring\n",
      "40 / 1509 --- 461.11492586135864 s\n",
      "NO MATCH FOUND evaluation with req:  _2876_8a64bd4c-bc6e-4787-ab6a-e1fb652d0b9f_asi-slot-_11_5EAPbeta_be00301_1147873226632_528960_2311-slotvalue-0-literalstring\n",
      "41 / 1509 --- 461.367173910141 s\n",
      "NO MATCH FOUND evaluation with req:  _6661c442-ae86-4f4e-bfeb-45c7062378f6__962_44d00e98-96b2-4a3a-8040-8616b4f97c2b_asi-slot-_18_0_2_b4c02e1_1422576771659_877428_84042-slotvalue-0-literalstring\n",
      "42 / 1509 --- 462.0592279434204 s\n",
      "NO MATCH FOUND evaluation with req:  _6661c442-ae86-4f4e-bfeb-45c7062378f6__920_39c3ac7f-a9e1-461e-9450-a1d50e458364_asi-slot-_11_5EAPbeta_be00301_1147873226632_528960_2311-slotvalue-0-literalstring\n",
      "43 / 1509 --- 462.267698764801 s\n",
      "NO MATCH FOUND evaluation with req:  _4663af6e-6265-438d-87b8-74e1550518bf__130_206bd9d9-ccce-46ad-8dcf-184a3e86f30f_asi-slot-_18_0_2_b4c02e1_1422576771659_877428_84042-slotvalue-0-literalstring\n",
      "44 / 1509 --- 462.4376208782196 s\n",
      "NO MATCH FOUND evaluation with req:  _8f7cabc1-8e5f-4014-8c9c-7ff7b8b98955__1142_26a1f08b-262d-4732-9916-eca734ef4a72_asi-slot-_18_0_2_b4c02e1_1422576771659_877428_84042-slotvalue-0-literalstring\n",
      "45 / 1509 --- 462.65639567375183 s\n",
      "NO MATCH FOUND evaluation with req:  _4663af6e-6265-438d-87b8-74e1550518bf__130_206bd9d9-ccce-46ad-8dcf-184a3e86f30f_asi-slot-_18_0_2_b4c02e1_1423073212164_663502_347367-slotvalue-0-literalstring\n",
      "46 / 1509 --- 462.8232877254486 s\n",
      "NO MATCH FOUND evaluation with req:  _4663af6e-6265-438d-87b8-74e1550518bf__6424_1820eade-54aa-4ff2-a21e-4fdae3be9bcb_asi-slot-_18_0_2_b4c02e1_1422576771659_877428_84042-slotvalue-0-literalstring\n",
      "47 / 1509 --- 464.0177228450775 s\n",
      "NO MATCH FOUND evaluation with req:  _4663af6e-6265-438d-87b8-74e1550518bf__130_206bd9d9-ccce-46ad-8dcf-184a3e86f30f_asi-slot-_11_5EAPbeta_be00301_1147873226632_528960_2311-slotvalue-0-literalstring\n",
      "48 / 1509 --- 464.4214117527008 s\n",
      "NO MATCH FOUND evaluation with req:  _18405_3cf87e7b-5cf3-4de6-9c5d-ead31ff56e4b_asi-slot-_11_5EAPbeta_be00301_1147873226632_528960_2311-slotvalue-0-literalstring\n",
      "49 / 1509 --- 464.5876679420471 s\n",
      "NO MATCH FOUND evaluation with req:  _8f7cabc1-8e5f-4014-8c9c-7ff7b8b98955__1903_0ecaced5-11aa-4281-afd8-2c7602cd93d7_asi-slot-_18_0_2_b4c02e1_1422576771659_877428_84042-slotvalue-0-literalstring\n",
      "50 / 1509 --- 465.16321182250977 s\n",
      "NO MATCH FOUND evaluation with req:  _1c8745d2-aa73-4371-b35a-bbb0e3124ce9__151_beb97032-3234-47c0-9eed-089094984e46_asi-slot-_11_5EAPbeta_be00301_1147873226632_528960_2311-slotvalue-0-literalstring\n",
      "51 / 1509 --- 465.5218198299408 s\n",
      "NO MATCH FOUND evaluation with req:  _18415_b85179c7-8f36-40b1-a00d-87e99442e1f2_asi-slot-_11_5EAPbeta_be00301_1147873226632_528960_2311-slotvalue-0-literalstring\n",
      "WARNING: Same age (0) and same token were merged\n",
      "Token: {'text': 'administration', 'pos': 'NOUN', 'token_id': 39}\n",
      "52 / 1509 --- 468.7868278026581 s\n",
      "EVALUATION done for req:  _4663af6e-6265-438d-87b8-74e1550518bf__12360_ce74a4bf-83f8-4d1b-bb9a-9a9a4a0b3abb_asi-slot-_11_5EAPbeta_be00301_1147873226632_528960_2311-slotvalue-0-literalstring\n",
      "53 / 1509 --- 469.23337864875793 s\n",
      "NO MATCH FOUND evaluation with req:  _4663af6e-6265-438d-87b8-74e1550518bf__12360_ce74a4bf-83f8-4d1b-bb9a-9a9a4a0b3abb_asi-slot-_18_0_2_b4c02e1_1422576771655_92674_84021-slotvalue-0-literalstring\n",
      "54 / 1509 --- 469.482736825943 s\n",
      "NO MATCH FOUND evaluation with req:  _4663af6e-6265-438d-87b8-74e1550518bf__12360_ce74a4bf-83f8-4d1b-bb9a-9a9a4a0b3abb_asi-slot-_18_0_2_b4c02e1_1422576771659_877428_84042-slotvalue-0-literalstring\n",
      "55 / 1509 --- 469.9720346927643 s\n",
      "NO MATCH FOUND evaluation with req:  _8f7cabc1-8e5f-4014-8c9c-7ff7b8b98955__1150_983c7d7b-d6ed-4ad9-85f2-5528bca10212_asi-slot-_11_5EAPbeta_be00301_1147873226632_528960_2311-slotvalue-0-literalstring\n",
      "56 / 1509 --- 470.13507199287415 s\n",
      "NO MATCH FOUND evaluation with req:  _8f7cabc1-8e5f-4014-8c9c-7ff7b8b98955__1150_983c7d7b-d6ed-4ad9-85f2-5528bca10212_asi-slot-_18_0_2_b4c02e1_1422576771659_877428_84042-slotvalue-0-literalstring\n",
      "57 / 1509 --- 470.56318974494934 s\n",
      "NO MATCH FOUND evaluation with req:  _4663af6e-6265-438d-87b8-74e1550518bf__11307_f440eff7-8321-4203-92dd-53b2f11aa0f4_asi-slot-_11_5EAPbeta_be00301_1147873226632_528960_2311-slotvalue-0-literalstring\n",
      "58 / 1509 --- 471.30689883232117 s\n",
      "NO MATCH FOUND evaluation with req:  _14039_76f83280-d9db-4870-a96d-2e073ace716c_asi-slot-_18_0_2_b4c02e1_1422576771655_92674_84021-slotvalue-0-literalstring\n",
      "59 / 1509 --- 471.48620080947876 s\n",
      "NO MATCH FOUND evaluation with req:  _4663af6e-6265-438d-87b8-74e1550518bf__223_7be7607a-420b-42d0-b237-e9eeef6a6680_asi-slot-_18_0_2_b4c02e1_1422576771659_877428_84042-slotvalue-0-literalstring\n",
      "60 / 1509 --- 473.3880078792572 s\n",
      "EVALUATION done for req:  _10452_35036dfd-7372-41f1-91b8-bb132095db4a_asi-slot-_11_5EAPbeta_be00301_1147873226632_528960_2311-slotvalue-0-literalstring\n",
      "61 / 1509 --- 474.1287739276886 s\n",
      "NO MATCH FOUND evaluation with req:  _6661c442-ae86-4f4e-bfeb-45c7062378f6__1141_e39e3dc2-1031-4c6b-b423-ada5be61ff8d_asi-slot-_11_5EAPbeta_be00301_1147873226632_528960_2311-slotvalue-0-literalstring\n",
      "62 / 1509 --- 474.3419179916382 s\n",
      "NO MATCH FOUND evaluation with req:  _4663af6e-6265-438d-87b8-74e1550518bf__164_e8ea2aab-6001-4cca-a720-819f6ce783f9_asi-slot-_18_0_2_b4c02e1_1422576771659_877428_84042-slotvalue-0-literalstring\n",
      "63 / 1509 --- 474.51185488700867 s\n",
      "NO MATCH FOUND evaluation with req:  _4663af6e-6265-438d-87b8-74e1550518bf__906_296b9968-fc8e-4101-950d-cec5eed188a1_asi-slot-_18_0_2_b4c02e1_1422576771659_877428_84042-slotvalue-0-literalstring\n",
      "64 / 1509 --- 475.0257716178894 s\n",
      "NO MATCH FOUND evaluation with req:  _10917_66b309d1-1d61-40ee-b0b7-f43ef3400645_asi-slot-_11_5EAPbeta_be00301_1147873226632_528960_2311-slotvalue-0-literalstring\n",
      "65 / 1509 --- 475.22832894325256 s\n",
      "NO MATCH FOUND evaluation with req:  _4663af6e-6265-438d-87b8-74e1550518bf__12425_834ed916-b7b3-4524-9048-6c44fcef4e93_asi-slot-_18_0_2_b4c02e1_1422576771659_877428_84042-slotvalue-0-literalstring\n",
      "66 / 1509 --- 475.43393898010254 s\n",
      "NO MATCH FOUND evaluation with req:  _18369_69244846-efcc-4b3b-a362-35217c31a881_asi-slot-_11_5EAPbeta_be00301_1147873226632_528960_2311-slotvalue-0-literalstring\n",
      "67 / 1509 --- 475.60744762420654 s\n",
      "NO MATCH FOUND evaluation with req:  _8f7cabc1-8e5f-4014-8c9c-7ff7b8b98955__1370_c989809d-1e46-4446-9993-82dc0c83d770_asi-slot-_18_0_2_b4c02e1_1422576771659_877428_84042-slotvalue-0-literalstring\n",
      "68 / 1509 --- 476.11105275154114 s\n",
      "NO MATCH FOUND evaluation with req:  _4663af6e-6265-438d-87b8-74e1550518bf__11350_83be4931-197e-4f22-aad5-f200b6f69dc5_asi-slot-_11_5EAPbeta_be00301_1147873226632_528960_2311-slotvalue-0-literalstring\n",
      "69 / 1509 --- 476.2759177684784 s\n",
      "NO MATCH FOUND evaluation with req:  _8f7cabc1-8e5f-4014-8c9c-7ff7b8b98955__2474_736d3368-f02c-4da6-bc1c-6d8898ee90ae_asi-slot-_18_0_2_b4c02e1_1422576771659_877428_84042-slotvalue-0-literalstring\n",
      "70 / 1509 --- 477.18877959251404 s\n",
      "NO MATCH FOUND evaluation with req:  _16670_86dcaa96-bdbd-41d3-ae21-6c3e56b38092_asi-slot-_11_5EAPbeta_be00301_1147873226632_528960_2311-slotvalue-0-literalstring\n",
      "71 / 1509 --- 477.3579568862915 s\n",
      "NO MATCH FOUND evaluation with req:  _4663af6e-6265-438d-87b8-74e1550518bf__11350_83be4931-197e-4f22-aad5-f200b6f69dc5_asi-slot-_18_0_2_b4c02e1_1422576771659_877428_84042-slotvalue-0-literalstring\n",
      "72 / 1509 --- 477.8587427139282 s\n",
      "NO MATCH FOUND evaluation with req:  _4663af6e-6265-438d-87b8-74e1550518bf__906_296b9968-fc8e-4101-950d-cec5eed188a1_asi-slot-_17_0_2_3_b4c02e1_1379368975825_138301_38788-slotvalue-0-literalstring\n",
      "73 / 1509 --- 478.9263129234314 s\n",
      "NO MATCH FOUND evaluation with req:  _18816_9bbbfdd7-3927-44b9-bfde-cb4131acbf8a_asi-slot-_11_5EAPbeta_be00301_1147873226632_528960_2311-slotvalue-0-literalstring\n",
      "74 / 1509 --- 479.30616664886475 s\n",
      "NO MATCH FOUND evaluation with req:  _4663af6e-6265-438d-87b8-74e1550518bf__12425_834ed916-b7b3-4524-9048-6c44fcef4e93_asi-slot-_18_0_2_b4c02e1_1422576771655_92674_84021-slotvalue-0-literalstring\n",
      "75 / 1509 --- 479.9355728626251 s\n",
      "NO MATCH FOUND evaluation with req:  _841_87af5944-6ea6-45b1-b787-f90cbfeec9b4_asi-slot-_17_0_2_3_b4c02e1_1379368975825_138301_38788-slotvalue-0-literalstring\n",
      "76 / 1509 --- 480.67275977134705 s\n",
      "NO MATCH FOUND evaluation with req:  _4663af6e-6265-438d-87b8-74e1550518bf__11312_765624b5-f975-460a-a93f-d6978330a7c8_asi-slot-_11_5EAPbeta_be00301_1147873226632_528960_2311-slotvalue-0-literalstring\n",
      "WARNING: Same age (0) and same token were merged\n",
      "Token: {'text': 'System', 'pos': 'PROPN', 'token_id': 20}\n",
      "77 / 1509 --- 520.1045389175415 s\n",
      "EVALUATION done for req:  _841_87af5944-6ea6-45b1-b787-f90cbfeec9b4_asi-slot-_11_5EAPbeta_be00301_1147873226632_528960_2311-slotvalue-0-literalstring\n",
      "78 / 1509 --- 520.2780196666718 s\n",
      "NO MATCH FOUND evaluation with req:  _4663af6e-6265-438d-87b8-74e1550518bf__6722_ed6f14a5-bada-4dbf-bfec-b1fa098e5442_asi-slot-_18_0_2_b4c02e1_1422576771659_877428_84042-slotvalue-0-literalstring\n",
      "79 / 1509 --- 520.7439019680023 s\n",
      "NO MATCH FOUND evaluation with req:  _4663af6e-6265-438d-87b8-74e1550518bf__11312_765624b5-f975-460a-a93f-d6978330a7c8_asi-slot-_17_0_2_3_b4c02e1_1379368975825_138301_38788-slotvalue-0-literalstring\n",
      "80 / 1509 --- 520.9125199317932 s\n",
      "NO MATCH FOUND evaluation with req:  _8f7cabc1-8e5f-4014-8c9c-7ff7b8b98955__1210_17af3b5f-b358-46e2-b20a-68498520ca78_asi-slot-_18_0_2_b4c02e1_1422576771659_877428_84042-slotvalue-0-literalstring\n",
      "81 / 1509 --- 521.3261468410492 s\n",
      "NO MATCH FOUND evaluation with req:  _4663af6e-6265-438d-87b8-74e1550518bf__17031_2c67bc16-6d73-4c0f-9928-aafb172b1e35_asi-slot-_18_0_2_b4c02e1_1422576771655_92674_84021-slotvalue-0-literalstring\n",
      "82 / 1509 --- 521.6317608356476 s\n",
      "NO MATCH FOUND evaluation with req:  _18460_04cb3582-3c51-4b95-8ed9-1c051add0ef6_asi-slot-_11_5EAPbeta_be00301_1147873226632_528960_2311-slotvalue-0-literalstring\n",
      "83 / 1509 --- 522.3055999279022 s\n",
      "NO MATCH FOUND evaluation with req:  _16334_a8603c94-daf1-4758-8ca7-0ded811501d3_asi-slot-_11_5EAPbeta_be00301_1147873226632_528960_2311-slotvalue-0-literalstring\n",
      "84 / 1509 --- 523.0452969074249 s\n",
      "NO MATCH FOUND evaluation with req:  _4663af6e-6265-438d-87b8-74e1550518bf__6651_2a81ddca-3eb4-49e1-a73b-82420a6eb19a_asi-slot-_11_5EAPbeta_be00301_1147873226632_528960_2311-slotvalue-0-literalstring\n",
      "85 / 1509 --- 523.217004776001 s\n",
      "NO MATCH FOUND evaluation with req:  _8f7cabc1-8e5f-4014-8c9c-7ff7b8b98955__1916_e4a25534-9a1c-4862-b643-040685241bd9_asi-slot-_18_0_2_b4c02e1_1422576771659_877428_84042-slotvalue-0-literalstring\n",
      "86 / 1509 --- 523.4045376777649 s\n",
      "NO MATCH FOUND evaluation with req:  _4663af6e-6265-438d-87b8-74e1550518bf__6411_e49dfe67-280a-4f9d-9435-9b087f4f2cfb_asi-slot-_18_0_2_b4c02e1_1422576771659_877428_84042-slotvalue-0-literalstring\n",
      "87 / 1509 --- 523.5747509002686 s\n",
      "NO MATCH FOUND evaluation with req:  _8f7cabc1-8e5f-4014-8c9c-7ff7b8b98955__1922_85f6e6a6-a867-4653-9ce3-c07f9c4d8520_asi-slot-_18_0_2_b4c02e1_1422576771659_877428_84042-slotvalue-0-literalstring\n",
      "88 / 1509 --- 523.7508406639099 s\n",
      "NO MATCH FOUND evaluation with req:  _6661c442-ae86-4f4e-bfeb-45c7062378f6__909_66a11cc5-4563-4795-baab-15a396eb4043_asi-slot-_18_0_2_b4c02e1_1422576771659_877428_84042-slotvalue-0-literalstring\n",
      "89 / 1509 --- 524.0096657276154 s\n",
      "NO MATCH FOUND evaluation with req:  _16713_9224b4eb-e727-4155-9565-e24cf99121ce_asi-slot-_17_0_2_3_b4c02e1_1380209973757_201523_39672-slotvalue-0-literalstring\n",
      "90 / 1509 --- 524.543863773346 s\n",
      "NO MATCH FOUND evaluation with req:  _4663af6e-6265-438d-87b8-74e1550518bf__6411_e49dfe67-280a-4f9d-9435-9b087f4f2cfb_asi-slot-_11_5EAPbeta_be00301_1147873226632_528960_2311-slotvalue-0-literalstring\n",
      "91 / 1509 --- 525.0923409461975 s\n",
      "NO MATCH FOUND evaluation with req:  _18654_05bfc63e-35a7-40f3-9c66-bd1af350b075_asi-slot-_11_5EAPbeta_be00301_1147873226632_528960_2311-slotvalue-0-literalstring\n",
      "92 / 1509 --- 525.3642916679382 s\n",
      "NO MATCH FOUND evaluation with req:  _12306_ab49ec61-e197-49a6-871d-21c7a8815d58_asi-slot-_11_5EAPbeta_be00301_1147873226632_528960_2311-slotvalue-0-literalstring\n",
      "93 / 1509 --- 525.8106887340546 s\n",
      "NO MATCH FOUND evaluation with req:  _6661c442-ae86-4f4e-bfeb-45c7062378f6__909_66a11cc5-4563-4795-baab-15a396eb4043_asi-slot-_11_5EAPbeta_be00301_1147873226632_528960_2311-slotvalue-0-literalstring\n",
      "94 / 1509 --- 526.8572127819061 s\n",
      "NO MATCH FOUND evaluation with req:  _18654_05bfc63e-35a7-40f3-9c66-bd1af350b075_asi-slot-_17_0_2_3_b4c02e1_1380209973757_201523_39672-slotvalue-0-literalstring\n",
      "95 / 1509 --- 840.0319788455963 s\n",
      "EVALUATION done for req:  _8f7cabc1-8e5f-4014-8c9c-7ff7b8b98955__1607_075f918d-fd72-4dd1-8495-f33cd9280d09_asi-slot-_11_5EAPbeta_be00301_1147873226632_528960_2311-slotvalue-0-literalstring\n",
      "96 / 1509 --- 840.4637739658356 s\n",
      "NO MATCH FOUND evaluation with req:  _15366_212c5386-bb1e-4159-a2a7-5c2c4ae8b8ef_asi-slot-_18_0_2_b4c02e1_1422576771655_92674_84021-slotvalue-0-literalstring\n",
      "WARNING: Same age (0) and same token were merged\n",
      "Token: {'text': 'The Observatory Safety System', 'pos': 'PROPN', 'token_id': 8}\n",
      "97 / 1509 --- 4053.7544388771057 s\n",
      "FAILED evaluation with req:  _4663af6e-6265-438d-87b8-74e1550518bf__906_296b9968-fc8e-4101-950d-cec5eed188a1_asi-slot-_11_5EAPbeta_be00301_1147873226632_528960_2311-slotvalue-0-literalstring\n",
      "98 / 1509 --- 4054.2265815734863 s\n",
      "NO MATCH FOUND evaluation with req:  _18763_36f4937f-2cfc-4369-aa5d-824b4741c8bd_asi-slot-_11_5EAPbeta_be00301_1147873226632_528960_2311-slotvalue-0-literalstring\n",
      "99 / 1509 --- 4054.620599746704 s\n",
      "NO MATCH FOUND evaluation with req:  _4663af6e-6265-438d-87b8-74e1550518bf__6425_e79ca7d6-bddd-4172-a550-e6fd60b87f3b_asi-slot-_18_0_2_b4c02e1_1422576771655_92674_84021-slotvalue-0-literalstring\n",
      "100 / 1509 --- 4055.367214679718 s\n",
      "NO MATCH FOUND evaluation with req:  _13382_966aa876-be02-457b-902e-526f5eb3ef3d_asi-slot-_18_0_2_b4c02e1_1422576771655_92674_84021-slotvalue-0-literalstring\n",
      "101 / 1509 --- 4055.8311727046967 s\n",
      "FAILED evaluation with req:  _18876_3df80089-f60e-4559-a0d2-f09bf145c09f_asi-slot-_11_5EAPbeta_be00301_1147873226632_528960_2311-slotvalue-0-literalstring\n",
      "102 / 1509 --- 4056.4420149326324 s\n",
      "NO MATCH FOUND evaluation with req:  _8f7cabc1-8e5f-4014-8c9c-7ff7b8b98955__2474_736d3368-f02c-4da6-bc1c-6d8898ee90ae_asi-slot-_11_5EAPbeta_be00301_1147873226632_528960_2311-slotvalue-0-literalstring\n",
      "103 / 1509 --- 4057.0382878780365 s\n",
      "NO MATCH FOUND evaluation with req:  _4663af6e-6265-438d-87b8-74e1550518bf__6405_27e83222-020a-40d7-8013-389bc13d1c67_asi-slot-_11_5EAPbeta_be00301_1147873226632_528960_2311-slotvalue-0-literalstring\n"
     ]
    }
   ],
   "source": [
    "req_evaluator.evaluate_all_requirements(g, ref_targets, pprint=False)"
   ]
  },
  {
   "cell_type": "code",
   "execution_count": null,
   "metadata": {},
   "outputs": [],
   "source": []
  },
  {
   "cell_type": "code",
   "execution_count": null,
   "metadata": {},
   "outputs": [],
   "source": []
  },
  {
   "cell_type": "code",
   "execution_count": 19,
   "metadata": {},
   "outputs": [],
   "source": [
    "req_list = [\n",
    "    '_831_331c90b6-9e17-4c46-8530-0fc345e0a22f_asi', \n",
    "    '_841_87af5944-6ea6-45b1-b787-f90cbfeec9b4_asi',\n",
    "    '_1c8745d2-aa73-4371-b35a-bbb0e3124ce9__177_de0b38f1-5b92-496b-a528-89795aef8916_asi', \n",
    "    '_4663af6e-6265-438d-87b8-74e1550518bf__12410_7c88037b-e412-4c6f-a9c2-709bcbeb92ea_asi', \n",
    "]"
   ]
  },
  {
   "cell_type": "code",
   "execution_count": 10,
   "metadata": {},
   "outputs": [
    {
     "name": "stdout",
     "output_type": "stream",
     "text": [
      "gremlin: ws://100.65.51.106:8182/gremlin\n",
      "Req ID:  https://opencae.jpl.nasa.gov/mms/rdf/element/_831_331c90b6-9e17-4c46-8530-0fc345e0a22f_asi \n",
      "Req text: <html><body>\n",
      "<span xmlns=\"http://www.w3.org/1999/xhtml\"><strong>[REQ-1-OAD-0185]</strong> The Observatory Safety system decomposition element is defined as follows:<br/>Associated WBS element(s): TMT.TEL.CONT.OSS<br/>The Observatory Safety System (OSS) contributes to the enforcement of safe conditions throughout the summit facility by continuously monitoring the state of connected equipment, systems and sensors and taking appropriate action as soon as an unsafe condition is detected. It is independent from and supplementary to any safety systems and functionality that is contained within individual subsystems. Based on one or more Programmable Logic Controllers (PLCs), it will interface with connected subsystems via a dedicated safety rated fieldbus based on EtherNet/IP; monitor interlock requests and possibly a defined subset of additional signals from all connected subsystems; monitor the emergency stop switches located throughout the summit facility; manage safety interlock enforcement between sub-systems; provide a user interface that provides fault and interlock reporting and reset capabilities: communicate the safety state of all connected subsystems to, at a minimum, the Data Management System (DMS) &amp; Executive Software (ESW).<br/>The OSS includes the Global Safety Controller (GSC), remote I/O modules, the fieldbus network and associated networking components such as switches, a Human-Machine Interface (HMI), racks, enclosures, power supplies, network cabling,  and all associated PLC software. It does not include the Local Safety Controllers, fire suppression systems, emergency lighting or the individual emergency stop buttons’ wiring and mounting hardware. These are the responsibility of the individual subsystems.</span></body></html> \n",
      "__________\n",
      "[{'token': {'text': 'the Data Management System', 'pos': 'PROPN', 'token_id': 117, 'whitespace': ' '}, 'model_element': {'uri': 'https://opencae.jpl.nasa.gov/mms/rdf/element/_18_0_2_876026b_1427661004426_556776_143472', 'name': 'Data Management System', 'mms_id': '_18_0_2_876026b_1427661004426_556776_143472'}, 'score': 0.0013642900507215298}, {'token': {'text': 'the Data Management System', 'pos': 'PROPN', 'token_id': 117, 'whitespace': ' '}, 'model_element': {'uri': 'https://opencae.jpl.nasa.gov/mms/rdf/element/_18_0_5_baa02e2_1450821286717_64577_153095', 'name': 'Data Management System', 'mms_id': '_18_0_5_baa02e2_1450821286717_64577_153095'}, 'score': 0.0013642900507215298}, {'token': {'text': 'the Data Management System', 'pos': 'PROPN', 'token_id': 117, 'whitespace': ' '}, 'model_element': {'uri': 'https://opencae.jpl.nasa.gov/mms/rdf/element/_16566_c270fe21-19e7-4d0d-aa3c-31b76ad6ca8b', 'name': 'Data Management System', 'mms_id': '_16566_c270fe21-19e7-4d0d-aa3c-31b76ad6ca8b'}, 'score': 0.0013642900507215298}, {'token': {'text': 'Executive Software', 'pos': 'PROPN', 'token_id': 124, 'whitespace': ' '}, 'model_element': {'uri': 'https://opencae.jpl.nasa.gov/mms/rdf/element/_17_0_2_3_41e01aa_1382542702961_630808_58999', 'name': 'Executive Software', 'mms_id': '_17_0_2_3_41e01aa_1382542702961_630808_58999'}, 'score': -0.0}, {'token': {'text': 'network', 'pos': 'PROPN', 'token_id': 141, 'whitespace': ' '}, 'model_element': {'uri': 'https://opencae.jpl.nasa.gov/mms/rdf/element/_18_0_6_876026b_1478280404909_609058_173008', 'name': 'Network', 'mms_id': '_18_0_6_876026b_1478280404909_609058_173008'}, 'score': 1.5543122344752193e-17}, {'token': {'text': 'networking', 'pos': 'NOUN', 'token_id': 144, 'whitespace': ' '}, 'model_element': {'uri': 'https://opencae.jpl.nasa.gov/mms/rdf/element/MMS_1456189351681_ad25f82c-607f-4103-83b1-75f605015749', 'name': 'Networking', 'mms_id': 'MMS_1456189351681_ad25f82c-607f-4103-83b1-75f605015749'}, 'score': -2.2204460492503126e-17}] \n",
      "___________\n",
      "134619 comparaisons\n",
      "Time:  5.803309202194214\n",
      "0 1\n",
      "{'uri': 'https://opencae.jpl.nasa.gov/mms/rdf/element/_18_0_2_876026b_1427661004426_556776_143472', 'name': 'Data Management System', 'mms_id': '_18_0_2_876026b_1427661004426_556776_143472'} {'uri': 'https://opencae.jpl.nasa.gov/mms/rdf/element/_18_0_5_baa02e2_1450821286717_64577_153095', 'name': 'Data Management System', 'mms_id': '_18_0_5_baa02e2_1450821286717_64577_153095'}\n",
      "Timeout: node_distance()\n",
      "DISTANCE: in 3.0030059814453125 s  10\n",
      "_________\n",
      "0 2\n",
      "{'uri': 'https://opencae.jpl.nasa.gov/mms/rdf/element/_18_0_2_876026b_1427661004426_556776_143472', 'name': 'Data Management System', 'mms_id': '_18_0_2_876026b_1427661004426_556776_143472'} {'uri': 'https://opencae.jpl.nasa.gov/mms/rdf/element/_16566_c270fe21-19e7-4d0d-aa3c-31b76ad6ca8b', 'name': 'Data Management System', 'mms_id': '_16566_c270fe21-19e7-4d0d-aa3c-31b76ad6ca8b'}\n",
      "DISTANCE: in 2.405656099319458 s  6\n",
      "_________\n",
      "0 3\n",
      "{'uri': 'https://opencae.jpl.nasa.gov/mms/rdf/element/_18_0_2_876026b_1427661004426_556776_143472', 'name': 'Data Management System', 'mms_id': '_18_0_2_876026b_1427661004426_556776_143472'} {'uri': 'https://opencae.jpl.nasa.gov/mms/rdf/element/_17_0_2_3_41e01aa_1382542702961_630808_58999', 'name': 'Executive Software', 'mms_id': '_17_0_2_3_41e01aa_1382542702961_630808_58999'}\n",
      "FAILURE in  0.42167091369628906 s:   11\n",
      "_________\n",
      "0 4\n",
      "{'uri': 'https://opencae.jpl.nasa.gov/mms/rdf/element/_18_0_2_876026b_1427661004426_556776_143472', 'name': 'Data Management System', 'mms_id': '_18_0_2_876026b_1427661004426_556776_143472'} {'uri': 'https://opencae.jpl.nasa.gov/mms/rdf/element/_18_0_6_876026b_1478280404909_609058_173008', 'name': 'Network', 'mms_id': '_18_0_6_876026b_1478280404909_609058_173008'}\n",
      "FAILURE in  0.1525721549987793 s:   11\n",
      "_________\n",
      "0 5\n",
      "{'uri': 'https://opencae.jpl.nasa.gov/mms/rdf/element/_18_0_2_876026b_1427661004426_556776_143472', 'name': 'Data Management System', 'mms_id': '_18_0_2_876026b_1427661004426_556776_143472'} {'uri': 'https://opencae.jpl.nasa.gov/mms/rdf/element/MMS_1456189351681_ad25f82c-607f-4103-83b1-75f605015749', 'name': 'Networking', 'mms_id': 'MMS_1456189351681_ad25f82c-607f-4103-83b1-75f605015749'}\n",
      "FAILURE in  0.1775829792022705 s:   11\n",
      "_________\n",
      "1 2\n",
      "{'uri': 'https://opencae.jpl.nasa.gov/mms/rdf/element/_18_0_5_baa02e2_1450821286717_64577_153095', 'name': 'Data Management System', 'mms_id': '_18_0_5_baa02e2_1450821286717_64577_153095'} {'uri': 'https://opencae.jpl.nasa.gov/mms/rdf/element/_16566_c270fe21-19e7-4d0d-aa3c-31b76ad6ca8b', 'name': 'Data Management System', 'mms_id': '_16566_c270fe21-19e7-4d0d-aa3c-31b76ad6ca8b'}\n",
      "FAILURE in  0.1939680576324463 s:   11\n",
      "_________\n",
      "1 3\n",
      "{'uri': 'https://opencae.jpl.nasa.gov/mms/rdf/element/_18_0_5_baa02e2_1450821286717_64577_153095', 'name': 'Data Management System', 'mms_id': '_18_0_5_baa02e2_1450821286717_64577_153095'} {'uri': 'https://opencae.jpl.nasa.gov/mms/rdf/element/_17_0_2_3_41e01aa_1382542702961_630808_58999', 'name': 'Executive Software', 'mms_id': '_17_0_2_3_41e01aa_1382542702961_630808_58999'}\n",
      "FAILURE in  0.1532738208770752 s:   11\n",
      "_________\n",
      "1 4\n",
      "{'uri': 'https://opencae.jpl.nasa.gov/mms/rdf/element/_18_0_5_baa02e2_1450821286717_64577_153095', 'name': 'Data Management System', 'mms_id': '_18_0_5_baa02e2_1450821286717_64577_153095'} {'uri': 'https://opencae.jpl.nasa.gov/mms/rdf/element/_18_0_6_876026b_1478280404909_609058_173008', 'name': 'Network', 'mms_id': '_18_0_6_876026b_1478280404909_609058_173008'}\n",
      "FAILURE in  0.16052031517028809 s:   11\n",
      "_________\n",
      "1 5\n",
      "{'uri': 'https://opencae.jpl.nasa.gov/mms/rdf/element/_18_0_5_baa02e2_1450821286717_64577_153095', 'name': 'Data Management System', 'mms_id': '_18_0_5_baa02e2_1450821286717_64577_153095'} {'uri': 'https://opencae.jpl.nasa.gov/mms/rdf/element/MMS_1456189351681_ad25f82c-607f-4103-83b1-75f605015749', 'name': 'Networking', 'mms_id': 'MMS_1456189351681_ad25f82c-607f-4103-83b1-75f605015749'}\n",
      "FAILURE in  2.111024856567383 s:   11\n",
      "_________\n",
      "2 3\n",
      "{'uri': 'https://opencae.jpl.nasa.gov/mms/rdf/element/_16566_c270fe21-19e7-4d0d-aa3c-31b76ad6ca8b', 'name': 'Data Management System', 'mms_id': '_16566_c270fe21-19e7-4d0d-aa3c-31b76ad6ca8b'} {'uri': 'https://opencae.jpl.nasa.gov/mms/rdf/element/_17_0_2_3_41e01aa_1382542702961_630808_58999', 'name': 'Executive Software', 'mms_id': '_17_0_2_3_41e01aa_1382542702961_630808_58999'}\n",
      "FAILURE in  0.16153502464294434 s:   11\n",
      "_________\n",
      "2 4\n",
      "{'uri': 'https://opencae.jpl.nasa.gov/mms/rdf/element/_16566_c270fe21-19e7-4d0d-aa3c-31b76ad6ca8b', 'name': 'Data Management System', 'mms_id': '_16566_c270fe21-19e7-4d0d-aa3c-31b76ad6ca8b'} {'uri': 'https://opencae.jpl.nasa.gov/mms/rdf/element/_18_0_6_876026b_1478280404909_609058_173008', 'name': 'Network', 'mms_id': '_18_0_6_876026b_1478280404909_609058_173008'}\n",
      "FAILURE in  0.18474173545837402 s:   11\n",
      "_________\n",
      "2 5\n",
      "{'uri': 'https://opencae.jpl.nasa.gov/mms/rdf/element/_16566_c270fe21-19e7-4d0d-aa3c-31b76ad6ca8b', 'name': 'Data Management System', 'mms_id': '_16566_c270fe21-19e7-4d0d-aa3c-31b76ad6ca8b'} {'uri': 'https://opencae.jpl.nasa.gov/mms/rdf/element/MMS_1456189351681_ad25f82c-607f-4103-83b1-75f605015749', 'name': 'Networking', 'mms_id': 'MMS_1456189351681_ad25f82c-607f-4103-83b1-75f605015749'}\n",
      "FAILURE in  0.15267515182495117 s:   11\n",
      "_________\n",
      "3 4\n",
      "{'uri': 'https://opencae.jpl.nasa.gov/mms/rdf/element/_17_0_2_3_41e01aa_1382542702961_630808_58999', 'name': 'Executive Software', 'mms_id': '_17_0_2_3_41e01aa_1382542702961_630808_58999'} {'uri': 'https://opencae.jpl.nasa.gov/mms/rdf/element/_18_0_6_876026b_1478280404909_609058_173008', 'name': 'Network', 'mms_id': '_18_0_6_876026b_1478280404909_609058_173008'}\n",
      "FAILURE in  0.16950201988220215 s:   11\n",
      "_________\n",
      "3 5\n",
      "{'uri': 'https://opencae.jpl.nasa.gov/mms/rdf/element/_17_0_2_3_41e01aa_1382542702961_630808_58999', 'name': 'Executive Software', 'mms_id': '_17_0_2_3_41e01aa_1382542702961_630808_58999'} {'uri': 'https://opencae.jpl.nasa.gov/mms/rdf/element/MMS_1456189351681_ad25f82c-607f-4103-83b1-75f605015749', 'name': 'Networking', 'mms_id': 'MMS_1456189351681_ad25f82c-607f-4103-83b1-75f605015749'}\n",
      "FAILURE in  2.0141329765319824 s:   11\n",
      "_________\n",
      "4 5\n",
      "{'uri': 'https://opencae.jpl.nasa.gov/mms/rdf/element/_18_0_6_876026b_1478280404909_609058_173008', 'name': 'Network', 'mms_id': '_18_0_6_876026b_1478280404909_609058_173008'} {'uri': 'https://opencae.jpl.nasa.gov/mms/rdf/element/MMS_1456189351681_ad25f82c-607f-4103-83b1-75f605015749', 'name': 'Networking', 'mms_id': 'MMS_1456189351681_ad25f82c-607f-4103-83b1-75f605015749'}\n",
      "FAILURE in  0.13555097579956055 s:   11\n",
      "_________\n",
      "WARNING: Same age (0) and same token were merged\n",
      "Token: {'text': 'the Data Management System', 'pos': 'PROPN', 'token_id': 117, 'whitespace': ' '}\n",
      "_______________________\n",
      "MATCHES:\n",
      "Token:  the Data Management System\n",
      "Element:  Data Management System\n",
      "URI:  https://opencae.jpl.nasa.gov/mms/rdf/element/_18_0_2_876026b_1427661004426_556776_143472 \n",
      "_________\n",
      "Token:  Executive Software\n",
      "Element:  Executive Software\n",
      "URI:  https://opencae.jpl.nasa.gov/mms/rdf/element/_17_0_2_3_41e01aa_1382542702961_630808_58999 \n",
      "_________\n",
      "Token:  network\n",
      "Element:  Network\n",
      "URI:  https://opencae.jpl.nasa.gov/mms/rdf/element/_18_0_6_876026b_1478280404909_609058_173008 \n",
      "_________\n",
      "Token:  networking\n",
      "Element:  Networking\n",
      "URI:  https://opencae.jpl.nasa.gov/mms/rdf/element/MMS_1456189351681_ad25f82c-607f-4103-83b1-75f605015749 \n",
      "_________\n",
      "_______________________\n",
      "ALLOCATIONS:\n",
      "- {'uri': 'https://opencae.jpl.nasa.gov/mms/rdf/element/_18_0_2_876026b_1427661004426_556776_143472', 'name': 'Data Management System', 'mms_id': '_18_0_2_876026b_1427661004426_556776_143472'}\n",
      "- {'uri': 'https://opencae.jpl.nasa.gov/mms/rdf/element/_17_0_2_3_41e01aa_1382542702961_630808_58999', 'name': 'Executive Software', 'mms_id': '_17_0_2_3_41e01aa_1382542702961_630808_58999'}\n",
      "- {'uri': 'https://opencae.jpl.nasa.gov/mms/rdf/element/_18_0_6_876026b_1478280404909_609058_173008', 'name': 'Network', 'mms_id': '_18_0_6_876026b_1478280404909_609058_173008'}\n",
      "- {'uri': 'https://opencae.jpl.nasa.gov/mms/rdf/element/MMS_1456189351681_ad25f82c-607f-4103-83b1-75f605015749', 'name': 'Networking', 'mms_id': 'MMS_1456189351681_ad25f82c-607f-4103-83b1-75f605015749'}\n"
     ]
    },
    {
     "data": {
      "text/plain": [
       "b'[\\n{\\n    \"type\" : \"UpdateEvent\",\\n    \"totalElapsedMillis\" : 0,\\n    \"elapsedMillis\" : 0,\\n    \"connFlush\" : 0,\\n    \"batchResolve\" : 0,\\n    \"whereClause\" : 0,\\n    \"deleteClause\" : 0,\\n    \"insertClause\" : 0\\n},\\n{\\n    \"type\" : \"Commit\",\\n    \"totalElapsedMillis\" : 10\\n}\\n]'"
      ]
     },
     "execution_count": 10,
     "metadata": {},
     "output_type": "execute_result"
    },
    {
     "data": {
      "image/png": "[encoded data removed]",
      "text/plain": [
       "<Figure size 432x288 with 1 Axes>"
      ]
     },
     "metadata": {},
     "output_type": "display_data"
    }
   ],
   "source": [
    "g = neptune.graphTraversal()\n",
    "\n",
    "req_evaluation = req_evaluator.evaluate_req_by_id(g, \n",
    "                                 '_831_331c90b6-9e17-4c46-8530-0fc345e0a22f_asi', \n",
    "                                 ref_targets,\n",
    "                                 pprint=True)\n",
    "req_evaluation.insert_references()"
   ]
  },
  {
   "cell_type": "markdown",
   "metadata": {},
   "source": [
    " "
   ]
  },
  {
   "cell_type": "markdown",
   "metadata": {},
   "source": [
    "Available methods for `req_evaluation` are:\n",
    "- .get_matches()\n",
    "- .get_allocations()\n",
    "- .display_match_subgrap()"
   ]
  },
  {
   "cell_type": "code",
   "execution_count": 87,
   "metadata": {},
   "outputs": [
    {
     "data": {
      "text/plain": [
       "'<html><body>\\n<span xmlns=\"http://www.w3.org/1999/xhtml\"><strong>[REQ-1-OAD-0185]</strong> The Observatory Safety system decomposition element is defined as follows:<br/>Associated WBS element(s): TMT.TEL.CONT.OSS<br/>The Observatory Safety System (OSS) contributes to the enforcement of safe conditions throughout the summit facility by continuously monitoring the state of connected equipment, systems and sensors and taking appropriate action as soon as an unsafe condition is detected. It is independent from and supplementary to any safety systems and functionality that is contained within individual subsystems. Based on one or more Programmable Logic Controllers (PLCs), it will interface with connected subsystems via a dedicated safety rated fieldbus based on EtherNet/IP; monitor interlock requests and possibly a defined subset of additional signals from all connected subsystems; monitor the emergency stop switches located throughout the summit facility; manage safety interlock enforcement between sub-systems; provide a user interface that provides fault and interlock reporting and reset capabilities: communicate the safety state of all connected subsystems to, at a minimum, <cref id=\"_16566_c270fe21-19e7-4d0d-aa3c-31b76ad6ca8b\">the Data Management System</cref> (DMS) &amp; <cref id=\"_17_0_2_3_41e01aa_1382542702961_630808_58999\">Executive Software</cref> (ESW).<br/>The OSS includes the Global Safety Controller (GSC), remote I/O modules, the fieldbus <cref id=\"_18_0_6_876026b_1478280404909_609058_173008\">network</cref> and associated <cref id=\"MMS_1456189351681_ad25f82c-607f-4103-83b1-75f605015749\">networking</cref> components such as switches, a Human-Machine Interface (HMI), racks, enclosures, power supplies, network cabling,  and all associated PLC software. It does not include the Local Safety Controllers, fire suppression systems, emergency lighting or the individual emergency stop buttons’ wiring and mounting hardware. These are the responsibility of the individual subsystems.</span></body></html>'"
      ]
     },
     "execution_count": 87,
     "metadata": {},
     "output_type": "execute_result"
    }
   ],
   "source": [
    "req_evaluation.init_cref_tags_text()"
   ]
  },
  {
   "cell_type": "code",
   "execution_count": 84,
   "metadata": {},
   "outputs": [
    {
     "data": {
      "text/plain": [
       "{117: {'token': {'text': 'the Data Management System',\n",
       "   'pos': 'PROPN',\n",
       "   'token_id': 117,\n",
       "   'whitespace': ' '},\n",
       "  'model_element': {'uri': 'https://opencae.jpl.nasa.gov/mms/rdf/element/_16566_c270fe21-19e7-4d0d-aa3c-31b76ad6ca8b',\n",
       "   'name': 'Data Management System',\n",
       "   'mms_id': '_16566_c270fe21-19e7-4d0d-aa3c-31b76ad6ca8b'},\n",
       "  'score': 0.0013642900507215298},\n",
       " 124: {'token': {'text': 'Executive Software',\n",
       "   'pos': 'PROPN',\n",
       "   'token_id': 124,\n",
       "   'whitespace': ' '},\n",
       "  'model_element': {'uri': 'https://opencae.jpl.nasa.gov/mms/rdf/element/_17_0_2_3_41e01aa_1382542702961_630808_58999',\n",
       "   'name': 'Executive Software',\n",
       "   'mms_id': '_17_0_2_3_41e01aa_1382542702961_630808_58999'},\n",
       "  'score': -0.0},\n",
       " 141: {'token': {'text': 'network',\n",
       "   'pos': 'PROPN',\n",
       "   'token_id': 141,\n",
       "   'whitespace': ' '},\n",
       "  'model_element': {'uri': 'https://opencae.jpl.nasa.gov/mms/rdf/element/_18_0_6_876026b_1478280404909_609058_173008',\n",
       "   'name': 'Network',\n",
       "   'mms_id': '_18_0_6_876026b_1478280404909_609058_173008'},\n",
       "  'score': 1.5543122344752193e-17},\n",
       " 144: {'token': {'text': 'networking',\n",
       "   'pos': 'NOUN',\n",
       "   'token_id': 144,\n",
       "   'whitespace': ' '},\n",
       "  'model_element': {'uri': 'https://opencae.jpl.nasa.gov/mms/rdf/element/MMS_1456189351681_ad25f82c-607f-4103-83b1-75f605015749',\n",
       "   'name': 'Networking',\n",
       "   'mms_id': 'MMS_1456189351681_ad25f82c-607f-4103-83b1-75f605015749'},\n",
       "  'score': -2.2204460492503126e-17}}"
      ]
     },
     "execution_count": 84,
     "metadata": {},
     "output_type": "execute_result"
    }
   ],
   "source": [
    "req_evaluation.get_matches()"
   ]
  },
  {
   "cell_type": "code",
   "execution_count": 85,
   "metadata": {},
   "outputs": [
    {
     "data": {
      "text/plain": [
       "[{'uri': 'https://opencae.jpl.nasa.gov/mms/rdf/element/_16566_c270fe21-19e7-4d0d-aa3c-31b76ad6ca8b',\n",
       "  'name': 'Data Management System',\n",
       "  'mms_id': '_16566_c270fe21-19e7-4d0d-aa3c-31b76ad6ca8b'},\n",
       " {'uri': 'https://opencae.jpl.nasa.gov/mms/rdf/element/_17_0_2_3_41e01aa_1382542702961_630808_58999',\n",
       "  'name': 'Executive Software',\n",
       "  'mms_id': '_17_0_2_3_41e01aa_1382542702961_630808_58999'},\n",
       " {'uri': 'https://opencae.jpl.nasa.gov/mms/rdf/element/_18_0_6_876026b_1478280404909_609058_173008',\n",
       "  'name': 'Network',\n",
       "  'mms_id': '_18_0_6_876026b_1478280404909_609058_173008'},\n",
       " {'uri': 'https://opencae.jpl.nasa.gov/mms/rdf/element/MMS_1456189351681_ad25f82c-607f-4103-83b1-75f605015749',\n",
       "  'name': 'Networking',\n",
       "  'mms_id': 'MMS_1456189351681_ad25f82c-607f-4103-83b1-75f605015749'}]"
      ]
     },
     "execution_count": 85,
     "metadata": {},
     "output_type": "execute_result"
    }
   ],
   "source": [
    "req_evaluation.get_allocations()"
   ]
  },
  {
   "cell_type": "code",
   "execution_count": null,
   "metadata": {},
   "outputs": [],
   "source": []
  },
  {
   "cell_type": "code",
   "execution_count": null,
   "metadata": {},
   "outputs": [],
   "source": []
  },
  {
   "cell_type": "code",
   "execution_count": 20,
   "metadata": {},
   "outputs": [
    {
     "data": {
      "text/plain": [
       "{'slot': {'type': 'uri',\n",
       "  'value': 'https://opencae.jpl.nasa.gov/mms/rdf/element/_831_331c90b6-9e17-4c46-8530-0fc345e0a22f_asi-slot-_11_5EAPbeta_be00301_1147873226632_528960_2311'},\n",
       " 'instance': {'type': 'uri',\n",
       "  'value': 'https://opencae.jpl.nasa.gov/mms/rdf/element/_831_331c90b6-9e17-4c46-8530-0fc345e0a22f_asi'},\n",
       " 'valueString': {'type': 'literal',\n",
       "  'value': '<html><body>\\n<span xmlns=\"http://www.w3.org/1999/xhtml\"><strong>[REQ-1-OAD-0185]</strong> The Observatory Safety system decomposition element is defined as follows:<br/>Associated WBS element(s): TMT.TEL.CONT.OSS<br/>The Observatory Safety System (OSS) contributes to the enforcement of safe conditions throughout the summit facility by continuously monitoring the state of connected equipment, systems and sensors and taking appropriate action as soon as an unsafe condition is detected. It is independent from and supplementary to any safety systems and functionality that is contained within individual subsystems. Based on one or more Programmable Logic Controllers (PLCs), it will interface with connected subsystems via a dedicated safety rated fieldbus based on EtherNet/IP; monitor interlock requests and possibly a defined subset of additional signals from all connected subsystems; monitor the emergency stop switches located throughout the summit facility; manage safety interlock enforcement between sub-systems; provide a user interface that provides fault and interlock reporting and reset capabilities: communicate the safety state of all connected subsystems to, at a minimum, the Data Management System (DMS) &amp; Executive Software (ESW).<br/>The OSS includes the Global Safety Controller (GSC), remote I/O modules, the fieldbus network and associated networking components such as switches, a Human-Machine Interface (HMI), racks, enclosures, power supplies, network cabling,  and all associated PLC software. It does not include the Local Safety Controllers, fire suppression systems, emergency lighting or the individual emergency stop buttons’ wiring and mounting hardware. These are the responsibility of the individual subsystems.</span></body></html>'}}"
      ]
     },
     "execution_count": 20,
     "metadata": {},
     "output_type": "execute_result"
    }
   ],
   "source": [
    "req_evaluator.get_requirement_by_id('_831_331c90b6-9e17-4c46-8530-0fc345e0a22f_asi')"
   ]
  },
  {
   "cell_type": "code",
   "execution_count": null,
   "metadata": {},
   "outputs": [],
   "source": []
  },
  {
   "cell_type": "code",
   "execution_count": null,
   "metadata": {},
   "outputs": [],
   "source": []
  },
  {
   "cell_type": "code",
   "execution_count": null,
   "metadata": {},
   "outputs": [],
   "source": []
  },
  {
   "cell_type": "code",
   "execution_count": null,
   "metadata": {},
   "outputs": [],
   "source": []
  },
  {
   "cell_type": "markdown",
   "metadata": {},
   "source": [
    "# MISCELLANEOUS "
   ]
  },
  {
   "cell_type": "code",
   "execution_count": 16,
   "metadata": {},
   "outputs": [],
   "source": [
    "summit='_4663af6e-6265-438d-87b8-74e1550518bf__65_6314a138-53b9-42a5-b488-9c23967ed889'\n",
    "enclosure='_18_0_6_f1d0357_1490143302007_461579_179266'\n",
    "mirror='_18_5_2_e64033a_1509475358071_810923_58742'\n",
    "aps_user='_17_0_2_3_41e01aa_1389730769202_855584_72742'\n",
    "aps_mission='_17_0_2_3_41e01aa_1389728637481_651557_61606'\n",
    "usr_part_aps_mission='_17_0_2_3_41e01aa_1389731842407_88153_73842'\n",
    "value_aps_mission='_18_0_2_baa02e2_1421376436201_767368_80540'"
   ]
  },
  {
   "cell_type": "code",
   "execution_count": 3,
   "metadata": {},
   "outputs": [],
   "source": [
    "from req_analysis.libs.neptune_wrapper import get_type_from_part_properties, get_node_neighbors"
   ]
  },
  {
   "cell_type": "code",
   "execution_count": 18,
   "metadata": {},
   "outputs": [
    {
     "name": "stdout",
     "output_type": "stream",
     "text": [
      "gremlin: ws://100.65.51.106:8182/gremlin\n"
     ]
    },
    {
     "data": {
      "text/plain": [
       "[v[_17_0_2_3_41e01aa_1389728637481_651557_61606]]"
      ]
     },
     "execution_count": 18,
     "metadata": {},
     "output_type": "execute_result"
    }
   ],
   "source": [
    "g = neptune.graphTraversal()\n",
    "g.V(aps_mission).toList()"
   ]
  },
  {
   "cell_type": "code",
   "execution_count": 1,
   "metadata": {},
   "outputs": [
    {
     "ename": "NameError",
     "evalue": "name 'neptune' is not defined",
     "output_type": "error",
     "traceback": [
      "\u001b[0;31m---------------------------------------------------------------------------\u001b[0m",
      "\u001b[0;31mNameError\u001b[0m                                 Traceback (most recent call last)",
      "\u001b[0;32m<ipython-input-1-56fdbf1ba691>\u001b[0m in \u001b[0;36m<module>\u001b[0;34m\u001b[0m\n\u001b[0;32m----> 1\u001b[0;31m \u001b[0mg\u001b[0m \u001b[0;34m=\u001b[0m \u001b[0mneptune\u001b[0m\u001b[0;34m.\u001b[0m\u001b[0mgraphTraversal\u001b[0m\u001b[0;34m(\u001b[0m\u001b[0;34m)\u001b[0m\u001b[0;34m\u001b[0m\u001b[0;34m\u001b[0m\u001b[0m\n\u001b[0m\u001b[1;32m      2\u001b[0m \u001b[0mget_type_from_part_properties\u001b[0m\u001b[0;34m(\u001b[0m\u001b[0mg\u001b[0m\u001b[0;34m,\u001b[0m \u001b[0maps_mission\u001b[0m\u001b[0;34m)\u001b[0m\u001b[0;34m\u001b[0m\u001b[0;34m\u001b[0m\u001b[0m\n",
      "\u001b[0;31mNameError\u001b[0m: name 'neptune' is not defined"
     ]
    }
   ],
   "source": [
    "g = neptune.graphTraversal()\n",
    "get_type_from_part_properties(g, aps_mission)"
   ]
  },
  {
   "cell_type": "code",
   "execution_count": 4,
   "metadata": {},
   "outputs": [
    {
     "name": "stdout",
     "output_type": "stream",
     "text": [
      "gremlin: ws://100.65.51.106:8182/gremlin\n"
     ]
    },
    {
     "data": {
      "text/plain": [
       "[v[_16566_c270fe21-19e7-4d0d-aa3c-31b76ad6ca8b_asi],\n",
       " v[_16566_c270fe21-19e7-4d0d-aa3c-31b76ad6ca8b_asi],\n",
       " v[_16153_3e2c253e-3a12-44c0-8a4d-5df9f7a0a72f],\n",
       " v[_16572_a3c23c68-4e41-4dcf-8799-f93996ef893d],\n",
       " v[_16573_6a55206d-cd26-48ac-a3cb-5288df61767e],\n",
       " v[_16575_b640b159-d11a-4e27-9d3f-b7682641313b],\n",
       " v[_16578_0162454a-7569-42ff-b72c-610a990b8791],\n",
       " v[_16576_995ee317-7ced-45e8-8f21-4f23d1500eaf],\n",
       " v[_16568_b18b0393-a676-43e7-90f5-eb21f7953aa5],\n",
       " v[_16570_76a16dfa-d639-4622-92f1-ccc1f08a94cf],\n",
       " v[_16580_2f4da20d-c515-4b30-964d-b88dd0098f21],\n",
       " v[_16583_f5d94645-327a-4208-95e3-16973116d2e9],\n",
       " v[_16567_b04088d7-a59f-4a25-b673-8d46bf608316],\n",
       " v[_16607_b0a8b165-6096-424f-93c1-fbb718da9519],\n",
       " v[_16581_e624b229-5cd8-4ab0-8d8e-bf67c3bf97ba],\n",
       " v[_16619_ada51c85-56aa-451e-8d41-75df0a49168e],\n",
       " v[_16588_d5d40af0-735c-43d7-9a14-239c3bd4fffc],\n",
       " v[_16641_599701e8-9b79-4729-a356-ba93b6c6161c]]"
      ]
     },
     "execution_count": 4,
     "metadata": {},
     "output_type": "execute_result"
    }
   ],
   "source": [
    "V = '_16566_c270fe21-19e7-4d0d-aa3c-31b76ad6ca8b'\n",
    "g = neptune.graphTraversal()\n",
    "get_node_neighbors(g, V)"
   ]
  },
  {
   "cell_type": "code",
   "execution_count": null,
   "metadata": {},
   "outputs": [],
   "source": []
  }
 ],
 "metadata": {
  "kernelspec": {
   "display_name": "Python [conda env:cref]",
   "language": "python",
   "name": "conda-env-cref-py"
  },
  "language_info": {
   "codemirror_mode": {
    "name": "ipython",
    "version": 3
   },
   "file_extension": ".py",
   "mimetype": "text/x-python",
   "name": "python",
   "nbconvert_exporter": "python",
   "pygments_lexer": "ipython3",
   "version": "3.7.6"
  }
 },
 "nbformat": 4,
 "nbformat_minor": 4
}
