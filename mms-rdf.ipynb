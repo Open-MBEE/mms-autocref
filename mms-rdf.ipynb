{
 "cells": [
  {
   "cell_type": "code",
   "execution_count": 1,
   "metadata": {},
   "outputs": [],
   "source": [
    "%load_ext autoreload\n",
    "%autoreload 2"
   ]
  },
  {
   "cell_type": "code",
   "execution_count": 2,
   "metadata": {},
   "outputs": [],
   "source": [
    "import scipy\n",
    "import time\n",
    "import uuid\n",
    "\n",
    "import matplotlib.pyplot as plt\n",
    "import networkx as nx\n",
    "\n",
    "from SPARQLWrapper import SPARQLWrapper, JSON, POST\n",
    "\n",
    "from req_analysis import *"
   ]
  },
  {
   "cell_type": "markdown",
   "metadata": {},
   "source": [
    "# Initialize connection to Neptune"
   ]
  },
  {
   "cell_type": "code",
   "execution_count": 3,
   "metadata": {},
   "outputs": [
    {
     "name": "stdout",
     "output_type": "stream",
     "text": [
      "env: NEPTUNE_CLUSTER_ENDPOINT=100.65.51.106\n",
      "env: NEPTUNE_CLUSTER_PORT=8182\n",
      "gremlin: ws://100.65.51.106:8182/gremlin\n"
     ]
    }
   ],
   "source": [
    "%run 'req_analysis/neptune-util.py'\n",
    "%env NEPTUNE_CLUSTER_ENDPOINT=100.65.51.106\n",
    "%env NEPTUNE_CLUSTER_PORT=8182\n",
    "g = neptune.graphTraversal()"
   ]
  },
  {
   "cell_type": "markdown",
   "metadata": {},
   "source": [
    "# Query strings"
   ]
  },
  {
   "cell_type": "markdown",
   "metadata": {},
   "source": [
    "## Get queries"
   ]
  },
  {
   "cell_type": "code",
   "execution_count": 4,
   "metadata": {},
   "outputs": [],
   "source": [
    "query_elements = \"\"\"prefix rdf: <http://www.w3.org/1999/02/22-rdf-syntax-ns#>\n",
    "prefix rdfs: <http://www.w3.org/2000/01/rdf-schema#>\n",
    "prefix owl: <http://www.w3.org/2002/07/owl#>\n",
    "prefix xsd: <http://www.w3.org/2001/XMLSchema#>\n",
    "prefix xml: <http://www.w3.org/XML/1998/namespace/>\n",
    "prefix mms-ontology: <https://opencae.jpl.nasa.gov/mms/rdf/ontology/>\n",
    "prefix mms-graph: <https://opencae.jpl.nasa.gov/mms/rdf/graph/>\n",
    "prefix mms-property: <https://opencae.jpl.nasa.gov/mms/rdf/property/>\n",
    "prefix mms-class: <https://opencae.jpl.nasa.gov/mms/rdf/class/>\n",
    "prefix mms-element: <https://opencae.jpl.nasa.gov/mms/rdf/element/>\n",
    "prefix mms-artifact: <https://opencae.jpl.nasa.gov/mms/rdf/artifact/>\n",
    "prefix mms-index: <https://opencae.jpl.nasa.gov/mms/rdf/index/>\n",
    "prefix xmi: <http://www.omg.org/spec/XMI/20131001#>\n",
    "prefix uml: <http://www.omg.org/spec/UML/20161101#>\n",
    "prefix uml-model: <https://www.omg.org/spec/UML/20161101/UML.xmi#>\n",
    "prefix uml-primitives: <https://www.omg.org/spec/UML/20161101/PrimitiveTypes.xmi#>\n",
    "prefix uml-class: <https://opencae.jpl.nasa.gov/mms/rdf/uml-class/>\n",
    "prefix uml-property: <https://opencae.jpl.nasa.gov/mms/rdf/uml-property/>\n",
    "\n",
    "select * from mms-graph:data.tmt {\n",
    "    ?element a/rdfs:subClassOf* uml-class:Class\n",
    "    {\n",
    "        ?element rdfs:label ?label \n",
    "    } union {\n",
    "        ?element mms-property:name ?label\n",
    "    }\n",
    "    \n",
    "    filter(isLiteral(?label) && ?label != \"\")\n",
    "}\n",
    "\"\"\""
   ]
  },
  {
   "cell_type": "markdown",
   "metadata": {},
   "source": [
    "## Insert queries"
   ]
  },
  {
   "cell_type": "code",
   "execution_count": 5,
   "metadata": {},
   "outputs": [],
   "source": [
    "insert_blocks = \"\"\"\n",
    "<{input_uri}> mms-autocref:reference mms-autocref-i:Reference.{reference_uuid} ;\n",
    "  .\n",
    "\n",
    "mms-autocref-i:Reference.{reference_uuid}\n",
    "  a mms-autocref:Reference ;\n",
    "  mms-autocref:inputText \\\"\\\"\\\"{input_text}\\\"\\\"\\\" ;\n",
    "  mms-autocref:match <{match_uri}> ;\n",
    "  mms-autocref:token mms-autocref-i:Token.{reference_uuid} ;\n",
    "  .\n",
    "\n",
    "mms-autocref-i:Token.{reference_uuid}\n",
    "  a mms-autocref:Token ;\n",
    "  mms-autocref:tokenStart \"{token_position}\"^^xsd:integer ;\n",
    "  mms-autocref:tokenText \\\"\\\"\\\"{token_text}\\\"\\\"\\\" ;\n",
    "  .\n",
    "\"\"\""
   ]
  },
  {
   "cell_type": "code",
   "execution_count": 6,
   "metadata": {},
   "outputs": [],
   "source": [
    "insert_query = \"\"\"\n",
    "prefix mms-autocref: <https://opencae.jpl.nasa.gov/mms/rdf/autocref/>\n",
    "prefix mms-autocref-i: <https://opencae.jpl.nasa.gov/mms/rdf/autocref-instance/>\n",
    "\n",
    "insert data {{\n",
    "  graph <https://opencae.jpl.nasa.gov/mms/rdf/graph/autocref.tmt.test> {{\n",
    "    {insert_blocks}\n",
    "  }}\n",
    "}}\"\"\""
   ]
  },
  {
   "cell_type": "markdown",
   "metadata": {},
   "source": [
    "# Evaluation"
   ]
  },
  {
   "cell_type": "code",
   "execution_count": 7,
   "metadata": {},
   "outputs": [],
   "source": [
    "sparql = SPARQLWrapper(\"https://cae-mms-rdf-test-r5-2x.cluster-cw2hjngge6pe.us-gov-west-1.neptune.amazonaws.com:8182/sparql\")"
   ]
  },
  {
   "cell_type": "code",
   "execution_count": 8,
   "metadata": {},
   "outputs": [
    {
     "name": "stdout",
     "output_type": "stream",
     "text": [
      "== Status Code: 200 ==\n",
      "1951 reference targets found.\n"
     ]
    }
   ],
   "source": [
    "ref_targets = ReferenceTarget(sparql)\n",
    "ref_targets.init_table(query_elements)"
   ]
  },
  {
   "cell_type": "code",
   "execution_count": 13,
   "metadata": {},
   "outputs": [
    {
     "name": "stdout",
     "output_type": "stream",
     "text": [
      "== Status Code: 200 ==\n",
      "3061 requirements found.\n"
     ]
    }
   ],
   "source": [
    "req_evaluator = RequirementEvaluator(sparql)\n",
    "req_evaluator.init_requirement_elements()"
   ]
  },
  {
   "cell_type": "code",
   "execution_count": null,
   "metadata": {},
   "outputs": [
    {
     "name": "stdout",
     "output_type": "stream",
     "text": [
      "1 / 1509 --- 0.2871859073638916 s\n",
      "NO MATCH FOUND evaluation with req:  _1c8745d2-aa73-4371-b35a-bbb0e3124ce9__98_cd3fdddc-d986-4574-ab2b-9bc64eaaf3b6_asi-slot-_18_0_2_b4c02e1_1422576771659_877428_84042-slotvalue-0-literalstring\n",
      "2 / 1509 --- 0.45852184295654297 s\n",
      "NO MATCH FOUND evaluation with req:  _4663af6e-6265-438d-87b8-74e1550518bf__6762_4eeaf824-1f0a-4178-933d-8c01771b629d_asi-slot-_18_0_2_b4c02e1_1423073212164_663502_347367-slotvalue-0-literalstring\n",
      "3 / 1509 --- 0.6321349143981934 s\n",
      "NO MATCH FOUND evaluation with req:  _4663af6e-6265-438d-87b8-74e1550518bf__6572_1d3dd20d-9283-4015-b8c0-a3dee3fcfbe3_asi-slot-_18_0_2_b4c02e1_1422576771659_877428_84042-slotvalue-0-literalstring\n",
      "4 / 1509 --- 1.320995807647705 s\n",
      "NO MATCH FOUND evaluation with req:  _4663af6e-6265-438d-87b8-74e1550518bf__6762_4eeaf824-1f0a-4178-933d-8c01771b629d_asi-slot-_11_5EAPbeta_be00301_1147873226632_528960_2311-slotvalue-0-literalstring\n"
     ]
    },
    {
     "name": "stderr",
     "output_type": "stream",
     "text": [
      "/usr/local/anaconda3/envs/cref/lib/python3.7/site-packages/nltk/cluster/util.py:133: RuntimeWarning: invalid value encountered in double_scalars\n",
      "  return 1 - (numpy.dot(u, v) / (sqrt(numpy.dot(u, u)) * sqrt(numpy.dot(v, v))))\n"
     ]
    },
    {
     "name": "stdout",
     "output_type": "stream",
     "text": [
      "5 / 1509 --- 1.8623926639556885 s\n",
      "NO MATCH FOUND evaluation with req:  _4663af6e-6265-438d-87b8-74e1550518bf__6572_1d3dd20d-9283-4015-b8c0-a3dee3fcfbe3_asi-slot-_11_5EAPbeta_be00301_1147873226632_528960_2311-slotvalue-0-literalstring\n",
      "6 / 1509 --- 2.0961458683013916 s\n",
      "NO MATCH FOUND evaluation with req:  _8f7cabc1-8e5f-4014-8c9c-7ff7b8b98955__1371_1c1dbf6d-afd7-4903-b52a-f560db05995b_asi-slot-_18_0_2_b4c02e1_1422576771659_877428_84042-slotvalue-0-literalstring\n",
      "7 / 1509 --- 2.2651917934417725 s\n",
      "NO MATCH FOUND evaluation with req:  _4663af6e-6265-438d-87b8-74e1550518bf__6762_4eeaf824-1f0a-4178-933d-8c01771b629d_asi-slot-_18_0_2_b4c02e1_1422576771659_877428_84042-slotvalue-0-literalstring\n",
      "8 / 1509 --- 2.9840128421783447 s\n",
      "NO MATCH FOUND evaluation with req:  _18682_bd1fb593-def7-42f3-a50b-3b55236faee7_asi-slot-_11_5EAPbeta_be00301_1147873226632_528960_2311-slotvalue-0-literalstring\n",
      "9 / 1509 --- 3.6805808544158936 s\n",
      "NO MATCH FOUND evaluation with req:  _18682_bd1fb593-def7-42f3-a50b-3b55236faee7_asi-slot-_17_0_2_3_b4c02e1_1380209973757_201523_39672-slotvalue-0-literalstring\n",
      "10 / 1509 --- 3.8692259788513184 s\n",
      "NO MATCH FOUND evaluation with req:  _8f7cabc1-8e5f-4014-8c9c-7ff7b8b98955__1930_ff666c38-330f-4c64-b99d-b4ff9f42bd92_asi-slot-_18_0_2_b4c02e1_1422576771659_877428_84042-slotvalue-0-literalstring\n",
      "WARNING: Same age (0) and same token were merged\n",
      "Token: {'text': 'Spectral Resolution', 'pos': 'PROPN', 'token_id': 9}\n",
      "11 / 1509 --- 10.431611776351929 s\n",
      "EVALUATION done for req:  _8f7cabc1-8e5f-4014-8c9c-7ff7b8b98955__1930_ff666c38-330f-4c64-b99d-b4ff9f42bd92_asi-slot-_11_5EAPbeta_be00301_1147873226632_528960_2311-slotvalue-0-literalstring\n",
      "12 / 1509 --- 10.82956576347351 s\n",
      "NO MATCH FOUND evaluation with req:  _4663af6e-6265-438d-87b8-74e1550518bf__6689_0b2b715a-d552-45c5-b471-e0f2fc14cf29_asi-slot-_11_5EAPbeta_be00301_1147873226632_528960_2311-slotvalue-0-literalstring\n",
      "13 / 1509 --- 11.453162908554077 s\n",
      "NO MATCH FOUND evaluation with req:  _16525_cef063ae-6d4a-4b62-80ba-781ebed6e265_asi-slot-_11_5EAPbeta_be00301_1147873226632_528960_2311-slotvalue-0-literalstring\n",
      "14 / 1509 --- 12.58665680885315 s\n",
      "NO MATCH FOUND evaluation with req:  _6661c442-ae86-4f4e-bfeb-45c7062378f6__972_074cb81e-8b17-473f-b21a-fd317b741c4b_asi-slot-_11_5EAPbeta_be00301_1147873226632_528960_2311-slotvalue-0-literalstring\n",
      "15 / 1509 --- 12.948527812957764 s\n",
      "NO MATCH FOUND evaluation with req:  _18809_f2082ebd-41e2-4952-8ee7-7f40b342927a_asi-slot-_18_0_2_b4c02e1_1422576771655_92674_84021-slotvalue-0-literalstring\n",
      "16 / 1509 --- 13.242865800857544 s\n",
      "NO MATCH FOUND evaluation with req:  _16701_b5ffe8a5-46e9-4d7d-9411-eb1445abbe57_asi-slot-_11_5EAPbeta_be00301_1147873226632_528960_2311-slotvalue-0-literalstring\n",
      "17 / 1509 --- 13.728293895721436 s\n",
      "NO MATCH FOUND evaluation with req:  _18809_f2082ebd-41e2-4952-8ee7-7f40b342927a_asi-slot-_11_5EAPbeta_be00301_1147873226632_528960_2311-slotvalue-0-literalstring\n",
      "18 / 1509 --- 14.426807641983032 s\n",
      "NO MATCH FOUND evaluation with req:  _1c8745d2-aa73-4371-b35a-bbb0e3124ce9__102_99ff74f0-cdcc-4b5c-81dd-40e01e39cd00_asi-slot-_11_5EAPbeta_be00301_1147873226632_528960_2311-slotvalue-0-literalstring\n",
      "19 / 1509 --- 14.897854804992676 s\n",
      "NO MATCH FOUND evaluation with req:  _8f7cabc1-8e5f-4014-8c9c-7ff7b8b98955__1370_c989809d-1e46-4446-9993-82dc0c83d770_asi-slot-_11_5EAPbeta_be00301_1147873226632_528960_2311-slotvalue-0-literalstring\n",
      "WARNING: Same age (0) and same token were merged\n",
      "Token: {'text': 'image quality', 'pos': 'NOUN', 'token_id': 21}\n",
      "20 / 1509 --- 38.7944278717041 s\n",
      "EVALUATION done for req:  _4663af6e-6265-438d-87b8-74e1550518bf__6345_d7acc0f4-2776-4a73-9592-4854e99e2d24_asi-slot-_11_5EAPbeta_be00301_1147873226632_528960_2311-slotvalue-0-literalstring\n",
      "21 / 1509 --- 39.21375799179077 s\n",
      "NO MATCH FOUND evaluation with req:  _14047_768a736a-4f07-41f4-9172-66427616c5a1_asi-slot-_11_5EAPbeta_be00301_1147873226632_528960_2311-slotvalue-0-literalstring\n",
      "22 / 1509 --- 39.78509593009949 s\n",
      "NO MATCH FOUND evaluation with req:  _4663af6e-6265-438d-87b8-74e1550518bf__6345_d7acc0f4-2776-4a73-9592-4854e99e2d24_asi-slot-_17_0_2_3_b4c02e1_1380209973757_201523_39672-slotvalue-0-literalstring\n",
      "23 / 1509 --- 41.46450090408325 s\n",
      "NO MATCH FOUND evaluation with req:  _1c8745d2-aa73-4371-b35a-bbb0e3124ce9__177_de0b38f1-5b92-496b-a528-89795aef8916_asi-slot-_11_5EAPbeta_be00301_1147873226632_528960_2311-slotvalue-0-literalstring\n",
      "24 / 1509 --- 41.6617705821991 s\n",
      "NO MATCH FOUND evaluation with req:  _4663af6e-6265-438d-87b8-74e1550518bf__963_2b4b4e67-65b8-49ef-853c-03a56e27f9be_asi-slot-_18_0_2_b4c02e1_1422576771659_877428_84042-slotvalue-0-literalstring\n",
      "25 / 1509 --- 42.095152854919434 s\n",
      "NO MATCH FOUND evaluation with req:  _18406_b4f0b9b9-09c9-4823-8d37-c0945baeb889_asi-slot-_11_5EAPbeta_be00301_1147873226632_528960_2311-slotvalue-0-literalstring\n",
      "26 / 1509 --- 42.714359760284424 s\n",
      "NO MATCH FOUND evaluation with req:  _17010_570152aa-c731-425e-95cd-c6f4d6087b5a_asi-slot-_11_5EAPbeta_be00301_1147873226632_528960_2311-slotvalue-0-literalstring\n",
      "27 / 1509 --- 43.112430810928345 s\n",
      "NO MATCH FOUND evaluation with req:  _4663af6e-6265-438d-87b8-74e1550518bf__12740_ccaedd1c-65c0-4814-8c0b-4b5102351461_asi-slot-_11_5EAPbeta_be00301_1147873226632_528960_2311-slotvalue-0-literalstring\n",
      "28 / 1509 --- 43.92690372467041 s\n",
      "NO MATCH FOUND evaluation with req:  _8f7cabc1-8e5f-4014-8c9c-7ff7b8b98955__1700_e88fee38-a824-48cb-bf5e-c976e6993d27_asi-slot-_11_5EAPbeta_be00301_1147873226632_528960_2311-slotvalue-0-literalstring\n",
      "29 / 1509 --- 47.760538816452026 s\n",
      "NO MATCH FOUND evaluation with req:  _10471_9ab91e35-131c-4ccb-904a-ae29e4b00cc9_asi-slot-_11_5EAPbeta_be00301_1147873226632_528960_2311-slotvalue-0-literalstring\n",
      "30 / 1509 --- 48.18196201324463 s\n",
      "NO MATCH FOUND evaluation with req:  _4663af6e-6265-438d-87b8-74e1550518bf__12740_ccaedd1c-65c0-4814-8c0b-4b5102351461_asi-slot-_18_0_2_b4c02e1_1422576771655_92674_84021-slotvalue-0-literalstring\n",
      "31 / 1509 --- 48.355334758758545 s\n",
      "NO MATCH FOUND evaluation with req:  _8f7cabc1-8e5f-4014-8c9c-7ff7b8b98955__1049_2e0bd9a0-02fa-4b43-88be-6eb6d6f4d304_asi-slot-_18_0_2_b4c02e1_1422576771659_877428_84042-slotvalue-0-literalstring\n",
      "WARNING: Same age (0) and same token were merged\n",
      "Token: {'text': 'Requirements', 'pos': 'NOUN', 'token_id': 74}\n",
      "32 / 1509 --- 95.30933666229248 s\n",
      "EVALUATION done for req:  _8f7cabc1-8e5f-4014-8c9c-7ff7b8b98955__1087_8ef8b183-ac20-4783-9599-09f7dc9c8788_asi-slot-_11_5EAPbeta_be00301_1147873226632_528960_2311-slotvalue-0-literalstring\n",
      "33 / 1509 --- 95.81056475639343 s\n",
      "NO MATCH FOUND evaluation with req:  _17010_570152aa-c731-425e-95cd-c6f4d6087b5a_asi-slot-_18_0_2_b4c02e1_1422576771655_92674_84021-slotvalue-0-literalstring\n",
      "WARNING: Same age (0) and same token were merged\n",
      "Token: {'text': 'performance requirements', 'pos': 'NOUN', 'token_id': 14}\n",
      "34 / 1509 --- 111.17819690704346 s\n",
      "EVALUATION done for req:  _12784_e53b4b47-2836-423e-8fce-a098146db2ce_asi-slot-_11_5EAPbeta_be00301_1147873226632_528960_2311-slotvalue-0-literalstring\n",
      "35 / 1509 --- 111.65119075775146 s\n",
      "NO MATCH FOUND evaluation with req:  _18793_3dbb4727-eec9-414d-8155-aaf65be488a6_asi-slot-_18_0_2_b4c02e1_1422576771655_92674_84021-slotvalue-0-literalstring\n",
      "36 / 1509 --- 111.85814571380615 s\n",
      "NO MATCH FOUND evaluation with req:  _4663af6e-6265-438d-87b8-74e1550518bf__43_1eed1aa0-1855-4817-b616-e409f3716341_asi-slot-_18_0_2_b4c02e1_1422576771659_877428_84042-slotvalue-0-literalstring\n",
      "37 / 1509 --- 459.328351020813 s\n",
      "EVALUATION done for req:  _8f7cabc1-8e5f-4014-8c9c-7ff7b8b98955__1375_49ed0455-5517-4123-a4cb-1630ef12063d_asi-slot-_11_5EAPbeta_be00301_1147873226632_528960_2311-slotvalue-0-literalstring\n",
      "38 / 1509 --- 459.85105895996094 s\n",
      "NO MATCH FOUND evaluation with req:  _4663af6e-6265-438d-87b8-74e1550518bf__43_1eed1aa0-1855-4817-b616-e409f3716341_asi-slot-_11_5EAPbeta_be00301_1147873226632_528960_2311-slotvalue-0-literalstring\n",
      "39 / 1509 --- 460.64367389678955 s\n",
      "NO MATCH FOUND evaluation with req:  _6141_d6b7892d-6775-4391-b71e-bbd99d915bb0_asi-slot-_11_5EAPbeta_be00301_1147873226632_528960_2311-slotvalue-0-literalstring\n",
      "40 / 1509 --- 461.11492586135864 s\n",
      "NO MATCH FOUND evaluation with req:  _2876_8a64bd4c-bc6e-4787-ab6a-e1fb652d0b9f_asi-slot-_11_5EAPbeta_be00301_1147873226632_528960_2311-slotvalue-0-literalstring\n",
      "41 / 1509 --- 461.367173910141 s\n",
      "NO MATCH FOUND evaluation with req:  _6661c442-ae86-4f4e-bfeb-45c7062378f6__962_44d00e98-96b2-4a3a-8040-8616b4f97c2b_asi-slot-_18_0_2_b4c02e1_1422576771659_877428_84042-slotvalue-0-literalstring\n",
      "42 / 1509 --- 462.0592279434204 s\n",
      "NO MATCH FOUND evaluation with req:  _6661c442-ae86-4f4e-bfeb-45c7062378f6__920_39c3ac7f-a9e1-461e-9450-a1d50e458364_asi-slot-_11_5EAPbeta_be00301_1147873226632_528960_2311-slotvalue-0-literalstring\n",
      "43 / 1509 --- 462.267698764801 s\n",
      "NO MATCH FOUND evaluation with req:  _4663af6e-6265-438d-87b8-74e1550518bf__130_206bd9d9-ccce-46ad-8dcf-184a3e86f30f_asi-slot-_18_0_2_b4c02e1_1422576771659_877428_84042-slotvalue-0-literalstring\n",
      "44 / 1509 --- 462.4376208782196 s\n",
      "NO MATCH FOUND evaluation with req:  _8f7cabc1-8e5f-4014-8c9c-7ff7b8b98955__1142_26a1f08b-262d-4732-9916-eca734ef4a72_asi-slot-_18_0_2_b4c02e1_1422576771659_877428_84042-slotvalue-0-literalstring\n",
      "45 / 1509 --- 462.65639567375183 s\n",
      "NO MATCH FOUND evaluation with req:  _4663af6e-6265-438d-87b8-74e1550518bf__130_206bd9d9-ccce-46ad-8dcf-184a3e86f30f_asi-slot-_18_0_2_b4c02e1_1423073212164_663502_347367-slotvalue-0-literalstring\n",
      "46 / 1509 --- 462.8232877254486 s\n",
      "NO MATCH FOUND evaluation with req:  _4663af6e-6265-438d-87b8-74e1550518bf__6424_1820eade-54aa-4ff2-a21e-4fdae3be9bcb_asi-slot-_18_0_2_b4c02e1_1422576771659_877428_84042-slotvalue-0-literalstring\n",
      "47 / 1509 --- 464.0177228450775 s\n",
      "NO MATCH FOUND evaluation with req:  _4663af6e-6265-438d-87b8-74e1550518bf__130_206bd9d9-ccce-46ad-8dcf-184a3e86f30f_asi-slot-_11_5EAPbeta_be00301_1147873226632_528960_2311-slotvalue-0-literalstring\n",
      "48 / 1509 --- 464.4214117527008 s\n",
      "NO MATCH FOUND evaluation with req:  _18405_3cf87e7b-5cf3-4de6-9c5d-ead31ff56e4b_asi-slot-_11_5EAPbeta_be00301_1147873226632_528960_2311-slotvalue-0-literalstring\n",
      "49 / 1509 --- 464.5876679420471 s\n",
      "NO MATCH FOUND evaluation with req:  _8f7cabc1-8e5f-4014-8c9c-7ff7b8b98955__1903_0ecaced5-11aa-4281-afd8-2c7602cd93d7_asi-slot-_18_0_2_b4c02e1_1422576771659_877428_84042-slotvalue-0-literalstring\n",
      "50 / 1509 --- 465.16321182250977 s\n",
      "NO MATCH FOUND evaluation with req:  _1c8745d2-aa73-4371-b35a-bbb0e3124ce9__151_beb97032-3234-47c0-9eed-089094984e46_asi-slot-_11_5EAPbeta_be00301_1147873226632_528960_2311-slotvalue-0-literalstring\n",
      "51 / 1509 --- 465.5218198299408 s\n",
      "NO MATCH FOUND evaluation with req:  _18415_b85179c7-8f36-40b1-a00d-87e99442e1f2_asi-slot-_11_5EAPbeta_be00301_1147873226632_528960_2311-slotvalue-0-literalstring\n",
      "WARNING: Same age (0) and same token were merged\n",
      "Token: {'text': 'administration', 'pos': 'NOUN', 'token_id': 39}\n",
      "52 / 1509 --- 468.7868278026581 s\n",
      "EVALUATION done for req:  _4663af6e-6265-438d-87b8-74e1550518bf__12360_ce74a4bf-83f8-4d1b-bb9a-9a9a4a0b3abb_asi-slot-_11_5EAPbeta_be00301_1147873226632_528960_2311-slotvalue-0-literalstring\n",
      "53 / 1509 --- 469.23337864875793 s\n",
      "NO MATCH FOUND evaluation with req:  _4663af6e-6265-438d-87b8-74e1550518bf__12360_ce74a4bf-83f8-4d1b-bb9a-9a9a4a0b3abb_asi-slot-_18_0_2_b4c02e1_1422576771655_92674_84021-slotvalue-0-literalstring\n",
      "54 / 1509 --- 469.482736825943 s\n",
      "NO MATCH FOUND evaluation with req:  _4663af6e-6265-438d-87b8-74e1550518bf__12360_ce74a4bf-83f8-4d1b-bb9a-9a9a4a0b3abb_asi-slot-_18_0_2_b4c02e1_1422576771659_877428_84042-slotvalue-0-literalstring\n",
      "55 / 1509 --- 469.9720346927643 s\n",
      "NO MATCH FOUND evaluation with req:  _8f7cabc1-8e5f-4014-8c9c-7ff7b8b98955__1150_983c7d7b-d6ed-4ad9-85f2-5528bca10212_asi-slot-_11_5EAPbeta_be00301_1147873226632_528960_2311-slotvalue-0-literalstring\n",
      "56 / 1509 --- 470.13507199287415 s\n",
      "NO MATCH FOUND evaluation with req:  _8f7cabc1-8e5f-4014-8c9c-7ff7b8b98955__1150_983c7d7b-d6ed-4ad9-85f2-5528bca10212_asi-slot-_18_0_2_b4c02e1_1422576771659_877428_84042-slotvalue-0-literalstring\n",
      "57 / 1509 --- 470.56318974494934 s\n",
      "NO MATCH FOUND evaluation with req:  _4663af6e-6265-438d-87b8-74e1550518bf__11307_f440eff7-8321-4203-92dd-53b2f11aa0f4_asi-slot-_11_5EAPbeta_be00301_1147873226632_528960_2311-slotvalue-0-literalstring\n",
      "58 / 1509 --- 471.30689883232117 s\n",
      "NO MATCH FOUND evaluation with req:  _14039_76f83280-d9db-4870-a96d-2e073ace716c_asi-slot-_18_0_2_b4c02e1_1422576771655_92674_84021-slotvalue-0-literalstring\n",
      "59 / 1509 --- 471.48620080947876 s\n",
      "NO MATCH FOUND evaluation with req:  _4663af6e-6265-438d-87b8-74e1550518bf__223_7be7607a-420b-42d0-b237-e9eeef6a6680_asi-slot-_18_0_2_b4c02e1_1422576771659_877428_84042-slotvalue-0-literalstring\n",
      "60 / 1509 --- 473.3880078792572 s\n",
      "EVALUATION done for req:  _10452_35036dfd-7372-41f1-91b8-bb132095db4a_asi-slot-_11_5EAPbeta_be00301_1147873226632_528960_2311-slotvalue-0-literalstring\n",
      "61 / 1509 --- 474.1287739276886 s\n",
      "NO MATCH FOUND evaluation with req:  _6661c442-ae86-4f4e-bfeb-45c7062378f6__1141_e39e3dc2-1031-4c6b-b423-ada5be61ff8d_asi-slot-_11_5EAPbeta_be00301_1147873226632_528960_2311-slotvalue-0-literalstring\n",
      "62 / 1509 --- 474.3419179916382 s\n",
      "NO MATCH FOUND evaluation with req:  _4663af6e-6265-438d-87b8-74e1550518bf__164_e8ea2aab-6001-4cca-a720-819f6ce783f9_asi-slot-_18_0_2_b4c02e1_1422576771659_877428_84042-slotvalue-0-literalstring\n",
      "63 / 1509 --- 474.51185488700867 s\n",
      "NO MATCH FOUND evaluation with req:  _4663af6e-6265-438d-87b8-74e1550518bf__906_296b9968-fc8e-4101-950d-cec5eed188a1_asi-slot-_18_0_2_b4c02e1_1422576771659_877428_84042-slotvalue-0-literalstring\n",
      "64 / 1509 --- 475.0257716178894 s\n",
      "NO MATCH FOUND evaluation with req:  _10917_66b309d1-1d61-40ee-b0b7-f43ef3400645_asi-slot-_11_5EAPbeta_be00301_1147873226632_528960_2311-slotvalue-0-literalstring\n",
      "65 / 1509 --- 475.22832894325256 s\n",
      "NO MATCH FOUND evaluation with req:  _4663af6e-6265-438d-87b8-74e1550518bf__12425_834ed916-b7b3-4524-9048-6c44fcef4e93_asi-slot-_18_0_2_b4c02e1_1422576771659_877428_84042-slotvalue-0-literalstring\n",
      "66 / 1509 --- 475.43393898010254 s\n",
      "NO MATCH FOUND evaluation with req:  _18369_69244846-efcc-4b3b-a362-35217c31a881_asi-slot-_11_5EAPbeta_be00301_1147873226632_528960_2311-slotvalue-0-literalstring\n",
      "67 / 1509 --- 475.60744762420654 s\n",
      "NO MATCH FOUND evaluation with req:  _8f7cabc1-8e5f-4014-8c9c-7ff7b8b98955__1370_c989809d-1e46-4446-9993-82dc0c83d770_asi-slot-_18_0_2_b4c02e1_1422576771659_877428_84042-slotvalue-0-literalstring\n",
      "68 / 1509 --- 476.11105275154114 s\n",
      "NO MATCH FOUND evaluation with req:  _4663af6e-6265-438d-87b8-74e1550518bf__11350_83be4931-197e-4f22-aad5-f200b6f69dc5_asi-slot-_11_5EAPbeta_be00301_1147873226632_528960_2311-slotvalue-0-literalstring\n",
      "69 / 1509 --- 476.2759177684784 s\n",
      "NO MATCH FOUND evaluation with req:  _8f7cabc1-8e5f-4014-8c9c-7ff7b8b98955__2474_736d3368-f02c-4da6-bc1c-6d8898ee90ae_asi-slot-_18_0_2_b4c02e1_1422576771659_877428_84042-slotvalue-0-literalstring\n",
      "70 / 1509 --- 477.18877959251404 s\n",
      "NO MATCH FOUND evaluation with req:  _16670_86dcaa96-bdbd-41d3-ae21-6c3e56b38092_asi-slot-_11_5EAPbeta_be00301_1147873226632_528960_2311-slotvalue-0-literalstring\n",
      "71 / 1509 --- 477.3579568862915 s\n",
      "NO MATCH FOUND evaluation with req:  _4663af6e-6265-438d-87b8-74e1550518bf__11350_83be4931-197e-4f22-aad5-f200b6f69dc5_asi-slot-_18_0_2_b4c02e1_1422576771659_877428_84042-slotvalue-0-literalstring\n",
      "72 / 1509 --- 477.8587427139282 s\n",
      "NO MATCH FOUND evaluation with req:  _4663af6e-6265-438d-87b8-74e1550518bf__906_296b9968-fc8e-4101-950d-cec5eed188a1_asi-slot-_17_0_2_3_b4c02e1_1379368975825_138301_38788-slotvalue-0-literalstring\n",
      "73 / 1509 --- 478.9263129234314 s\n",
      "NO MATCH FOUND evaluation with req:  _18816_9bbbfdd7-3927-44b9-bfde-cb4131acbf8a_asi-slot-_11_5EAPbeta_be00301_1147873226632_528960_2311-slotvalue-0-literalstring\n",
      "74 / 1509 --- 479.30616664886475 s\n",
      "NO MATCH FOUND evaluation with req:  _4663af6e-6265-438d-87b8-74e1550518bf__12425_834ed916-b7b3-4524-9048-6c44fcef4e93_asi-slot-_18_0_2_b4c02e1_1422576771655_92674_84021-slotvalue-0-literalstring\n",
      "75 / 1509 --- 479.9355728626251 s\n",
      "NO MATCH FOUND evaluation with req:  _841_87af5944-6ea6-45b1-b787-f90cbfeec9b4_asi-slot-_17_0_2_3_b4c02e1_1379368975825_138301_38788-slotvalue-0-literalstring\n",
      "76 / 1509 --- 480.67275977134705 s\n",
      "NO MATCH FOUND evaluation with req:  _4663af6e-6265-438d-87b8-74e1550518bf__11312_765624b5-f975-460a-a93f-d6978330a7c8_asi-slot-_11_5EAPbeta_be00301_1147873226632_528960_2311-slotvalue-0-literalstring\n",
      "WARNING: Same age (0) and same token were merged\n",
      "Token: {'text': 'System', 'pos': 'PROPN', 'token_id': 20}\n",
      "77 / 1509 --- 520.1045389175415 s\n",
      "EVALUATION done for req:  _841_87af5944-6ea6-45b1-b787-f90cbfeec9b4_asi-slot-_11_5EAPbeta_be00301_1147873226632_528960_2311-slotvalue-0-literalstring\n",
      "78 / 1509 --- 520.2780196666718 s\n",
      "NO MATCH FOUND evaluation with req:  _4663af6e-6265-438d-87b8-74e1550518bf__6722_ed6f14a5-bada-4dbf-bfec-b1fa098e5442_asi-slot-_18_0_2_b4c02e1_1422576771659_877428_84042-slotvalue-0-literalstring\n",
      "79 / 1509 --- 520.7439019680023 s\n",
      "NO MATCH FOUND evaluation with req:  _4663af6e-6265-438d-87b8-74e1550518bf__11312_765624b5-f975-460a-a93f-d6978330a7c8_asi-slot-_17_0_2_3_b4c02e1_1379368975825_138301_38788-slotvalue-0-literalstring\n",
      "80 / 1509 --- 520.9125199317932 s\n",
      "NO MATCH FOUND evaluation with req:  _8f7cabc1-8e5f-4014-8c9c-7ff7b8b98955__1210_17af3b5f-b358-46e2-b20a-68498520ca78_asi-slot-_18_0_2_b4c02e1_1422576771659_877428_84042-slotvalue-0-literalstring\n",
      "81 / 1509 --- 521.3261468410492 s\n",
      "NO MATCH FOUND evaluation with req:  _4663af6e-6265-438d-87b8-74e1550518bf__17031_2c67bc16-6d73-4c0f-9928-aafb172b1e35_asi-slot-_18_0_2_b4c02e1_1422576771655_92674_84021-slotvalue-0-literalstring\n",
      "82 / 1509 --- 521.6317608356476 s\n",
      "NO MATCH FOUND evaluation with req:  _18460_04cb3582-3c51-4b95-8ed9-1c051add0ef6_asi-slot-_11_5EAPbeta_be00301_1147873226632_528960_2311-slotvalue-0-literalstring\n",
      "83 / 1509 --- 522.3055999279022 s\n",
      "NO MATCH FOUND evaluation with req:  _16334_a8603c94-daf1-4758-8ca7-0ded811501d3_asi-slot-_11_5EAPbeta_be00301_1147873226632_528960_2311-slotvalue-0-literalstring\n",
      "84 / 1509 --- 523.0452969074249 s\n",
      "NO MATCH FOUND evaluation with req:  _4663af6e-6265-438d-87b8-74e1550518bf__6651_2a81ddca-3eb4-49e1-a73b-82420a6eb19a_asi-slot-_11_5EAPbeta_be00301_1147873226632_528960_2311-slotvalue-0-literalstring\n",
      "85 / 1509 --- 523.217004776001 s\n",
      "NO MATCH FOUND evaluation with req:  _8f7cabc1-8e5f-4014-8c9c-7ff7b8b98955__1916_e4a25534-9a1c-4862-b643-040685241bd9_asi-slot-_18_0_2_b4c02e1_1422576771659_877428_84042-slotvalue-0-literalstring\n",
      "86 / 1509 --- 523.4045376777649 s\n",
      "NO MATCH FOUND evaluation with req:  _4663af6e-6265-438d-87b8-74e1550518bf__6411_e49dfe67-280a-4f9d-9435-9b087f4f2cfb_asi-slot-_18_0_2_b4c02e1_1422576771659_877428_84042-slotvalue-0-literalstring\n",
      "87 / 1509 --- 523.5747509002686 s\n",
      "NO MATCH FOUND evaluation with req:  _8f7cabc1-8e5f-4014-8c9c-7ff7b8b98955__1922_85f6e6a6-a867-4653-9ce3-c07f9c4d8520_asi-slot-_18_0_2_b4c02e1_1422576771659_877428_84042-slotvalue-0-literalstring\n",
      "88 / 1509 --- 523.7508406639099 s\n",
      "NO MATCH FOUND evaluation with req:  _6661c442-ae86-4f4e-bfeb-45c7062378f6__909_66a11cc5-4563-4795-baab-15a396eb4043_asi-slot-_18_0_2_b4c02e1_1422576771659_877428_84042-slotvalue-0-literalstring\n",
      "89 / 1509 --- 524.0096657276154 s\n",
      "NO MATCH FOUND evaluation with req:  _16713_9224b4eb-e727-4155-9565-e24cf99121ce_asi-slot-_17_0_2_3_b4c02e1_1380209973757_201523_39672-slotvalue-0-literalstring\n",
      "90 / 1509 --- 524.543863773346 s\n",
      "NO MATCH FOUND evaluation with req:  _4663af6e-6265-438d-87b8-74e1550518bf__6411_e49dfe67-280a-4f9d-9435-9b087f4f2cfb_asi-slot-_11_5EAPbeta_be00301_1147873226632_528960_2311-slotvalue-0-literalstring\n",
      "91 / 1509 --- 525.0923409461975 s\n",
      "NO MATCH FOUND evaluation with req:  _18654_05bfc63e-35a7-40f3-9c66-bd1af350b075_asi-slot-_11_5EAPbeta_be00301_1147873226632_528960_2311-slotvalue-0-literalstring\n",
      "92 / 1509 --- 525.3642916679382 s\n",
      "NO MATCH FOUND evaluation with req:  _12306_ab49ec61-e197-49a6-871d-21c7a8815d58_asi-slot-_11_5EAPbeta_be00301_1147873226632_528960_2311-slotvalue-0-literalstring\n",
      "93 / 1509 --- 525.8106887340546 s\n",
      "NO MATCH FOUND evaluation with req:  _6661c442-ae86-4f4e-bfeb-45c7062378f6__909_66a11cc5-4563-4795-baab-15a396eb4043_asi-slot-_11_5EAPbeta_be00301_1147873226632_528960_2311-slotvalue-0-literalstring\n",
      "94 / 1509 --- 526.8572127819061 s\n",
      "NO MATCH FOUND evaluation with req:  _18654_05bfc63e-35a7-40f3-9c66-bd1af350b075_asi-slot-_17_0_2_3_b4c02e1_1380209973757_201523_39672-slotvalue-0-literalstring\n",
      "95 / 1509 --- 840.0319788455963 s\n",
      "EVALUATION done for req:  _8f7cabc1-8e5f-4014-8c9c-7ff7b8b98955__1607_075f918d-fd72-4dd1-8495-f33cd9280d09_asi-slot-_11_5EAPbeta_be00301_1147873226632_528960_2311-slotvalue-0-literalstring\n",
      "96 / 1509 --- 840.4637739658356 s\n",
      "NO MATCH FOUND evaluation with req:  _15366_212c5386-bb1e-4159-a2a7-5c2c4ae8b8ef_asi-slot-_18_0_2_b4c02e1_1422576771655_92674_84021-slotvalue-0-literalstring\n",
      "WARNING: Same age (0) and same token were merged\n",
      "Token: {'text': 'The Observatory Safety System', 'pos': 'PROPN', 'token_id': 8}\n",
      "97 / 1509 --- 4053.7544388771057 s\n",
      "FAILED evaluation with req:  _4663af6e-6265-438d-87b8-74e1550518bf__906_296b9968-fc8e-4101-950d-cec5eed188a1_asi-slot-_11_5EAPbeta_be00301_1147873226632_528960_2311-slotvalue-0-literalstring\n",
      "98 / 1509 --- 4054.2265815734863 s\n",
      "NO MATCH FOUND evaluation with req:  _18763_36f4937f-2cfc-4369-aa5d-824b4741c8bd_asi-slot-_11_5EAPbeta_be00301_1147873226632_528960_2311-slotvalue-0-literalstring\n",
      "99 / 1509 --- 4054.620599746704 s\n",
      "NO MATCH FOUND evaluation with req:  _4663af6e-6265-438d-87b8-74e1550518bf__6425_e79ca7d6-bddd-4172-a550-e6fd60b87f3b_asi-slot-_18_0_2_b4c02e1_1422576771655_92674_84021-slotvalue-0-literalstring\n",
      "100 / 1509 --- 4055.367214679718 s\n",
      "NO MATCH FOUND evaluation with req:  _13382_966aa876-be02-457b-902e-526f5eb3ef3d_asi-slot-_18_0_2_b4c02e1_1422576771655_92674_84021-slotvalue-0-literalstring\n",
      "101 / 1509 --- 4055.8311727046967 s\n",
      "FAILED evaluation with req:  _18876_3df80089-f60e-4559-a0d2-f09bf145c09f_asi-slot-_11_5EAPbeta_be00301_1147873226632_528960_2311-slotvalue-0-literalstring\n",
      "102 / 1509 --- 4056.4420149326324 s\n",
      "NO MATCH FOUND evaluation with req:  _8f7cabc1-8e5f-4014-8c9c-7ff7b8b98955__2474_736d3368-f02c-4da6-bc1c-6d8898ee90ae_asi-slot-_11_5EAPbeta_be00301_1147873226632_528960_2311-slotvalue-0-literalstring\n",
      "103 / 1509 --- 4057.0382878780365 s\n",
      "NO MATCH FOUND evaluation with req:  _4663af6e-6265-438d-87b8-74e1550518bf__6405_27e83222-020a-40d7-8013-389bc13d1c67_asi-slot-_11_5EAPbeta_be00301_1147873226632_528960_2311-slotvalue-0-literalstring\n"
     ]
    }
   ],
   "source": [
    "req_evaluator.evaluate_all_requirements(g, ref_targets, insert_blocks, insert_query, pprint=False)"
   ]
  },
  {
   "cell_type": "code",
   "execution_count": null,
   "metadata": {},
   "outputs": [],
   "source": []
  },
  {
   "cell_type": "code",
   "execution_count": null,
   "metadata": {},
   "outputs": [],
   "source": []
  },
  {
   "cell_type": "code",
   "execution_count": 23,
   "metadata": {},
   "outputs": [],
   "source": [
    "req_list = [\n",
    "    '_831_331c90b6-9e17-4c46-8530-0fc345e0a22f_asi-slot-_11_5EAPbeta_be00301_1147873226632_528960_2311-slotvalue-0-literalstring', \n",
    "    '_841_87af5944-6ea6-45b1-b787-f90cbfeec9b4_asi-slot-_11_5EAPbeta_be00301_1147873226632_528960_2311-slotvalue-0-literalstring',\n",
    "    '_1c8745d2-aa73-4371-b35a-bbb0e3124ce9__177_de0b38f1-5b92-496b-a528-89795aef8916_asi-slot-_11_5EAPbeta_be00301_1147873226632_528960_2311-slotvalue-0-literalstring', \n",
    "    '_4663af6e-6265-438d-87b8-74e1550518bf__12410_7c88037b-e412-4c6f-a9c2-709bcbeb92ea_asi-slot-_11_5EAPbeta_be00301_1147873226632_528960_2311-slotvalue-0-literalstring', \n",
    "]"
   ]
  },
  {
   "cell_type": "code",
   "execution_count": 13,
   "metadata": {
    "collapsed": true,
    "jupyter": {
     "outputs_hidden": true
    }
   },
   "outputs": [
    {
     "name": "stdout",
     "output_type": "stream",
     "text": [
      "gremlin: ws://100.65.51.106:8182/gremlin\n",
      "_831_331c90b6-9e17-4c46-8530-0fc345e0a22f_asi-slot-_11_5EAPbeta_be00301_1147873226632_528960_2311-slotvalue-0-literalstring\n",
      "WARNING: Same age (0) and same token were merged\n",
      "Token: {'text': 'the Data Management System', 'pos': 'PROPN', 'token_id': 117}\n",
      "_8f7cabc1-8e5f-4014-8c9c-7ff7b8b98955__1046_cd668fdb-7621-4923-83b6-3f2b7d8ffe67_asi-slot-_11_5EAPbeta_be00301_1147873226632_528960_2311-slotvalue-0-literalstring\n",
      "Error with req:  _8f7cabc1-8e5f-4014-8c9c-7ff7b8b98955__1046_cd668fdb-7621-4923-83b6-3f2b7d8ffe67_asi-slot-_11_5EAPbeta_be00301_1147873226632_528960_2311-slotvalue-0-literalstring\n",
      "_841_87af5944-6ea6-45b1-b787-f90cbfeec9b4_asi-slot-_11_5EAPbeta_be00301_1147873226632_528960_2311-slotvalue-0-literalstring\n",
      "WARNING: Same age (0) and same token were merged\n",
      "Token: {'text': 'System', 'pos': 'PROPN', 'token_id': 20}\n",
      "_16498_f25848ec-f4b4-4ddb-a0c3-9b359d451c67_asi-slot-_11_5EAPbeta_be00301_1147873226632_528960_2311-slotvalue-0-literalstring\n",
      "Error with req:  _16498_f25848ec-f4b4-4ddb-a0c3-9b359d451c67_asi-slot-_11_5EAPbeta_be00301_1147873226632_528960_2311-slotvalue-0-literalstring\n",
      "_1c8745d2-aa73-4371-b35a-bbb0e3124ce9__177_de0b38f1-5b92-496b-a528-89795aef8916_asi-slot-_11_5EAPbeta_be00301_1147873226632_528960_2311-slotvalue-0-literalstring\n",
      "Error with req:  _1c8745d2-aa73-4371-b35a-bbb0e3124ce9__177_de0b38f1-5b92-496b-a528-89795aef8916_asi-slot-_11_5EAPbeta_be00301_1147873226632_528960_2311-slotvalue-0-literalstring\n",
      "_8f7cabc1-8e5f-4014-8c9c-7ff7b8b98955__1140_2c131f4b-e665-4534-8a2b-472251f68812_asi-slot-_11_5EAPbeta_be00301_1147873226632_528960_2311-slotvalue-0-literalstring\n",
      "Error with req:  _8f7cabc1-8e5f-4014-8c9c-7ff7b8b98955__1140_2c131f4b-e665-4534-8a2b-472251f68812_asi-slot-_11_5EAPbeta_be00301_1147873226632_528960_2311-slotvalue-0-literalstring\n",
      "_4663af6e-6265-438d-87b8-74e1550518bf__16866_a4f920a0-57c8-48e8-b5c3-69b77a4e5c4e_asi-slot-_11_5EAPbeta_be00301_1147873226632_528960_2311-slotvalue-0-literalstring\n",
      "Error with req:  _4663af6e-6265-438d-87b8-74e1550518bf__16866_a4f920a0-57c8-48e8-b5c3-69b77a4e5c4e_asi-slot-_11_5EAPbeta_be00301_1147873226632_528960_2311-slotvalue-0-literalstring\n",
      "_16636_ab00c9a9-d20d-436c-830a-cac9b351ac9d_asi-slot-_11_5EAPbeta_be00301_1147873226632_528960_2311-slotvalue-0-literalstring\n",
      "Error with req:  _16636_ab00c9a9-d20d-436c-830a-cac9b351ac9d_asi-slot-_11_5EAPbeta_be00301_1147873226632_528960_2311-slotvalue-0-literalstring\n",
      "_4663af6e-6265-438d-87b8-74e1550518bf__12410_7c88037b-e412-4c6f-a9c2-709bcbeb92ea_asi-slot-_11_5EAPbeta_be00301_1147873226632_528960_2311-slotvalue-0-literalstring\n",
      "Error with req:  _4663af6e-6265-438d-87b8-74e1550518bf__12410_7c88037b-e412-4c6f-a9c2-709bcbeb92ea_asi-slot-_11_5EAPbeta_be00301_1147873226632_528960_2311-slotvalue-0-literalstring\n"
     ]
    }
   ],
   "source": [
    "g = neptune.graphTraversal()\n",
    "\n",
    "for req_id in req_list:\n",
    "    print(req_id)\n",
    "    try:\n",
    "        req_evaluation = req_evaluator.evaluate_req_by_id(g, \n",
    "                                         req_id, \n",
    "                                         ref_targets,\n",
    "                                         pprint=False)\n",
    "        req_evaluation.insert_references(insert_blocks, insert_query)\n",
    "    except:\n",
    "        print('Error with req: ', req_id)"
   ]
  },
  {
   "cell_type": "code",
   "execution_count": 15,
   "metadata": {
    "collapsed": true,
    "jupyter": {
     "outputs_hidden": true
    }
   },
   "outputs": [
    {
     "name": "stdout",
     "output_type": "stream",
     "text": [
      "gremlin: ws://100.65.51.106:8182/gremlin\n",
      "Req ID:  https://opencae.jpl.nasa.gov/mms/rdf/element/_4663af6e-6265-438d-87b8-74e1550518bf__906_296b9968-fc8e-4101-950d-cec5eed188a1_asi \n",
      "Req text: <html><body>\n",
      "<span xmlns=\"http://www.w3.org/1999/xhtml\"><strong>[REQ-1-OAD-7050]</strong> The Observatory Safety System shall be implemented as an independent PLC based system whose operation does not rely on the availability of any other sub-systems other than power.</span></body></html> \n",
      "__________\n",
      "[{'token': {'text': 'The Observatory Safety System', 'pos': 'PROPN', 'token_id': 8}, 'model_element': {'uri': 'https://opencae.jpl.nasa.gov/mms/rdf/element/_18_0_5_f1d0357_1462834114886_542515_148655', 'name': 'Observatory Safety Systems'}, 'score': 0.002457028494028205}, {'token': {'text': 'The Observatory Safety System', 'pos': 'PROPN', 'token_id': 8}, 'model_element': {'uri': 'https://opencae.jpl.nasa.gov/mms/rdf/element/_4663af6e-6265-438d-87b8-74e1550518bf__905_643f5aef-34e6-4137-8c0f-d1cf4d9a9e7d', 'name': 'Observatory Safety System'}, 'score': 0.0011396016107172273}] \n",
      "___________\n",
      "19510 comparaisons\n",
      "Time:  1.1102368831634521\n",
      "0 1\n",
      "{'uri': 'https://opencae.jpl.nasa.gov/mms/rdf/element/_18_0_5_f1d0357_1462834114886_542515_148655', 'name': 'Observatory Safety Systems'} {'uri': 'https://opencae.jpl.nasa.gov/mms/rdf/element/_4663af6e-6265-438d-87b8-74e1550518bf__905_643f5aef-34e6-4137-8c0f-d1cf4d9a9e7d', 'name': 'Observatory Safety System'}\n",
      "Timeout: node_distance()\n",
      "DISTANCE: in 3.0020501613616943 s  10\n",
      "_________\n",
      "WARNING: Same age (0) and same token were merged\n",
      "Token: {'text': 'The Observatory Safety System', 'pos': 'PROPN', 'token_id': 8}\n",
      "_______________________\n",
      "MATCHES:\n",
      "Token:  The Observatory Safety System\n",
      "Element:  Observatory Safety Systems\n",
      "URI:  https://opencae.jpl.nasa.gov/mms/rdf/element/_18_0_5_f1d0357_1462834114886_542515_148655 \n",
      "_________\n"
     ]
    },
    {
     "ename": "HTTPError",
     "evalue": "HTTP 599: Timeout during request",
     "output_type": "error",
     "traceback": [
      "\u001b[0;31m---------------------------------------------------------------------------\u001b[0m",
      "\u001b[0;31mHTTPError\u001b[0m                                 Traceback (most recent call last)",
      "\u001b[0;32m<ipython-input-15-0da81030a6a5>\u001b[0m in \u001b[0;36m<module>\u001b[0;34m\u001b[0m\n\u001b[1;32m      4\u001b[0m                                  \u001b[0;34m'_4663af6e-6265-438d-87b8-74e1550518bf__906_296b9968-fc8e-4101-950d-cec5eed188a1_asi-slot-_11_5EAPbeta_be00301_1147873226632_528960_2311-slotvalue-0-literalstring'\u001b[0m\u001b[0;34m,\u001b[0m\u001b[0;34m\u001b[0m\u001b[0;34m\u001b[0m\u001b[0m\n\u001b[1;32m      5\u001b[0m                                  \u001b[0mref_targets\u001b[0m\u001b[0;34m,\u001b[0m\u001b[0;34m\u001b[0m\u001b[0;34m\u001b[0m\u001b[0m\n\u001b[0;32m----> 6\u001b[0;31m                                  pprint=True)\n\u001b[0m\u001b[1;32m      7\u001b[0m \u001b[0mreq_evaluation\u001b[0m\u001b[0;34m.\u001b[0m\u001b[0minsert_references\u001b[0m\u001b[0;34m(\u001b[0m\u001b[0minsert_blocks\u001b[0m\u001b[0;34m,\u001b[0m \u001b[0minsert_query\u001b[0m\u001b[0;34m)\u001b[0m\u001b[0;34m\u001b[0m\u001b[0;34m\u001b[0m\u001b[0m\n",
      "\u001b[0;32m~/cref/mms-autocref/req_analysis/requirement_evaluator.py\u001b[0m in \u001b[0;36mevaluate_req_by_id\u001b[0;34m(self, neptune_graph, requirement_id, reference_targets, pprint)\u001b[0m\n\u001b[1;32m     77\u001b[0m \u001b[0;34m\u001b[0m\u001b[0m\n\u001b[1;32m     78\u001b[0m \u001b[0;34m\u001b[0m\u001b[0m\n\u001b[0;32m---> 79\u001b[0;31m         \u001b[0mallocations\u001b[0m \u001b[0;34m=\u001b[0m \u001b[0mreq_evaluation\u001b[0m\u001b[0;34m.\u001b[0m\u001b[0mallocation_discovery\u001b[0m\u001b[0;34m(\u001b[0m\u001b[0mneptune_graph\u001b[0m\u001b[0;34m)\u001b[0m\u001b[0;34m\u001b[0m\u001b[0;34m\u001b[0m\u001b[0m\n\u001b[0m\u001b[1;32m     80\u001b[0m \u001b[0;34m\u001b[0m\u001b[0m\n\u001b[1;32m     81\u001b[0m         \u001b[0;32mif\u001b[0m \u001b[0mpprint\u001b[0m\u001b[0;34m:\u001b[0m\u001b[0;34m\u001b[0m\u001b[0;34m\u001b[0m\u001b[0m\n",
      "\u001b[0;32m~/cref/mms-autocref/req_analysis/evaluation.py\u001b[0m in \u001b[0;36mallocation_discovery\u001b[0;34m(self, g)\u001b[0m\n\u001b[1;32m    143\u001b[0m         \u001b[0;32mfor\u001b[0m \u001b[0mcandidate\u001b[0m \u001b[0;32min\u001b[0m \u001b[0mallocation_candidate\u001b[0m\u001b[0;34m:\u001b[0m\u001b[0;34m\u001b[0m\u001b[0;34m\u001b[0m\u001b[0m\n\u001b[1;32m    144\u001b[0m \u001b[0;34m\u001b[0m\u001b[0m\n\u001b[0;32m--> 145\u001b[0;31m             \u001b[0mcandidate_neighbors\u001b[0m \u001b[0;34m=\u001b[0m \u001b[0mget_node_neighbors\u001b[0m\u001b[0;34m(\u001b[0m\u001b[0mg\u001b[0m\u001b[0;34m,\u001b[0m \u001b[0mcandidate\u001b[0m\u001b[0;34m.\u001b[0m\u001b[0mreplace\u001b[0m\u001b[0;34m(\u001b[0m\u001b[0;34m'https://opencae.jpl.nasa.gov/mms/rdf/element/'\u001b[0m\u001b[0;34m,\u001b[0m \u001b[0;34m''\u001b[0m\u001b[0;34m)\u001b[0m\u001b[0;34m)\u001b[0m\u001b[0;34m\u001b[0m\u001b[0;34m\u001b[0m\u001b[0m\n\u001b[0m\u001b[1;32m    146\u001b[0m \u001b[0;34m\u001b[0m\u001b[0m\n\u001b[1;32m    147\u001b[0m             \u001b[0;32mfor\u001b[0m \u001b[0mneighbor\u001b[0m \u001b[0;32min\u001b[0m \u001b[0mcandidate_neighbors\u001b[0m\u001b[0;34m:\u001b[0m\u001b[0;34m\u001b[0m\u001b[0;34m\u001b[0m\u001b[0m\n",
      "\u001b[0;32m~/cref/mms-autocref/req_analysis/libs/neptune_wrapper.py\u001b[0m in \u001b[0;36mget_node_neighbors\u001b[0;34m(neptune_instance, node)\u001b[0m\n\u001b[1;32m     35\u001b[0m     \u001b[0;34m'''Returns the one-degree neighbors of a node'''\u001b[0m\u001b[0;34m\u001b[0m\u001b[0;34m\u001b[0m\u001b[0m\n\u001b[1;32m     36\u001b[0m \u001b[0;34m\u001b[0m\u001b[0m\n\u001b[0;32m---> 37\u001b[0;31m     \u001b[0;32mreturn\u001b[0m \u001b[0mneptune_instance\u001b[0m\u001b[0;34m.\u001b[0m\u001b[0mV\u001b[0m\u001b[0;34m(\u001b[0m\u001b[0mnode\u001b[0m\u001b[0;34m)\u001b[0m\u001b[0;34m.\u001b[0m\u001b[0mboth\u001b[0m\u001b[0;34m(\u001b[0m\u001b[0;34m)\u001b[0m\u001b[0;34m.\u001b[0m\u001b[0mtoList\u001b[0m\u001b[0;34m(\u001b[0m\u001b[0;34m)\u001b[0m\u001b[0;34m\u001b[0m\u001b[0;34m\u001b[0m\u001b[0m\n\u001b[0m\u001b[1;32m     38\u001b[0m \u001b[0;34m\u001b[0m\u001b[0m\n\u001b[1;32m     39\u001b[0m \u001b[0;34m\u001b[0m\u001b[0m\n",
      "\u001b[0;32m/usr/local/anaconda3/envs/cref/lib/python3.7/site-packages/gremlin_python/process/traversal.py\u001b[0m in \u001b[0;36mtoList\u001b[0;34m(self)\u001b[0m\n\u001b[1;32m     56\u001b[0m \u001b[0;34m\u001b[0m\u001b[0m\n\u001b[1;32m     57\u001b[0m     \u001b[0;32mdef\u001b[0m \u001b[0mtoList\u001b[0m\u001b[0;34m(\u001b[0m\u001b[0mself\u001b[0m\u001b[0;34m)\u001b[0m\u001b[0;34m:\u001b[0m\u001b[0;34m\u001b[0m\u001b[0;34m\u001b[0m\u001b[0m\n\u001b[0;32m---> 58\u001b[0;31m         \u001b[0;32mreturn\u001b[0m \u001b[0mlist\u001b[0m\u001b[0;34m(\u001b[0m\u001b[0miter\u001b[0m\u001b[0;34m(\u001b[0m\u001b[0mself\u001b[0m\u001b[0;34m)\u001b[0m\u001b[0;34m)\u001b[0m\u001b[0;34m\u001b[0m\u001b[0;34m\u001b[0m\u001b[0m\n\u001b[0m\u001b[1;32m     59\u001b[0m \u001b[0;34m\u001b[0m\u001b[0m\n\u001b[1;32m     60\u001b[0m     \u001b[0;32mdef\u001b[0m \u001b[0mtoSet\u001b[0m\u001b[0;34m(\u001b[0m\u001b[0mself\u001b[0m\u001b[0;34m)\u001b[0m\u001b[0;34m:\u001b[0m\u001b[0;34m\u001b[0m\u001b[0;34m\u001b[0m\u001b[0m\n",
      "\u001b[0;32m/usr/local/anaconda3/envs/cref/lib/python3.7/site-packages/gremlin_python/process/traversal.py\u001b[0m in \u001b[0;36m__next__\u001b[0;34m(self)\u001b[0m\n\u001b[1;32m     46\u001b[0m     \u001b[0;32mdef\u001b[0m \u001b[0m__next__\u001b[0m\u001b[0;34m(\u001b[0m\u001b[0mself\u001b[0m\u001b[0;34m)\u001b[0m\u001b[0;34m:\u001b[0m\u001b[0;34m\u001b[0m\u001b[0;34m\u001b[0m\u001b[0m\n\u001b[1;32m     47\u001b[0m         \u001b[0;32mif\u001b[0m \u001b[0mself\u001b[0m\u001b[0;34m.\u001b[0m\u001b[0mtraversers\u001b[0m \u001b[0;32mis\u001b[0m \u001b[0;32mNone\u001b[0m\u001b[0;34m:\u001b[0m\u001b[0;34m\u001b[0m\u001b[0;34m\u001b[0m\u001b[0m\n\u001b[0;32m---> 48\u001b[0;31m             \u001b[0mself\u001b[0m\u001b[0;34m.\u001b[0m\u001b[0mtraversal_strategies\u001b[0m\u001b[0;34m.\u001b[0m\u001b[0mapply_strategies\u001b[0m\u001b[0;34m(\u001b[0m\u001b[0mself\u001b[0m\u001b[0;34m)\u001b[0m\u001b[0;34m\u001b[0m\u001b[0;34m\u001b[0m\u001b[0m\n\u001b[0m\u001b[1;32m     49\u001b[0m         \u001b[0;32mif\u001b[0m \u001b[0mself\u001b[0m\u001b[0;34m.\u001b[0m\u001b[0mlast_traverser\u001b[0m \u001b[0;32mis\u001b[0m \u001b[0;32mNone\u001b[0m\u001b[0;34m:\u001b[0m\u001b[0;34m\u001b[0m\u001b[0;34m\u001b[0m\u001b[0m\n\u001b[1;32m     50\u001b[0m             \u001b[0mself\u001b[0m\u001b[0;34m.\u001b[0m\u001b[0mlast_traverser\u001b[0m \u001b[0;34m=\u001b[0m \u001b[0mnext\u001b[0m\u001b[0;34m(\u001b[0m\u001b[0mself\u001b[0m\u001b[0;34m.\u001b[0m\u001b[0mtraversers\u001b[0m\u001b[0;34m)\u001b[0m\u001b[0;34m\u001b[0m\u001b[0;34m\u001b[0m\u001b[0m\n",
      "\u001b[0;32m/usr/local/anaconda3/envs/cref/lib/python3.7/site-packages/gremlin_python/process/traversal.py\u001b[0m in \u001b[0;36mapply_strategies\u001b[0;34m(self, traversal)\u001b[0m\n\u001b[1;32m    571\u001b[0m     \u001b[0;32mdef\u001b[0m \u001b[0mapply_strategies\u001b[0m\u001b[0;34m(\u001b[0m\u001b[0mself\u001b[0m\u001b[0;34m,\u001b[0m \u001b[0mtraversal\u001b[0m\u001b[0;34m)\u001b[0m\u001b[0;34m:\u001b[0m\u001b[0;34m\u001b[0m\u001b[0;34m\u001b[0m\u001b[0m\n\u001b[1;32m    572\u001b[0m         \u001b[0;32mfor\u001b[0m \u001b[0mtraversal_strategy\u001b[0m \u001b[0;32min\u001b[0m \u001b[0mself\u001b[0m\u001b[0;34m.\u001b[0m\u001b[0mtraversal_strategies\u001b[0m\u001b[0;34m:\u001b[0m\u001b[0;34m\u001b[0m\u001b[0;34m\u001b[0m\u001b[0m\n\u001b[0;32m--> 573\u001b[0;31m             \u001b[0mtraversal_strategy\u001b[0m\u001b[0;34m.\u001b[0m\u001b[0mapply\u001b[0m\u001b[0;34m(\u001b[0m\u001b[0mtraversal\u001b[0m\u001b[0;34m)\u001b[0m\u001b[0;34m\u001b[0m\u001b[0;34m\u001b[0m\u001b[0m\n\u001b[0m\u001b[1;32m    574\u001b[0m \u001b[0;34m\u001b[0m\u001b[0m\n\u001b[1;32m    575\u001b[0m     \u001b[0;32mdef\u001b[0m \u001b[0mapply_async_strategies\u001b[0m\u001b[0;34m(\u001b[0m\u001b[0mself\u001b[0m\u001b[0;34m,\u001b[0m \u001b[0mtraversal\u001b[0m\u001b[0;34m)\u001b[0m\u001b[0;34m:\u001b[0m\u001b[0;34m\u001b[0m\u001b[0;34m\u001b[0m\u001b[0m\n",
      "\u001b[0;32m/usr/local/anaconda3/envs/cref/lib/python3.7/site-packages/gremlin_python/driver/remote_connection.py\u001b[0m in \u001b[0;36mapply\u001b[0;34m(self, traversal)\u001b[0m\n\u001b[1;32m    147\u001b[0m     \u001b[0;32mdef\u001b[0m \u001b[0mapply\u001b[0m\u001b[0;34m(\u001b[0m\u001b[0mself\u001b[0m\u001b[0;34m,\u001b[0m \u001b[0mtraversal\u001b[0m\u001b[0;34m)\u001b[0m\u001b[0;34m:\u001b[0m\u001b[0;34m\u001b[0m\u001b[0;34m\u001b[0m\u001b[0m\n\u001b[1;32m    148\u001b[0m         \u001b[0;32mif\u001b[0m \u001b[0mtraversal\u001b[0m\u001b[0;34m.\u001b[0m\u001b[0mtraversers\u001b[0m \u001b[0;32mis\u001b[0m \u001b[0;32mNone\u001b[0m\u001b[0;34m:\u001b[0m\u001b[0;34m\u001b[0m\u001b[0;34m\u001b[0m\u001b[0m\n\u001b[0;32m--> 149\u001b[0;31m             \u001b[0mremote_traversal\u001b[0m \u001b[0;34m=\u001b[0m \u001b[0mself\u001b[0m\u001b[0;34m.\u001b[0m\u001b[0mremote_connection\u001b[0m\u001b[0;34m.\u001b[0m\u001b[0msubmit\u001b[0m\u001b[0;34m(\u001b[0m\u001b[0mtraversal\u001b[0m\u001b[0;34m.\u001b[0m\u001b[0mbytecode\u001b[0m\u001b[0;34m)\u001b[0m\u001b[0;34m\u001b[0m\u001b[0;34m\u001b[0m\u001b[0m\n\u001b[0m\u001b[1;32m    150\u001b[0m             \u001b[0mtraversal\u001b[0m\u001b[0;34m.\u001b[0m\u001b[0mremote_results\u001b[0m \u001b[0;34m=\u001b[0m \u001b[0mremote_traversal\u001b[0m\u001b[0;34m\u001b[0m\u001b[0;34m\u001b[0m\u001b[0m\n\u001b[1;32m    151\u001b[0m             \u001b[0mtraversal\u001b[0m\u001b[0;34m.\u001b[0m\u001b[0mside_effects\u001b[0m \u001b[0;34m=\u001b[0m \u001b[0mremote_traversal\u001b[0m\u001b[0;34m.\u001b[0m\u001b[0mside_effects\u001b[0m\u001b[0;34m\u001b[0m\u001b[0;34m\u001b[0m\u001b[0m\n",
      "\u001b[0;32m/usr/local/anaconda3/envs/cref/lib/python3.7/site-packages/gremlin_python/driver/driver_remote_connection.py\u001b[0m in \u001b[0;36msubmit\u001b[0;34m(self, bytecode)\u001b[0m\n\u001b[1;32m     53\u001b[0m \u001b[0;34m\u001b[0m\u001b[0m\n\u001b[1;32m     54\u001b[0m     \u001b[0;32mdef\u001b[0m \u001b[0msubmit\u001b[0m\u001b[0;34m(\u001b[0m\u001b[0mself\u001b[0m\u001b[0;34m,\u001b[0m \u001b[0mbytecode\u001b[0m\u001b[0;34m)\u001b[0m\u001b[0;34m:\u001b[0m\u001b[0;34m\u001b[0m\u001b[0;34m\u001b[0m\u001b[0m\n\u001b[0;32m---> 55\u001b[0;31m         \u001b[0mresult_set\u001b[0m \u001b[0;34m=\u001b[0m \u001b[0mself\u001b[0m\u001b[0;34m.\u001b[0m\u001b[0m_client\u001b[0m\u001b[0;34m.\u001b[0m\u001b[0msubmit\u001b[0m\u001b[0;34m(\u001b[0m\u001b[0mbytecode\u001b[0m\u001b[0;34m)\u001b[0m\u001b[0;34m\u001b[0m\u001b[0;34m\u001b[0m\u001b[0m\n\u001b[0m\u001b[1;32m     56\u001b[0m         \u001b[0mresults\u001b[0m \u001b[0;34m=\u001b[0m \u001b[0mresult_set\u001b[0m\u001b[0;34m.\u001b[0m\u001b[0mall\u001b[0m\u001b[0;34m(\u001b[0m\u001b[0;34m)\u001b[0m\u001b[0;34m.\u001b[0m\u001b[0mresult\u001b[0m\u001b[0;34m(\u001b[0m\u001b[0;34m)\u001b[0m\u001b[0;34m\u001b[0m\u001b[0;34m\u001b[0m\u001b[0m\n\u001b[1;32m     57\u001b[0m         side_effects = RemoteTraversalSideEffects(result_set.request_id, self._client,\n",
      "\u001b[0;32m/usr/local/anaconda3/envs/cref/lib/python3.7/site-packages/gremlin_python/driver/client.py\u001b[0m in \u001b[0;36msubmit\u001b[0;34m(self, message, bindings)\u001b[0m\n\u001b[1;32m    109\u001b[0m \u001b[0;34m\u001b[0m\u001b[0m\n\u001b[1;32m    110\u001b[0m     \u001b[0;32mdef\u001b[0m \u001b[0msubmit\u001b[0m\u001b[0;34m(\u001b[0m\u001b[0mself\u001b[0m\u001b[0;34m,\u001b[0m \u001b[0mmessage\u001b[0m\u001b[0;34m,\u001b[0m \u001b[0mbindings\u001b[0m\u001b[0;34m=\u001b[0m\u001b[0;32mNone\u001b[0m\u001b[0;34m)\u001b[0m\u001b[0;34m:\u001b[0m\u001b[0;34m\u001b[0m\u001b[0;34m\u001b[0m\u001b[0m\n\u001b[0;32m--> 111\u001b[0;31m         \u001b[0;32mreturn\u001b[0m \u001b[0mself\u001b[0m\u001b[0;34m.\u001b[0m\u001b[0msubmitAsync\u001b[0m\u001b[0;34m(\u001b[0m\u001b[0mmessage\u001b[0m\u001b[0;34m,\u001b[0m \u001b[0mbindings\u001b[0m\u001b[0;34m=\u001b[0m\u001b[0mbindings\u001b[0m\u001b[0;34m)\u001b[0m\u001b[0;34m.\u001b[0m\u001b[0mresult\u001b[0m\u001b[0;34m(\u001b[0m\u001b[0;34m)\u001b[0m\u001b[0;34m\u001b[0m\u001b[0;34m\u001b[0m\u001b[0m\n\u001b[0m\u001b[1;32m    112\u001b[0m \u001b[0;34m\u001b[0m\u001b[0m\n\u001b[1;32m    113\u001b[0m     \u001b[0;32mdef\u001b[0m \u001b[0msubmitAsync\u001b[0m\u001b[0;34m(\u001b[0m\u001b[0mself\u001b[0m\u001b[0;34m,\u001b[0m \u001b[0mmessage\u001b[0m\u001b[0;34m,\u001b[0m \u001b[0mbindings\u001b[0m\u001b[0;34m=\u001b[0m\u001b[0;32mNone\u001b[0m\u001b[0;34m)\u001b[0m\u001b[0;34m:\u001b[0m\u001b[0;34m\u001b[0m\u001b[0;34m\u001b[0m\u001b[0m\n",
      "\u001b[0;32m/usr/local/anaconda3/envs/cref/lib/python3.7/site-packages/gremlin_python/driver/client.py\u001b[0m in \u001b[0;36msubmitAsync\u001b[0;34m(self, message, bindings)\u001b[0m\n\u001b[1;32m    125\u001b[0m                 \u001b[0mmessage\u001b[0m\u001b[0;34m.\u001b[0m\u001b[0margs\u001b[0m\u001b[0;34m.\u001b[0m\u001b[0mupdate\u001b[0m\u001b[0;34m(\u001b[0m\u001b[0;34m{\u001b[0m\u001b[0;34m'bindings'\u001b[0m\u001b[0;34m:\u001b[0m \u001b[0mbindings\u001b[0m\u001b[0;34m}\u001b[0m\u001b[0;34m)\u001b[0m\u001b[0;34m\u001b[0m\u001b[0;34m\u001b[0m\u001b[0m\n\u001b[1;32m    126\u001b[0m         \u001b[0mconn\u001b[0m \u001b[0;34m=\u001b[0m \u001b[0mself\u001b[0m\u001b[0;34m.\u001b[0m\u001b[0m_pool\u001b[0m\u001b[0;34m.\u001b[0m\u001b[0mget\u001b[0m\u001b[0;34m(\u001b[0m\u001b[0;32mTrue\u001b[0m\u001b[0;34m)\u001b[0m\u001b[0;34m\u001b[0m\u001b[0;34m\u001b[0m\u001b[0m\n\u001b[0;32m--> 127\u001b[0;31m         \u001b[0;32mreturn\u001b[0m \u001b[0mconn\u001b[0m\u001b[0;34m.\u001b[0m\u001b[0mwrite\u001b[0m\u001b[0;34m(\u001b[0m\u001b[0mmessage\u001b[0m\u001b[0;34m)\u001b[0m\u001b[0;34m\u001b[0m\u001b[0;34m\u001b[0m\u001b[0m\n\u001b[0m",
      "\u001b[0;32m/usr/local/anaconda3/envs/cref/lib/python3.7/site-packages/gremlin_python/driver/connection.py\u001b[0m in \u001b[0;36mwrite\u001b[0;34m(self, request_message)\u001b[0m\n\u001b[1;32m     53\u001b[0m     \u001b[0;32mdef\u001b[0m \u001b[0mwrite\u001b[0m\u001b[0;34m(\u001b[0m\u001b[0mself\u001b[0m\u001b[0;34m,\u001b[0m \u001b[0mrequest_message\u001b[0m\u001b[0;34m)\u001b[0m\u001b[0;34m:\u001b[0m\u001b[0;34m\u001b[0m\u001b[0;34m\u001b[0m\u001b[0m\n\u001b[1;32m     54\u001b[0m         \u001b[0;32mif\u001b[0m \u001b[0;32mnot\u001b[0m \u001b[0mself\u001b[0m\u001b[0;34m.\u001b[0m\u001b[0m_inited\u001b[0m\u001b[0;34m:\u001b[0m\u001b[0;34m\u001b[0m\u001b[0;34m\u001b[0m\u001b[0m\n\u001b[0;32m---> 55\u001b[0;31m             \u001b[0mself\u001b[0m\u001b[0;34m.\u001b[0m\u001b[0mconnect\u001b[0m\u001b[0;34m(\u001b[0m\u001b[0;34m)\u001b[0m\u001b[0;34m\u001b[0m\u001b[0;34m\u001b[0m\u001b[0m\n\u001b[0m\u001b[1;32m     56\u001b[0m         \u001b[0mrequest_id\u001b[0m \u001b[0;34m=\u001b[0m \u001b[0mstr\u001b[0m\u001b[0;34m(\u001b[0m\u001b[0muuid\u001b[0m\u001b[0;34m.\u001b[0m\u001b[0muuid4\u001b[0m\u001b[0;34m(\u001b[0m\u001b[0;34m)\u001b[0m\u001b[0;34m)\u001b[0m\u001b[0;34m\u001b[0m\u001b[0;34m\u001b[0m\u001b[0m\n\u001b[1;32m     57\u001b[0m         \u001b[0mresult_set\u001b[0m \u001b[0;34m=\u001b[0m \u001b[0mresultset\u001b[0m\u001b[0;34m.\u001b[0m\u001b[0mResultSet\u001b[0m\u001b[0;34m(\u001b[0m\u001b[0mqueue\u001b[0m\u001b[0;34m.\u001b[0m\u001b[0mQueue\u001b[0m\u001b[0;34m(\u001b[0m\u001b[0;34m)\u001b[0m\u001b[0;34m,\u001b[0m \u001b[0mrequest_id\u001b[0m\u001b[0;34m)\u001b[0m\u001b[0;34m\u001b[0m\u001b[0;34m\u001b[0m\u001b[0m\n",
      "\u001b[0;32m/usr/local/anaconda3/envs/cref/lib/python3.7/site-packages/gremlin_python/driver/connection.py\u001b[0m in \u001b[0;36mconnect\u001b[0;34m(self)\u001b[0m\n\u001b[1;32m     43\u001b[0m             \u001b[0mself\u001b[0m\u001b[0;34m.\u001b[0m\u001b[0m_transport\u001b[0m\u001b[0;34m.\u001b[0m\u001b[0mclose\u001b[0m\u001b[0;34m(\u001b[0m\u001b[0;34m)\u001b[0m\u001b[0;34m\u001b[0m\u001b[0;34m\u001b[0m\u001b[0m\n\u001b[1;32m     44\u001b[0m         \u001b[0mself\u001b[0m\u001b[0;34m.\u001b[0m\u001b[0m_transport\u001b[0m \u001b[0;34m=\u001b[0m \u001b[0mself\u001b[0m\u001b[0;34m.\u001b[0m\u001b[0m_transport_factory\u001b[0m\u001b[0;34m(\u001b[0m\u001b[0;34m)\u001b[0m\u001b[0;34m\u001b[0m\u001b[0;34m\u001b[0m\u001b[0m\n\u001b[0;32m---> 45\u001b[0;31m         \u001b[0mself\u001b[0m\u001b[0;34m.\u001b[0m\u001b[0m_transport\u001b[0m\u001b[0;34m.\u001b[0m\u001b[0mconnect\u001b[0m\u001b[0;34m(\u001b[0m\u001b[0mself\u001b[0m\u001b[0;34m.\u001b[0m\u001b[0m_url\u001b[0m\u001b[0;34m,\u001b[0m \u001b[0mself\u001b[0m\u001b[0;34m.\u001b[0m\u001b[0m_headers\u001b[0m\u001b[0;34m)\u001b[0m\u001b[0;34m\u001b[0m\u001b[0;34m\u001b[0m\u001b[0m\n\u001b[0m\u001b[1;32m     46\u001b[0m         \u001b[0mself\u001b[0m\u001b[0;34m.\u001b[0m\u001b[0m_protocol\u001b[0m\u001b[0;34m.\u001b[0m\u001b[0mconnection_made\u001b[0m\u001b[0;34m(\u001b[0m\u001b[0mself\u001b[0m\u001b[0;34m.\u001b[0m\u001b[0m_transport\u001b[0m\u001b[0;34m)\u001b[0m\u001b[0;34m\u001b[0m\u001b[0;34m\u001b[0m\u001b[0m\n\u001b[1;32m     47\u001b[0m         \u001b[0mself\u001b[0m\u001b[0;34m.\u001b[0m\u001b[0m_inited\u001b[0m \u001b[0;34m=\u001b[0m \u001b[0;32mTrue\u001b[0m\u001b[0;34m\u001b[0m\u001b[0;34m\u001b[0m\u001b[0m\n",
      "\u001b[0;32m/usr/local/anaconda3/envs/cref/lib/python3.7/site-packages/gremlin_python/driver/tornado/transport.py\u001b[0m in \u001b[0;36mconnect\u001b[0;34m(self, url, headers)\u001b[0m\n\u001b[1;32m     34\u001b[0m             \u001b[0murl\u001b[0m \u001b[0;34m=\u001b[0m \u001b[0mhttpclient\u001b[0m\u001b[0;34m.\u001b[0m\u001b[0mHTTPRequest\u001b[0m\u001b[0;34m(\u001b[0m\u001b[0murl\u001b[0m\u001b[0;34m,\u001b[0m \u001b[0mheaders\u001b[0m\u001b[0;34m=\u001b[0m\u001b[0mheaders\u001b[0m\u001b[0;34m)\u001b[0m\u001b[0;34m\u001b[0m\u001b[0;34m\u001b[0m\u001b[0m\n\u001b[1;32m     35\u001b[0m         self._ws = self._loop.run_sync(\n\u001b[0;32m---> 36\u001b[0;31m             lambda: websocket.websocket_connect(url))\n\u001b[0m\u001b[1;32m     37\u001b[0m \u001b[0;34m\u001b[0m\u001b[0m\n\u001b[1;32m     38\u001b[0m     \u001b[0;32mdef\u001b[0m \u001b[0mwrite\u001b[0m\u001b[0;34m(\u001b[0m\u001b[0mself\u001b[0m\u001b[0;34m,\u001b[0m \u001b[0mmessage\u001b[0m\u001b[0;34m)\u001b[0m\u001b[0;34m:\u001b[0m\u001b[0;34m\u001b[0m\u001b[0;34m\u001b[0m\u001b[0m\n",
      "\u001b[0;32m/usr/local/anaconda3/envs/cref/lib/python3.7/site-packages/tornado/ioloop.py\u001b[0m in \u001b[0;36mrun_sync\u001b[0;34m(self, func, timeout)\u001b[0m\n\u001b[1;32m    456\u001b[0m         \u001b[0;32mif\u001b[0m \u001b[0;32mnot\u001b[0m \u001b[0mfuture_cell\u001b[0m\u001b[0;34m[\u001b[0m\u001b[0;36m0\u001b[0m\u001b[0;34m]\u001b[0m\u001b[0;34m.\u001b[0m\u001b[0mdone\u001b[0m\u001b[0;34m(\u001b[0m\u001b[0;34m)\u001b[0m\u001b[0;34m:\u001b[0m\u001b[0;34m\u001b[0m\u001b[0;34m\u001b[0m\u001b[0m\n\u001b[1;32m    457\u001b[0m             \u001b[0;32mraise\u001b[0m \u001b[0mTimeoutError\u001b[0m\u001b[0;34m(\u001b[0m\u001b[0;34m'Operation timed out after %s seconds'\u001b[0m \u001b[0;34m%\u001b[0m \u001b[0mtimeout\u001b[0m\u001b[0;34m)\u001b[0m\u001b[0;34m\u001b[0m\u001b[0;34m\u001b[0m\u001b[0m\n\u001b[0;32m--> 458\u001b[0;31m         \u001b[0;32mreturn\u001b[0m \u001b[0mfuture_cell\u001b[0m\u001b[0;34m[\u001b[0m\u001b[0;36m0\u001b[0m\u001b[0;34m]\u001b[0m\u001b[0;34m.\u001b[0m\u001b[0mresult\u001b[0m\u001b[0;34m(\u001b[0m\u001b[0;34m)\u001b[0m\u001b[0;34m\u001b[0m\u001b[0;34m\u001b[0m\u001b[0m\n\u001b[0m\u001b[1;32m    459\u001b[0m \u001b[0;34m\u001b[0m\u001b[0m\n\u001b[1;32m    460\u001b[0m     \u001b[0;32mdef\u001b[0m \u001b[0mtime\u001b[0m\u001b[0;34m(\u001b[0m\u001b[0mself\u001b[0m\u001b[0;34m)\u001b[0m\u001b[0;34m:\u001b[0m\u001b[0;34m\u001b[0m\u001b[0;34m\u001b[0m\u001b[0m\n",
      "\u001b[0;32m/usr/local/anaconda3/envs/cref/lib/python3.7/site-packages/tornado/concurrent.py\u001b[0m in \u001b[0;36mresult\u001b[0;34m(self, timeout)\u001b[0m\n\u001b[1;32m    236\u001b[0m         \u001b[0;32mif\u001b[0m \u001b[0mself\u001b[0m\u001b[0;34m.\u001b[0m\u001b[0m_exc_info\u001b[0m \u001b[0;32mis\u001b[0m \u001b[0;32mnot\u001b[0m \u001b[0;32mNone\u001b[0m\u001b[0;34m:\u001b[0m\u001b[0;34m\u001b[0m\u001b[0;34m\u001b[0m\u001b[0m\n\u001b[1;32m    237\u001b[0m             \u001b[0;32mtry\u001b[0m\u001b[0;34m:\u001b[0m\u001b[0;34m\u001b[0m\u001b[0;34m\u001b[0m\u001b[0m\n\u001b[0;32m--> 238\u001b[0;31m                 \u001b[0mraise_exc_info\u001b[0m\u001b[0;34m(\u001b[0m\u001b[0mself\u001b[0m\u001b[0;34m.\u001b[0m\u001b[0m_exc_info\u001b[0m\u001b[0;34m)\u001b[0m\u001b[0;34m\u001b[0m\u001b[0;34m\u001b[0m\u001b[0m\n\u001b[0m\u001b[1;32m    239\u001b[0m             \u001b[0;32mfinally\u001b[0m\u001b[0;34m:\u001b[0m\u001b[0;34m\u001b[0m\u001b[0;34m\u001b[0m\u001b[0m\n\u001b[1;32m    240\u001b[0m                 \u001b[0mself\u001b[0m \u001b[0;34m=\u001b[0m \u001b[0;32mNone\u001b[0m\u001b[0;34m\u001b[0m\u001b[0;34m\u001b[0m\u001b[0m\n",
      "\u001b[0;32m/usr/local/anaconda3/envs/cref/lib/python3.7/site-packages/tornado/util.py\u001b[0m in \u001b[0;36mraise_exc_info\u001b[0;34m(exc_info)\u001b[0m\n",
      "\u001b[0;32m/usr/local/anaconda3/envs/cref/lib/python3.7/site-packages/tornado/stack_context.py\u001b[0m in \u001b[0;36mwrapped\u001b[0;34m(*args, **kwargs)\u001b[0m\n\u001b[1;32m    314\u001b[0m             \u001b[0;32mif\u001b[0m \u001b[0mtop\u001b[0m \u001b[0;32mis\u001b[0m \u001b[0;32mNone\u001b[0m\u001b[0;34m:\u001b[0m\u001b[0;34m\u001b[0m\u001b[0;34m\u001b[0m\u001b[0m\n\u001b[1;32m    315\u001b[0m                 \u001b[0;32mtry\u001b[0m\u001b[0;34m:\u001b[0m\u001b[0;34m\u001b[0m\u001b[0;34m\u001b[0m\u001b[0m\n\u001b[0;32m--> 316\u001b[0;31m                     \u001b[0mret\u001b[0m \u001b[0;34m=\u001b[0m \u001b[0mfn\u001b[0m\u001b[0;34m(\u001b[0m\u001b[0;34m*\u001b[0m\u001b[0margs\u001b[0m\u001b[0;34m,\u001b[0m \u001b[0;34m**\u001b[0m\u001b[0mkwargs\u001b[0m\u001b[0;34m)\u001b[0m\u001b[0;34m\u001b[0m\u001b[0;34m\u001b[0m\u001b[0m\n\u001b[0m\u001b[1;32m    317\u001b[0m                 \u001b[0;32mexcept\u001b[0m\u001b[0;34m:\u001b[0m\u001b[0;34m\u001b[0m\u001b[0;34m\u001b[0m\u001b[0m\n\u001b[1;32m    318\u001b[0m                     \u001b[0mexc\u001b[0m \u001b[0;34m=\u001b[0m \u001b[0msys\u001b[0m\u001b[0;34m.\u001b[0m\u001b[0mexc_info\u001b[0m\u001b[0;34m(\u001b[0m\u001b[0;34m)\u001b[0m\u001b[0;34m\u001b[0m\u001b[0;34m\u001b[0m\u001b[0m\n",
      "\u001b[0;32m/usr/local/anaconda3/envs/cref/lib/python3.7/site-packages/tornado/simple_httpclient.py\u001b[0m in \u001b[0;36m_on_timeout\u001b[0;34m(self, info)\u001b[0m\n\u001b[1;32m    305\u001b[0m         \u001b[0merror_message\u001b[0m \u001b[0;34m=\u001b[0m \u001b[0;34m\"Timeout {0}\"\u001b[0m\u001b[0;34m.\u001b[0m\u001b[0mformat\u001b[0m\u001b[0;34m(\u001b[0m\u001b[0minfo\u001b[0m\u001b[0;34m)\u001b[0m \u001b[0;32mif\u001b[0m \u001b[0minfo\u001b[0m \u001b[0;32melse\u001b[0m \u001b[0;34m\"Timeout\"\u001b[0m\u001b[0;34m\u001b[0m\u001b[0;34m\u001b[0m\u001b[0m\n\u001b[1;32m    306\u001b[0m         \u001b[0;32mif\u001b[0m \u001b[0mself\u001b[0m\u001b[0;34m.\u001b[0m\u001b[0mfinal_callback\u001b[0m \u001b[0;32mis\u001b[0m \u001b[0;32mnot\u001b[0m \u001b[0;32mNone\u001b[0m\u001b[0;34m:\u001b[0m\u001b[0;34m\u001b[0m\u001b[0;34m\u001b[0m\u001b[0m\n\u001b[0;32m--> 307\u001b[0;31m             \u001b[0;32mraise\u001b[0m \u001b[0mHTTPError\u001b[0m\u001b[0;34m(\u001b[0m\u001b[0;36m599\u001b[0m\u001b[0;34m,\u001b[0m \u001b[0merror_message\u001b[0m\u001b[0;34m)\u001b[0m\u001b[0;34m\u001b[0m\u001b[0;34m\u001b[0m\u001b[0m\n\u001b[0m\u001b[1;32m    308\u001b[0m \u001b[0;34m\u001b[0m\u001b[0m\n\u001b[1;32m    309\u001b[0m     \u001b[0;32mdef\u001b[0m \u001b[0m_remove_timeout\u001b[0m\u001b[0;34m(\u001b[0m\u001b[0mself\u001b[0m\u001b[0;34m)\u001b[0m\u001b[0;34m:\u001b[0m\u001b[0;34m\u001b[0m\u001b[0;34m\u001b[0m\u001b[0m\n",
      "\u001b[0;31mHTTPError\u001b[0m: HTTP 599: Timeout during request"
     ]
    },
    {
     "data": {
      "image/png": "[encoded data removed]",
      "text/plain": [
       "<Figure size 432x288 with 1 Axes>"
      ]
     },
     "metadata": {},
     "output_type": "display_data"
    }
   ],
   "source": [
    "g = neptune.graphTraversal()\n",
    "\n",
    "req_evaluation = req_evaluator.evaluate_req_by_id(g, \n",
    "                                 '_4663af6e-6265-438d-87b8-74e1550518bf__906_296b9968-fc8e-4101-950d-cec5eed188a1_asi-slot-_11_5EAPbeta_be00301_1147873226632_528960_2311-slotvalue-0-literalstring', \n",
    "                                 ref_targets,\n",
    "                                 pprint=True)\n",
    "req_evaluation.insert_references(insert_blocks, insert_query)"
   ]
  },
  {
   "cell_type": "markdown",
   "metadata": {},
   "source": [
    " "
   ]
  },
  {
   "cell_type": "markdown",
   "metadata": {},
   "source": [
    "Available methods for `req_evaluation` are:\n",
    "- .get_matches()\n",
    "- .get_allocations()\n",
    "- .display_match_subgrap()"
   ]
  },
  {
   "cell_type": "code",
   "execution_count": 13,
   "metadata": {},
   "outputs": [
    {
     "data": {
      "text/plain": [
       "{117: {'token': {'text': 'the Data Management System',\n",
       "   'pos': 'PROPN',\n",
       "   'token_id': 117},\n",
       "  'model_element': {'uri': 'https://opencae.jpl.nasa.gov/mms/rdf/element/_16566_c270fe21-19e7-4d0d-aa3c-31b76ad6ca8b',\n",
       "   'name': 'Data Management System'},\n",
       "  'score': 0.0013642900507215298},\n",
       " 124: {'token': {'text': 'Executive Software',\n",
       "   'pos': 'PROPN',\n",
       "   'token_id': 124},\n",
       "  'model_element': {'uri': 'https://opencae.jpl.nasa.gov/mms/rdf/element/_17_0_2_3_41e01aa_1382542702961_630808_58999',\n",
       "   'name': 'Executive Software'},\n",
       "  'score': -0.0},\n",
       " 141: {'token': {'text': 'network', 'pos': 'PROPN', 'token_id': 141},\n",
       "  'model_element': {'uri': 'https://opencae.jpl.nasa.gov/mms/rdf/element/_18_0_6_876026b_1478280404909_609058_173008',\n",
       "   'name': 'Network'},\n",
       "  'score': 1.5543122344752193e-17},\n",
       " 144: {'token': {'text': 'networking', 'pos': 'NOUN', 'token_id': 144},\n",
       "  'model_element': {'uri': 'https://opencae.jpl.nasa.gov/mms/rdf/element/MMS_1456189351681_ad25f82c-607f-4103-83b1-75f605015749',\n",
       "   'name': 'Networking'},\n",
       "  'score': -2.2204460492503126e-17}}"
      ]
     },
     "execution_count": 13,
     "metadata": {},
     "output_type": "execute_result"
    }
   ],
   "source": [
    "req_evaluation.get_matches()"
   ]
  },
  {
   "cell_type": "code",
   "execution_count": null,
   "metadata": {},
   "outputs": [],
   "source": []
  },
  {
   "cell_type": "code",
   "execution_count": null,
   "metadata": {},
   "outputs": [],
   "source": [
    "req_evaluator.get_requirement_by_id('_831_331c90b6-9e17-4c46-8530-0fc345e0a22f_asi-slot-_11_5EAPbeta_be00301_1147873226632_528960_2311-slotvalue-0-literalstring')"
   ]
  },
  {
   "cell_type": "code",
   "execution_count": null,
   "metadata": {},
   "outputs": [],
   "source": []
  },
  {
   "cell_type": "code",
   "execution_count": null,
   "metadata": {},
   "outputs": [],
   "source": []
  },
  {
   "cell_type": "code",
   "execution_count": null,
   "metadata": {},
   "outputs": [],
   "source": []
  },
  {
   "cell_type": "code",
   "execution_count": null,
   "metadata": {},
   "outputs": [],
   "source": []
  },
  {
   "cell_type": "markdown",
   "metadata": {},
   "source": [
    "# MISCELLANEOUS "
   ]
  },
  {
   "cell_type": "code",
   "execution_count": 16,
   "metadata": {},
   "outputs": [],
   "source": [
    "summit='_4663af6e-6265-438d-87b8-74e1550518bf__65_6314a138-53b9-42a5-b488-9c23967ed889'\n",
    "enclosure='_18_0_6_f1d0357_1490143302007_461579_179266'\n",
    "mirror='_18_5_2_e64033a_1509475358071_810923_58742'\n",
    "aps_user='_17_0_2_3_41e01aa_1389730769202_855584_72742'\n",
    "aps_mission='_17_0_2_3_41e01aa_1389728637481_651557_61606'\n",
    "usr_part_aps_mission='_17_0_2_3_41e01aa_1389731842407_88153_73842'\n",
    "value_aps_mission='_18_0_2_baa02e2_1421376436201_767368_80540'"
   ]
  },
  {
   "cell_type": "code",
   "execution_count": 17,
   "metadata": {},
   "outputs": [],
   "source": [
    "from req_analysis.libs.neptune_wrapper import get_type_from_part_properties"
   ]
  },
  {
   "cell_type": "code",
   "execution_count": 18,
   "metadata": {},
   "outputs": [
    {
     "name": "stdout",
     "output_type": "stream",
     "text": [
      "gremlin: ws://100.65.51.106:8182/gremlin\n"
     ]
    },
    {
     "data": {
      "text/plain": [
       "[v[_17_0_2_3_41e01aa_1389728637481_651557_61606]]"
      ]
     },
     "execution_count": 18,
     "metadata": {},
     "output_type": "execute_result"
    }
   ],
   "source": [
    "g = neptune.graphTraversal()\n",
    "g.V(aps_mission).toList()"
   ]
  },
  {
   "cell_type": "code",
   "execution_count": null,
   "metadata": {},
   "outputs": [],
   "source": [
    "g = neptune.graphTraversal()\n",
    "get_type_from_part_properties(g, aps_mission)"
   ]
  },
  {
   "cell_type": "code",
   "execution_count": null,
   "metadata": {},
   "outputs": [],
   "source": []
  }
 ],
 "metadata": {
  "kernelspec": {
   "display_name": "Python [conda env:cref]",
   "language": "python",
   "name": "conda-env-cref-py"
  },
  "language_info": {
   "codemirror_mode": {
    "name": "ipython",
    "version": 3
   },
   "file_extension": ".py",
   "mimetype": "text/x-python",
   "name": "python",
   "nbconvert_exporter": "python",
   "pygments_lexer": "ipython3",
   "version": "3.7.6"
  }
 },
 "nbformat": 4,
 "nbformat_minor": 4
}
