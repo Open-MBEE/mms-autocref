{
 "cells": [
  {
   "cell_type": "code",
   "execution_count": 1,
   "metadata": {},
   "outputs": [],
   "source": [
    "%load_ext autoreload\n",
    "%autoreload 2"
   ]
  },
  {
   "cell_type": "code",
   "execution_count": 2,
   "metadata": {},
   "outputs": [],
   "source": [
    "import scipy\n",
    "import time\n",
    "import uuid\n",
    "\n",
    "import matplotlib.pyplot as plt\n",
    "import networkx as nx\n",
    "\n",
    "from SPARQLWrapper import SPARQLWrapper, JSON, POST\n",
    "\n",
    "from req_analysis import *"
   ]
  },
  {
   "cell_type": "markdown",
   "metadata": {},
   "source": [
    "# Initialize connection to Neptune"
   ]
  },
  {
   "cell_type": "code",
   "execution_count": 3,
   "metadata": {},
   "outputs": [
    {
     "name": "stdout",
     "output_type": "stream",
     "text": [
      "env: NEPTUNE_CLUSTER_ENDPOINT=100.65.51.106\n",
      "env: NEPTUNE_CLUSTER_PORT=8182\n",
      "gremlin: ws://100.65.51.106:8182/gremlin\n"
     ]
    }
   ],
   "source": [
    "%run 'req_analysis/libs/neptune-util.py'\n",
    "%env NEPTUNE_CLUSTER_ENDPOINT=100.65.51.106\n",
    "%env NEPTUNE_CLUSTER_PORT=8182\n",
    "g = neptune.graphTraversal()"
   ]
  },
  {
   "cell_type": "markdown",
   "metadata": {},
   "source": [
    "# Evaluation"
   ]
  },
  {
   "cell_type": "code",
   "execution_count": 4,
   "metadata": {},
   "outputs": [],
   "source": [
    "sparql = SPARQLWrapper(\"https://cae-mms-rdf-test-r5-2x.cluster-cw2hjngge6pe.us-gov-west-1.neptune.amazonaws.com:8182/sparql\")"
   ]
  },
  {
   "cell_type": "code",
   "execution_count": 5,
   "metadata": {},
   "outputs": [
    {
     "name": "stdout",
     "output_type": "stream",
     "text": [
      "== Status Code: 200 ==\n",
      "1951 reference targets found.\n"
     ]
    }
   ],
   "source": [
    "ref_targets = ReferenceTargets(sparql)\n",
    "ref_targets.init_table()"
   ]
  },
  {
   "cell_type": "code",
   "execution_count": 6,
   "metadata": {},
   "outputs": [
    {
     "name": "stdout",
     "output_type": "stream",
     "text": [
      "== Status Code: 200 ==\n",
      "3061 requirements found.\n"
     ]
    }
   ],
   "source": [
    "req_evaluator = RequirementEvaluator(sparql)\n",
    "req_evaluator.init_requirement_elements()"
   ]
  },
  {
   "cell_type": "code",
   "execution_count": 7,
   "metadata": {},
   "outputs": [
    {
     "name": "stdout",
     "output_type": "stream",
     "text": [
      "1 / 3061 --- 4.656912088394165 s\n",
      "EVALUATION done for req:  _15397_64fcb480-33b1-42c8-93dc-e2041c7d8d85_asi\n",
      "2 / 3061 --- 17.140485763549805 s\n",
      "EVALUATION done for req:  _13400_7f9c4775-96a4-4133-9e2a-9f52ef601d66_asi\n",
      "3 / 3061 --- 19.804527759552002 s\n",
      "EVALUATION done for req:  _4663af6e-6265-438d-87b8-74e1550518bf__118_b422076b-9c8b-465e-9d85-969809115619_asi\n",
      "4 / 3061 --- 22.162917852401733 s\n",
      "EVALUATION done for req:  _14020_72b4cdd2-ba8f-4a58-b7d2-00385a502204_asi\n",
      "5 / 3061 --- 25.472688674926758 s\n",
      "EVALUATION done for req:  _6661c442-ae86-4f4e-bfeb-45c7062378f6__1067_1d16537d-e7f6-478d-8467-29d1ad3f5f5d_asi\n",
      "6 / 3061 --- 28.315191984176636 s\n",
      "EVALUATION done for req:  _4663af6e-6265-438d-87b8-74e1550518bf__904_c295317b-2503-4078-ad2f-e26578a2e74f_asi\n",
      "WARNING: Same age (0) and same token were merged {'text': 'Alignment and Phasing System', 'pos': 'PROPN', 'token_id': 13, 'whitespace': ' '}\n",
      "7 / 3061 --- 47.891066789627075 s\n",
      "EVALUATION done for req:  _14022_d87f91f3-1b62-447f-bfa0-aea21ee3fe44_asi\n",
      "8 / 3061 --- 51.150611877441406 s\n",
      "EVALUATION done for req:  _14030_4adc63e0-9337-4357-83ac-8c50ef8f24af_asi\n",
      "9 / 3061 --- 53.72979402542114 s\n",
      "EVALUATION done for req:  _8f7cabc1-8e5f-4014-8c9c-7ff7b8b98955__1422_c33ec7ef-4215-441d-8fbe-c851a047e75c_asi\n",
      "10 / 3061 --- 57.68726396560669 s\n",
      "EVALUATION done for req:  _4663af6e-6265-438d-87b8-74e1550518bf__6645_0ac9b87c-b756-460e-8678-6a5826b36cc8_asi\n"
     ]
    }
   ],
   "source": [
    "req_evaluator.evaluate_all_requirements(g, \n",
    "                                        ref_targets, \n",
    "                                        max_evals=10,\n",
    "                                        pprint=False)"
   ]
  },
  {
   "cell_type": "code",
   "execution_count": null,
   "metadata": {},
   "outputs": [],
   "source": []
  }
 ],
 "metadata": {
  "kernelspec": {
   "display_name": "Python 3.7.6 64-bit ('cref': conda)",
   "language": "python",
   "name": "python37664bitcrefconda60993f1b3fc94ad08cb7094813fa06fe"
  },
  "language_info": {
   "codemirror_mode": {
    "name": "ipython",
    "version": 3
   },
   "file_extension": ".py",
   "mimetype": "text/x-python",
   "name": "python",
   "nbconvert_exporter": "python",
   "pygments_lexer": "ipython3",
   "version": "3.7.7"
  }
 },
 "nbformat": 4,
 "nbformat_minor": 4
}
