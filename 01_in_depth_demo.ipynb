{
 "cells": [
  {
   "cell_type": "code",
   "execution_count": 1,
   "metadata": {},
   "outputs": [],
   "source": [
    "%load_ext autoreload\n",
    "%autoreload 2"
   ]
  },
  {
   "cell_type": "code",
   "execution_count": 2,
   "metadata": {},
   "outputs": [],
   "source": [
    "import scipy\n",
    "import time\n",
    "import uuid\n",
    "\n",
    "import matplotlib.pyplot as plt\n",
    "import networkx as nx\n",
    "\n",
    "from SPARQLWrapper import SPARQLWrapper, JSON, POST\n",
    "\n",
    "from req_analysis import *"
   ]
  },
  {
   "cell_type": "markdown",
   "metadata": {},
   "source": [
    "# Initialize connection to Neptune"
   ]
  },
  {
   "cell_type": "code",
   "execution_count": 3,
   "metadata": {},
   "outputs": [
    {
     "name": "stdout",
     "output_type": "stream",
     "text": [
      "env: NEPTUNE_CLUSTER_ENDPOINT=100.65.51.106\n",
      "env: NEPTUNE_CLUSTER_PORT=8182\n",
      "gremlin: ws://100.65.51.106:8182/gremlin\n"
     ]
    }
   ],
   "source": [
    "%run 'req_analysis/libs/neptune-util.py'\n",
    "%env NEPTUNE_CLUSTER_ENDPOINT=100.65.51.106\n",
    "%env NEPTUNE_CLUSTER_PORT=8182\n",
    "g = neptune.graphTraversal()"
   ]
  },
  {
   "cell_type": "markdown",
   "metadata": {},
   "source": [
    "# Initialize evaluation"
   ]
  },
  {
   "cell_type": "code",
   "execution_count": 4,
   "metadata": {},
   "outputs": [],
   "source": [
    "sparql = SPARQLWrapper(\"https://cae-mms-rdf-test-r5-2x.cluster-cw2hjngge6pe.us-gov-west-1.neptune.amazonaws.com:8182/sparql\")"
   ]
  },
  {
   "cell_type": "code",
   "execution_count": 5,
   "metadata": {},
   "outputs": [
    {
     "name": "stdout",
     "output_type": "stream",
     "text": [
      "== Status Code: 200 ==\n",
      "1951 reference targets found.\n"
     ]
    }
   ],
   "source": [
    "ref_targets = ReferenceTarget(sparql)\n",
    "ref_targets.init_table()"
   ]
  },
  {
   "cell_type": "code",
   "execution_count": 6,
   "metadata": {},
   "outputs": [
    {
     "name": "stdout",
     "output_type": "stream",
     "text": [
      "== Status Code: 200 ==\n",
      "3061 requirements found.\n"
     ]
    }
   ],
   "source": [
    "req_evaluator = RequirementEvaluator(sparql)\n",
    "req_evaluator.init_requirement_elements()"
   ]
  },
  {
   "cell_type": "markdown",
   "metadata": {},
   "source": [
    "# Select a requirement\n",
    "Change only `req_id` and verify the content of the requirement with the next cell"
   ]
  },
  {
   "cell_type": "code",
   "execution_count": 7,
   "metadata": {},
   "outputs": [],
   "source": [
    "req_id = '_831_331c90b6-9e17-4c46-8530-0fc345e0a22f_asi'"
   ]
  },
  {
   "cell_type": "code",
   "execution_count": 8,
   "metadata": {},
   "outputs": [
    {
     "data": {
      "text/plain": [
       "{'slot': {'type': 'uri',\n",
       "  'value': 'https://opencae.jpl.nasa.gov/mms/rdf/element/_831_331c90b6-9e17-4c46-8530-0fc345e0a22f_asi-slot-_11_5EAPbeta_be00301_1147873226632_528960_2311'},\n",
       " 'instance': {'type': 'uri',\n",
       "  'value': 'https://opencae.jpl.nasa.gov/mms/rdf/element/_831_331c90b6-9e17-4c46-8530-0fc345e0a22f_asi'},\n",
       " 'valueString': {'type': 'literal',\n",
       "  'value': '<html><body>\\n<span xmlns=\"http://www.w3.org/1999/xhtml\"><strong>[REQ-1-OAD-0185]</strong> The Observatory Safety system decomposition element is defined as follows:<br/>Associated WBS element(s): TMT.TEL.CONT.OSS<br/>The Observatory Safety System (OSS) contributes to the enforcement of safe conditions throughout the summit facility by continuously monitoring the state of connected equipment, systems and sensors and taking appropriate action as soon as an unsafe condition is detected. It is independent from and supplementary to any safety systems and functionality that is contained within individual subsystems. Based on one or more Programmable Logic Controllers (PLCs), it will interface with connected subsystems via a dedicated safety rated fieldbus based on EtherNet/IP; monitor interlock requests and possibly a defined subset of additional signals from all connected subsystems; monitor the emergency stop switches located throughout the summit facility; manage safety interlock enforcement between sub-systems; provide a user interface that provides fault and interlock reporting and reset capabilities: communicate the safety state of all connected subsystems to, at a minimum, the Data Management System (DMS) &amp; Executive Software (ESW).<br/>The OSS includes the Global Safety Controller (GSC), remote I/O modules, the fieldbus network and associated networking components such as switches, a Human-Machine Interface (HMI), racks, enclosures, power supplies, network cabling,  and all associated PLC software. It does not include the Local Safety Controllers, fire suppression systems, emergency lighting or the individual emergency stop buttons’ wiring and mounting hardware. These are the responsibility of the individual subsystems.</span></body></html>'}}"
      ]
     },
     "execution_count": 8,
     "metadata": {},
     "output_type": "execute_result"
    }
   ],
   "source": [
    "req_evaluator.get_requirement_by_id(req_id)"
   ]
  },
  {
   "cell_type": "markdown",
   "metadata": {},
   "source": [
    " "
   ]
  },
  {
   "cell_type": "markdown",
   "metadata": {},
   "source": [
    "<hr>"
   ]
  },
  {
   "cell_type": "markdown",
   "metadata": {},
   "source": [
    "# Analysis"
   ]
  },
  {
   "cell_type": "markdown",
   "metadata": {},
   "source": [
    "The analysis is made through an `Evaluation` object.\\\n",
    "A `RequirementEvaluator` object is just an abstraction layer on top of the `Evaluation`. Its purpose is to reference only the MMS ID of the requirement, and be able to do the whole analysis with a simple function.\n",
    "For the purpose of this notebook (in depth demo), we will interact directly with the `Evaluation` instance."
   ]
  },
  {
   "cell_type": "code",
   "execution_count": 9,
   "metadata": {},
   "outputs": [],
   "source": [
    "req_evaluation = req_evaluator.get_evaluation_by_id(req_id, ref_targets)"
   ]
  },
  {
   "cell_type": "markdown",
   "metadata": {},
   "source": [
    "## **Evaluation.match_tokens()**\n",
    "This function compares each token (generated with [spacy](https://spacy.io/)) against all model elements in ReferenceTargets.\\\n",
    "Every match is returned, i.e. a token can be matched to multiple model elements and a single model element can be matched to multiple tokens."
   ]
  },
  {
   "cell_type": "code",
   "execution_count": 10,
   "metadata": {},
   "outputs": [
    {
     "name": "stdout",
     "output_type": "stream",
     "text": [
      "Token:  the Data Management System\n",
      "Element:  Data Management System\n",
      "URI:  https://opencae.jpl.nasa.gov/mms/rdf/element/_16566_c270fe21-19e7-4d0d-aa3c-31b76ad6ca8b \n",
      "_________\n",
      "Token:  the Data Management System\n",
      "Element:  Data Management System\n",
      "URI:  https://opencae.jpl.nasa.gov/mms/rdf/element/_18_0_5_baa02e2_1450821286717_64577_153095 \n",
      "_________\n",
      "Token:  the Data Management System\n",
      "Element:  Data Management System\n",
      "URI:  https://opencae.jpl.nasa.gov/mms/rdf/element/_18_0_2_876026b_1427661004426_556776_143472 \n",
      "_________\n",
      "Token:  Executive Software\n",
      "Element:  Executive Software\n",
      "URI:  https://opencae.jpl.nasa.gov/mms/rdf/element/_17_0_2_3_41e01aa_1382542702961_630808_58999 \n",
      "_________\n",
      "Token:  network\n",
      "Element:  Network\n",
      "URI:  https://opencae.jpl.nasa.gov/mms/rdf/element/_18_0_6_876026b_1478280404909_609058_173008 \n",
      "_________\n",
      "Token:  networking\n",
      "Element:  Networking\n",
      "URI:  https://opencae.jpl.nasa.gov/mms/rdf/element/MMS_1456189351681_ad25f82c-607f-4103-83b1-75f605015749 \n",
      "_________\n"
     ]
    }
   ],
   "source": [
    "matches, c = req_evaluation.match_tokens(0.0035)\n",
    "for match in matches:\n",
    "    print('Token: ', match['token']['text'])\n",
    "    print('Element: ', match['model_element']['name'])\n",
    "    print('URI: ', match['model_element']['uri'], '\\n_________')"
   ]
  },
  {
   "cell_type": "markdown",
   "metadata": {},
   "source": [
    "## **Evaluation.init_match_subgraph()**\n",
    "This function initializes a subgraph with all matched model elements, and their distance in the SysML model as edges (distance = number of hops for now)."
   ]
  },
  {
   "cell_type": "code",
   "execution_count": 11,
   "metadata": {},
   "outputs": [
    {
     "name": "stdout",
     "output_type": "stream",
     "text": [
      "0 1\n",
      "Timeout: node_distance()\n",
      "DISTANCE: in 3.0036258697509766 s  10\n",
      "_________\n",
      "0 2\n",
      "Timeout: node_distance()\n",
      "DISTANCE: in 3.0032482147216797 s  10\n",
      "_________\n",
      "0 3\n",
      "Timeout: node_distance()\n",
      "DISTANCE: in 3.0010759830474854 s  10\n",
      "_________\n",
      "0 4\n",
      "Timeout: node_distance()\n",
      "DISTANCE: in 3.0055148601531982 s  10\n",
      "_________\n",
      "0 5\n",
      "Timeout: node_distance()\n",
      "DISTANCE: in 3.002563714981079 s  10\n",
      "_________\n",
      "1 2\n",
      "Timeout: node_distance()\n",
      "DISTANCE: in 3.0058650970458984 s  10\n",
      "_________\n",
      "1 3\n",
      "Timeout: node_distance()\n",
      "DISTANCE: in 3.0014560222625732 s  10\n",
      "_________\n",
      "1 4\n",
      "Timeout: node_distance()\n",
      "DISTANCE: in 3.004296064376831 s  10\n",
      "_________\n",
      "1 5\n",
      "Timeout: node_distance()\n",
      "DISTANCE: in 3.0008621215820312 s  10\n",
      "_________\n",
      "2 3\n",
      "Timeout: node_distance()\n",
      "DISTANCE: in 3.004122018814087 s  10\n",
      "_________\n",
      "2 4\n",
      "Timeout: node_distance()\n",
      "DISTANCE: in 3.0040199756622314 s  10\n",
      "_________\n",
      "2 5\n",
      "Timeout: node_distance()\n",
      "DISTANCE: in 3.005218982696533 s  10\n",
      "_________\n",
      "3 4\n",
      "Timeout: node_distance()\n",
      "DISTANCE: in 3.0027618408203125 s  10\n",
      "_________\n",
      "3 5\n",
      "Timeout: node_distance()\n",
      "DISTANCE: in 3.001039981842041 s  10\n",
      "_________\n",
      "4 5\n",
      "Timeout: node_distance()\n",
      "DISTANCE: in 3.002427816390991 s  10\n",
      "_________\n"
     ]
    }
   ],
   "source": [
    "G = req_evaluation.init_match_subgraph(g, pprint=True) "
   ]
  },
  {
   "cell_type": "markdown",
   "metadata": {},
   "source": [
    "### We can visualize the match subgraph"
   ]
  },
  {
   "cell_type": "code",
   "execution_count": 12,
   "metadata": {},
   "outputs": [
    {
     "data": {
      "image/png": "[encoded data removed]",
      "text/plain": [
       "<Figure size 432x288 with 1 Axes>"
      ]
     },
     "metadata": {},
     "output_type": "display_data"
    }
   ],
   "source": [
    "pos = nx.circular_layout(req_evaluation.matches_subgraph)\n",
    "nx.draw_networkx_edge_labels(req_evaluation.matches_subgraph, pos)\n",
    "nx.draw_circular(req_evaluation.matches_subgraph, with_labels=True)"
   ]
  },
  {
   "cell_type": "markdown",
   "metadata": {},
   "source": [
    "## **Evaluation.match_clustering()**\n",
    "Runs a hierarchical clustering on the match subgraph. The goal is to disambiguate if a token were matched to multiple model elements. The supposition is that the earlier a token gets into a cluster (so the closer it is to other model elements that were match), the more relevant it is."
   ]
  },
  {
   "cell_type": "code",
   "execution_count": 13,
   "metadata": {},
   "outputs": [
    {
     "name": "stdout",
     "output_type": "stream",
     "text": [
      "WARNING: Same age (0) and same token were merged {'text': 'the Data Management System', 'pos': 'PROPN', 'token_id': 117, 'whitespace': ' '}\n",
      "Token:  the Data Management System\n",
      "Element:  Data Management System\n",
      "URI:  https://opencae.jpl.nasa.gov/mms/rdf/element/_16566_c270fe21-19e7-4d0d-aa3c-31b76ad6ca8b \n",
      "_________\n",
      "Token:  Executive Software\n",
      "Element:  Executive Software\n",
      "URI:  https://opencae.jpl.nasa.gov/mms/rdf/element/_17_0_2_3_41e01aa_1382542702961_630808_58999 \n",
      "_________\n",
      "Token:  network\n",
      "Element:  Network\n",
      "URI:  https://opencae.jpl.nasa.gov/mms/rdf/element/_18_0_6_876026b_1478280404909_609058_173008 \n",
      "_________\n",
      "Token:  networking\n",
      "Element:  Networking\n",
      "URI:  https://opencae.jpl.nasa.gov/mms/rdf/element/MMS_1456189351681_ad25f82c-607f-4103-83b1-75f605015749 \n",
      "_________\n"
     ]
    }
   ],
   "source": [
    "definitive_matches = req_evaluation.match_clustering()\n",
    "for match in definitive_matches.values():\n",
    "    print('Token: ', match['token']['text'])\n",
    "    print('Element: ', match['model_element']['name'])\n",
    "    print('URI: ', match['model_element']['uri'], '\\n_________')"
   ]
  },
  {
   "cell_type": "markdown",
   "metadata": {},
   "source": [
    "## **Evaluation.allocation_discovery()**\n",
    "Work in progress. Should be able to cluster some matches together if they're close enough, and allocate to the \"main\" match instead."
   ]
  },
  {
   "cell_type": "code",
   "execution_count": 14,
   "metadata": {},
   "outputs": [
    {
     "name": "stdout",
     "output_type": "stream",
     "text": [
      "Data Management System ---> _16566_c270fe21-19e7-4d0d-aa3c-31b76ad6ca8b\n",
      "Executive Software ---> _17_0_2_3_41e01aa_1382542702961_630808_58999\n",
      "Network ---> _18_0_6_876026b_1478280404909_609058_173008\n",
      "Networking ---> MMS_1456189351681_ad25f82c-607f-4103-83b1-75f605015749\n"
     ]
    }
   ],
   "source": [
    "allocations = req_evaluation.allocation_discovery(g)\n",
    "for alloc in allocations:\n",
    "    print(alloc['name'], '--->', alloc['mms_id'])"
   ]
  },
  {
   "cell_type": "markdown",
   "metadata": {},
   "source": [
    "## **Evaluation.init_cref_tags_text()**\n",
    "Recreates the original text with inserted `<cref ...>` tags on the corresponding matches that were found"
   ]
  },
  {
   "cell_type": "code",
   "execution_count": 15,
   "metadata": {},
   "outputs": [
    {
     "data": {
      "text/plain": [
       "'<html><body>\\n<span xmlns=\"http://www.w3.org/1999/xhtml\"><strong>[REQ-1-OAD-0185]</strong> The Observatory Safety system decomposition element is defined as follows:<br/>Associated WBS element(s): TMT.TEL.CONT.OSS<br/>The Observatory Safety System (OSS) contributes to the enforcement of safe conditions throughout the summit facility by continuously monitoring the state of connected equipment, systems and sensors and taking appropriate action as soon as an unsafe condition is detected. It is independent from and supplementary to any safety systems and functionality that is contained within individual subsystems. Based on one or more Programmable Logic Controllers (PLCs), it will interface with connected subsystems via a dedicated safety rated fieldbus based on EtherNet/IP; monitor interlock requests and possibly a defined subset of additional signals from all connected subsystems; monitor the emergency stop switches located throughout the summit facility; manage safety interlock enforcement between sub-systems; provide a user interface that provides fault and interlock reporting and reset capabilities: communicate the safety state of all connected subsystems to, at a minimum, <cref id=\"_16566_c270fe21-19e7-4d0d-aa3c-31b76ad6ca8b\">the Data Management System</cref> (DMS) &amp; <cref id=\"_17_0_2_3_41e01aa_1382542702961_630808_58999\">Executive Software</cref> (ESW).<br/>The OSS includes the Global Safety Controller (GSC), remote I/O modules, the fieldbus <cref id=\"_18_0_6_876026b_1478280404909_609058_173008\">network</cref> and associated <cref id=\"MMS_1456189351681_ad25f82c-607f-4103-83b1-75f605015749\">networking</cref> components such as switches, a Human-Machine Interface (HMI), racks, enclosures, power supplies, network cabling,  and all associated PLC software. It does not include the Local Safety Controllers, fire suppression systems, emergency lighting or the individual emergency stop buttons’ wiring and mounting hardware. These are the responsibility of the individual subsystems.</span></body></html>'"
      ]
     },
     "execution_count": 15,
     "metadata": {},
     "output_type": "execute_result"
    }
   ],
   "source": [
    "req_evaluation.init_cref_tags_text()"
   ]
  },
  {
   "cell_type": "markdown",
   "metadata": {},
   "source": [
    "## **Evaluation.insert_references()**\n",
    "Inserts the references in an output graph for visualization"
   ]
  },
  {
   "cell_type": "code",
   "execution_count": 16,
   "metadata": {},
   "outputs": [
    {
     "data": {
      "text/plain": [
       "b'[\\n{\\n    \"type\" : \"UpdateEvent\",\\n    \"totalElapsedMillis\" : 0,\\n    \"elapsedMillis\" : 0,\\n    \"connFlush\" : 0,\\n    \"batchResolve\" : 0,\\n    \"whereClause\" : 0,\\n    \"deleteClause\" : 0,\\n    \"insertClause\" : 0\\n},\\n{\\n    \"type\" : \"Commit\",\\n    \"totalElapsedMillis\" : 9\\n}\\n]'"
      ]
     },
     "execution_count": 16,
     "metadata": {},
     "output_type": "execute_result"
    }
   ],
   "source": [
    "req_evaluation.insert_references()"
   ]
  },
  {
   "cell_type": "markdown",
   "metadata": {},
   "source": [
    "## **Evaluation.insert_allocations()**\n",
    "Inserts the references in an output graph for visualization"
   ]
  },
  {
   "cell_type": "code",
   "execution_count": 17,
   "metadata": {},
   "outputs": [],
   "source": [
    "req_evaluation.insert_allocations()"
   ]
  },
  {
   "cell_type": "code",
   "execution_count": null,
   "metadata": {},
   "outputs": [],
   "source": []
  }
 ],
 "metadata": {
  "kernelspec": {
   "display_name": "Python [conda env:cref]",
   "language": "python",
   "name": "conda-env-cref-py"
  },
  "language_info": {
   "codemirror_mode": {
    "name": "ipython",
    "version": 3
   },
   "file_extension": ".py",
   "mimetype": "text/x-python",
   "name": "python",
   "nbconvert_exporter": "python",
   "pygments_lexer": "ipython3",
   "version": "3.7.6"
  }
 },
 "nbformat": 4,
 "nbformat_minor": 4
}
